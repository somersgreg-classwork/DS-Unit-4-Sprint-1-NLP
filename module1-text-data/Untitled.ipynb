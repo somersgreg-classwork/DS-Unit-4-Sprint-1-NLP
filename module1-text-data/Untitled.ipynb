{
 "cells": [
  {
   "cell_type": "markdown",
   "id": "8cd5f42e",
   "metadata": {},
   "source": [
    "Notes\n",
    "1.4\n",
    "Learn Reg Expressions.\n",
    "^ means everything but.\n",
    "re library is for Reg Ex\n",
    "normalize and remove commas and break into tokens\n",
    "\n",
    "1.5\n",
    "\n"
   ]
  }
 ],
 "metadata": {
  "kernelspec": {
   "display_name": "U4-S1-NLP (Python3)",
   "language": "python",
   "name": "u4-s1-nlp"
  },
  "language_info": {
   "codemirror_mode": {
    "name": "ipython",
    "version": 3
   },
   "file_extension": ".py",
   "mimetype": "text/x-python",
   "name": "python",
   "nbconvert_exporter": "python",
   "pygments_lexer": "ipython3",
   "version": "3.7.0"
  }
 },
 "nbformat": 4,
 "nbformat_minor": 5
}
