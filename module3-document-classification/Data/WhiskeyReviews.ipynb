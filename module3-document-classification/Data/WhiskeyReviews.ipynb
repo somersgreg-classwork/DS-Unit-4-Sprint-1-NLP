{
 "cells": [
  {
   "cell_type": "markdown",
   "metadata": {},
   "source": [
    "# Whisky Advocate\n",
    "## *Insights from Reviews*\n",
    "\n",
    "What makes a great whiskey? It is a smoky flavor? It is peaty? Is it something else?\n",
    "\n",
    "There isn't a single truth of a great whisky, because tastes vary so much from person to person. However, we can analyze the reviews of experts to see if we can detect patterns in the flavor profiles of 'great' whiskys.\n",
    "\n",
    "Today, you'll see the following things operationalized in python to study great whiskys:\n",
    "* [Web Scraping](#web)\n",
    "* [Data Exploration](#explore)\n",
    "* [Machine Learning](#ml)\n",
    "* [Data Visualization](#viz)\n"
   ]
  },
  {
   "cell_type": "markdown",
   "metadata": {
    "inputHidden": false,
    "outputHidden": false
   },
   "source": [
    "<a id=\"web\"></a>\n",
    "## Web Scraping\n",
    "To gather our review data to understand great whiskeys, we will *scrape* [Whisky Advocate's](http://whiskeyadvocate.com) over 4,00 reviews. We will use python to access the reviews on the web and extract the relevant information from directly from the site's `html`."
   ]
  },
  {
   "cell_type": "code",
   "execution_count": 1,
   "metadata": {
    "collapsed": false,
    "inputHidden": false,
    "jupyter": {
     "outputs_hidden": false
    },
    "outputHidden": false
   },
   "outputs": [],
   "source": [
    "import pandas as pd\n",
    "import requests\n",
    "from bs4 import BeautifulSoup"
   ]
  },
  {
   "cell_type": "code",
   "execution_count": 2,
   "metadata": {
    "collapsed": false,
    "inputHidden": false,
    "jupyter": {
     "outputs_hidden": false
    },
    "outputHidden": false
   },
   "outputs": [],
   "source": [
    "score_range = ['1-100']"
   ]
  },
  {
   "cell_type": "code",
   "execution_count": 3,
   "metadata": {
    "collapsed": false,
    "inputHidden": false,
    "jupyter": {
     "outputs_hidden": false
    },
    "outputHidden": false
   },
   "outputs": [],
   "source": [
    "url = \"http://whiskyadvocate.com/ratings-reviews/?search=&submit=&brand_id=0&rating={}&price=0&category=0&styles_id=0&issue_id=0\""
   ]
  },
  {
   "cell_type": "code",
   "execution_count": 4,
   "metadata": {
    "collapsed": false,
    "inputHidden": false,
    "jupyter": {
     "outputs_hidden": false
    },
    "outputHidden": false
   },
   "outputs": [],
   "source": [
    "urls = [url.format(score) for score in score_range]"
   ]
  },
  {
   "cell_type": "code",
   "execution_count": 5,
   "metadata": {
    "collapsed": false,
    "inputHidden": false,
    "jupyter": {
     "outputs_hidden": false
    },
    "outputHidden": false
   },
   "outputs": [],
   "source": [
    "tags = ['ratingValue', 'name', 'category', 'priceCurrency', \n",
    " 'price', 'description', 'author']\n",
    "\n",
    "def get_review(review):\n",
    "    data = {}\n",
    "    for t in tags:\n",
    "        data[t] = review.find(itemprop=t).text\n",
    "\n",
    "    return data\n",
    "\n",
    "def whiskey(urls):\n",
    "    \n",
    "    whiskey_reviews = list()\n",
    "    \n",
    "    for u in urls:\n",
    "        r = requests.get(u)\n",
    "        \n",
    "        soup = BeautifulSoup(r.text, \"lxml\")\n",
    "        ratings = soup.find(class_=\"ratings-grid-holder\")\n",
    "        \n",
    "        ratings = ratings.find_all(\"article\")\n",
    "        \n",
    "        reviews = [get_review(r) for r in ratings]\n",
    "        \n",
    "        whiskey_reviews += reviews\n",
    "    \n",
    "    return whiskey_reviews"
   ]
  },
  {
   "cell_type": "code",
   "execution_count": 6,
   "metadata": {
    "collapsed": false,
    "inputHidden": false,
    "jupyter": {
     "outputs_hidden": false
    },
    "outputHidden": false
   },
   "outputs": [],
   "source": [
    "data = whiskey(urls)"
   ]
  },
  {
   "cell_type": "code",
   "execution_count": 7,
   "metadata": {
    "collapsed": false,
    "inputHidden": false,
    "jupyter": {
     "outputs_hidden": false
    },
    "outputHidden": false
   },
   "outputs": [
    {
     "data": {
      "text/plain": [
       "{'ratingValue': '97',\n",
       " 'name': 'Johnnie Walker Blue Label, 40%',\n",
       " 'category': 'Blended Scotch Whisky',\n",
       " 'priceCurrency': '$',\n",
       " 'price': '225',\n",
       " 'description': \"\\nMagnificently powerful and intense. Caramels, dried peats, elegant cigar smoke, seeds scraped from vanilla beans, brand new pencils, peppercorn, coriander seeds, and star anise make for a deeply satisfying nosing experience. Silky caramels, bountiful fruits of ripe peach, stewed apple, orange pith, and pervasive smoke with elements of burnt tobacco. An abiding finish of smoke, dry spices, and banoffee pie sweetness. Close to perfection. Editor's Choice\",\n",
       " 'author': 'Jonny McCormick'}"
      ]
     },
     "execution_count": 7,
     "metadata": {},
     "output_type": "execute_result"
    }
   ],
   "source": [
    "data[0]"
   ]
  },
  {
   "cell_type": "code",
   "execution_count": 8,
   "metadata": {
    "collapsed": false,
    "inputHidden": false,
    "jupyter": {
     "outputs_hidden": false
    },
    "outputHidden": false
   },
   "outputs": [],
   "source": [
    "df = pd.DataFrame.from_records(data)"
   ]
  },
  {
   "cell_type": "code",
   "execution_count": 9,
   "metadata": {
    "collapsed": false,
    "inputHidden": false,
    "jupyter": {
     "outputs_hidden": false
    },
    "outputHidden": false
   },
   "outputs": [
    {
     "data": {
      "text/html": [
       "<div>\n",
       "<style scoped>\n",
       "    .dataframe tbody tr th:only-of-type {\n",
       "        vertical-align: middle;\n",
       "    }\n",
       "\n",
       "    .dataframe tbody tr th {\n",
       "        vertical-align: top;\n",
       "    }\n",
       "\n",
       "    .dataframe thead th {\n",
       "        text-align: right;\n",
       "    }\n",
       "</style>\n",
       "<table border=\"1\" class=\"dataframe\">\n",
       "  <thead>\n",
       "    <tr style=\"text-align: right;\">\n",
       "      <th></th>\n",
       "      <th>author</th>\n",
       "      <th>category</th>\n",
       "      <th>description</th>\n",
       "      <th>name</th>\n",
       "      <th>price</th>\n",
       "      <th>priceCurrency</th>\n",
       "      <th>ratingValue</th>\n",
       "    </tr>\n",
       "  </thead>\n",
       "  <tbody>\n",
       "    <tr>\n",
       "      <th>0</th>\n",
       "      <td>Jonny McCormick</td>\n",
       "      <td>Blended Scotch Whisky</td>\n",
       "      <td>\\nMagnificently powerful and intense. Caramels...</td>\n",
       "      <td>Johnnie Walker Blue Label, 40%</td>\n",
       "      <td>225</td>\n",
       "      <td>$</td>\n",
       "      <td>97</td>\n",
       "    </tr>\n",
       "    <tr>\n",
       "      <th>1</th>\n",
       "      <td>John Hansell</td>\n",
       "      <td>Bourbon/Tennessee</td>\n",
       "      <td>\\nA marriage of 13 and 18 year old bourbons. A...</td>\n",
       "      <td>Four Roses Limited Edition Small Batch (2013 R...</td>\n",
       "      <td>85</td>\n",
       "      <td>$</td>\n",
       "      <td>97</td>\n",
       "    </tr>\n",
       "    <tr>\n",
       "      <th>2</th>\n",
       "      <td>John Hansell</td>\n",
       "      <td>Bourbon/Tennessee</td>\n",
       "      <td>\\nThis bottling celebrates master distiller Pa...</td>\n",
       "      <td>Parker's Heritage Collection, 'Golden Annivers...</td>\n",
       "      <td>150.00</td>\n",
       "      <td>$</td>\n",
       "      <td>97</td>\n",
       "    </tr>\n",
       "    <tr>\n",
       "      <th>3</th>\n",
       "      <td>John Hansell</td>\n",
       "      <td>Single Malt Scotch</td>\n",
       "      <td>\\nWhat impresses me most is how this whisky ev...</td>\n",
       "      <td>Black Bowmore 42 year old 1964 vintage, 40.5%</td>\n",
       "      <td>4500</td>\n",
       "      <td>$</td>\n",
       "      <td>97</td>\n",
       "    </tr>\n",
       "    <tr>\n",
       "      <th>4</th>\n",
       "      <td>Dave Broom</td>\n",
       "      <td>Single Malt Scotch</td>\n",
       "      <td>\\nThere have been some legendary Bowmores from...</td>\n",
       "      <td>Bowmore 46 year old (distilled 1964), 42.9%</td>\n",
       "      <td>13500</td>\n",
       "      <td>$</td>\n",
       "      <td>97</td>\n",
       "    </tr>\n",
       "  </tbody>\n",
       "</table>\n",
       "</div>"
      ],
      "text/plain": [
       "            author               category  \\\n",
       "0  Jonny McCormick  Blended Scotch Whisky   \n",
       "1     John Hansell      Bourbon/Tennessee   \n",
       "2     John Hansell      Bourbon/Tennessee   \n",
       "3     John Hansell     Single Malt Scotch   \n",
       "4       Dave Broom     Single Malt Scotch   \n",
       "\n",
       "                                         description  \\\n",
       "0  \\nMagnificently powerful and intense. Caramels...   \n",
       "1  \\nA marriage of 13 and 18 year old bourbons. A...   \n",
       "2  \\nThis bottling celebrates master distiller Pa...   \n",
       "3  \\nWhat impresses me most is how this whisky ev...   \n",
       "4  \\nThere have been some legendary Bowmores from...   \n",
       "\n",
       "                                                name   price priceCurrency  \\\n",
       "0                     Johnnie Walker Blue Label, 40%     225             $   \n",
       "1  Four Roses Limited Edition Small Batch (2013 R...      85             $   \n",
       "2  Parker's Heritage Collection, 'Golden Annivers...  150.00             $   \n",
       "3      Black Bowmore 42 year old 1964 vintage, 40.5%    4500             $   \n",
       "4        Bowmore 46 year old (distilled 1964), 42.9%   13500             $   \n",
       "\n",
       "  ratingValue  \n",
       "0          97  \n",
       "1          97  \n",
       "2          97  \n",
       "3          97  \n",
       "4          97  "
      ]
     },
     "execution_count": 9,
     "metadata": {},
     "output_type": "execute_result"
    }
   ],
   "source": [
    "df.head()"
   ]
  },
  {
   "cell_type": "code",
   "execution_count": 10,
   "metadata": {
    "collapsed": false,
    "inputHidden": false,
    "jupyter": {
     "outputs_hidden": false
    },
    "outputHidden": false
   },
   "outputs": [
    {
     "data": {
      "text/plain": [
       "5109"
      ]
     },
     "execution_count": 10,
     "metadata": {},
     "output_type": "execute_result"
    }
   ],
   "source": [
    "df.shape[0]"
   ]
  },
  {
   "cell_type": "code",
   "execution_count": 11,
   "metadata": {
    "collapsed": false,
    "inputHidden": false,
    "jupyter": {
     "outputs_hidden": false
    },
    "outputHidden": false
   },
   "outputs": [
    {
     "data": {
      "text/plain": [
       "count    5109.000000\n",
       "mean       86.898219\n",
       "std         4.548035\n",
       "min        60.000000\n",
       "25%        84.000000\n",
       "50%        87.000000\n",
       "75%        90.000000\n",
       "max        97.000000\n",
       "Name: ratingValue, dtype: float64"
      ]
     },
     "execution_count": 11,
     "metadata": {},
     "output_type": "execute_result"
    }
   ],
   "source": [
    "df['ratingValue'].astype('int').describe()"
   ]
  },
  {
   "cell_type": "code",
   "execution_count": 12,
   "metadata": {
    "collapsed": false,
    "inputHidden": false,
    "jupyter": {
     "outputs_hidden": false
    },
    "outputHidden": false
   },
   "outputs": [],
   "source": [
    "subset = df['category'].value_counts().index[:4].tolist()"
   ]
  },
  {
   "cell_type": "code",
   "execution_count": 13,
   "metadata": {
    "collapsed": false,
    "inputHidden": false,
    "jupyter": {
     "outputs_hidden": false
    },
    "outputHidden": true
   },
   "outputs": [],
   "source": [
    "df['p2'] = df['price'].astype('str').replace(\",\",\"\").replace(\"$\", \"\")"
   ]
  },
  {
   "cell_type": "code",
   "execution_count": 14,
   "metadata": {
    "collapsed": false,
    "inputHidden": false,
    "jupyter": {
     "outputs_hidden": false
    },
    "outputHidden": false
   },
   "outputs": [
    {
     "ename": "ValueError",
     "evalue": "could not convert string to float: '1,500'",
     "output_type": "error",
     "traceback": [
      "\u001b[0;31m---------------------------------------------------------------------------\u001b[0m",
      "\u001b[0;31mValueError\u001b[0m                                Traceback (most recent call last)",
      "\u001b[0;32m<ipython-input-14-9f30a19f990c>\u001b[0m in \u001b[0;36m<module>\u001b[0;34m\u001b[0m\n\u001b[0;32m----> 1\u001b[0;31m \u001b[0mdf\u001b[0m\u001b[0;34m[\u001b[0m\u001b[0;34m'p2'\u001b[0m\u001b[0;34m]\u001b[0m\u001b[0;34m.\u001b[0m\u001b[0mastype\u001b[0m\u001b[0;34m(\u001b[0m\u001b[0;34m'float'\u001b[0m\u001b[0;34m)\u001b[0m\u001b[0;34m.\u001b[0m\u001b[0mdescribe\u001b[0m\u001b[0;34m(\u001b[0m\u001b[0;34m)\u001b[0m\u001b[0;34m\u001b[0m\u001b[0;34m\u001b[0m\u001b[0m\n\u001b[0m",
      "\u001b[0;32m~/anaconda3/lib/python3.7/site-packages/pandas/core/generic.py\u001b[0m in \u001b[0;36mastype\u001b[0;34m(self, dtype, copy, errors, **kwargs)\u001b[0m\n\u001b[1;32m   5689\u001b[0m             \u001b[0;31m# else, only a single dtype is given\u001b[0m\u001b[0;34m\u001b[0m\u001b[0;34m\u001b[0m\u001b[0;34m\u001b[0m\u001b[0m\n\u001b[1;32m   5690\u001b[0m             new_data = self._data.astype(dtype=dtype, copy=copy, errors=errors,\n\u001b[0;32m-> 5691\u001b[0;31m                                          **kwargs)\n\u001b[0m\u001b[1;32m   5692\u001b[0m             \u001b[0;32mreturn\u001b[0m \u001b[0mself\u001b[0m\u001b[0;34m.\u001b[0m\u001b[0m_constructor\u001b[0m\u001b[0;34m(\u001b[0m\u001b[0mnew_data\u001b[0m\u001b[0;34m)\u001b[0m\u001b[0;34m.\u001b[0m\u001b[0m__finalize__\u001b[0m\u001b[0;34m(\u001b[0m\u001b[0mself\u001b[0m\u001b[0;34m)\u001b[0m\u001b[0;34m\u001b[0m\u001b[0;34m\u001b[0m\u001b[0m\n\u001b[1;32m   5693\u001b[0m \u001b[0;34m\u001b[0m\u001b[0m\n",
      "\u001b[0;32m~/anaconda3/lib/python3.7/site-packages/pandas/core/internals/managers.py\u001b[0m in \u001b[0;36mastype\u001b[0;34m(self, dtype, **kwargs)\u001b[0m\n\u001b[1;32m    529\u001b[0m \u001b[0;34m\u001b[0m\u001b[0m\n\u001b[1;32m    530\u001b[0m     \u001b[0;32mdef\u001b[0m \u001b[0mastype\u001b[0m\u001b[0;34m(\u001b[0m\u001b[0mself\u001b[0m\u001b[0;34m,\u001b[0m \u001b[0mdtype\u001b[0m\u001b[0;34m,\u001b[0m \u001b[0;34m**\u001b[0m\u001b[0mkwargs\u001b[0m\u001b[0;34m)\u001b[0m\u001b[0;34m:\u001b[0m\u001b[0;34m\u001b[0m\u001b[0;34m\u001b[0m\u001b[0m\n\u001b[0;32m--> 531\u001b[0;31m         \u001b[0;32mreturn\u001b[0m \u001b[0mself\u001b[0m\u001b[0;34m.\u001b[0m\u001b[0mapply\u001b[0m\u001b[0;34m(\u001b[0m\u001b[0;34m'astype'\u001b[0m\u001b[0;34m,\u001b[0m \u001b[0mdtype\u001b[0m\u001b[0;34m=\u001b[0m\u001b[0mdtype\u001b[0m\u001b[0;34m,\u001b[0m \u001b[0;34m**\u001b[0m\u001b[0mkwargs\u001b[0m\u001b[0;34m)\u001b[0m\u001b[0;34m\u001b[0m\u001b[0;34m\u001b[0m\u001b[0m\n\u001b[0m\u001b[1;32m    532\u001b[0m \u001b[0;34m\u001b[0m\u001b[0m\n\u001b[1;32m    533\u001b[0m     \u001b[0;32mdef\u001b[0m \u001b[0mconvert\u001b[0m\u001b[0;34m(\u001b[0m\u001b[0mself\u001b[0m\u001b[0;34m,\u001b[0m \u001b[0;34m**\u001b[0m\u001b[0mkwargs\u001b[0m\u001b[0;34m)\u001b[0m\u001b[0;34m:\u001b[0m\u001b[0;34m\u001b[0m\u001b[0;34m\u001b[0m\u001b[0m\n",
      "\u001b[0;32m~/anaconda3/lib/python3.7/site-packages/pandas/core/internals/managers.py\u001b[0m in \u001b[0;36mapply\u001b[0;34m(self, f, axes, filter, do_integrity_check, consolidate, **kwargs)\u001b[0m\n\u001b[1;32m    393\u001b[0m                                             copy=align_copy)\n\u001b[1;32m    394\u001b[0m \u001b[0;34m\u001b[0m\u001b[0m\n\u001b[0;32m--> 395\u001b[0;31m             \u001b[0mapplied\u001b[0m \u001b[0;34m=\u001b[0m \u001b[0mgetattr\u001b[0m\u001b[0;34m(\u001b[0m\u001b[0mb\u001b[0m\u001b[0;34m,\u001b[0m \u001b[0mf\u001b[0m\u001b[0;34m)\u001b[0m\u001b[0;34m(\u001b[0m\u001b[0;34m**\u001b[0m\u001b[0mkwargs\u001b[0m\u001b[0;34m)\u001b[0m\u001b[0;34m\u001b[0m\u001b[0;34m\u001b[0m\u001b[0m\n\u001b[0m\u001b[1;32m    396\u001b[0m             \u001b[0mresult_blocks\u001b[0m \u001b[0;34m=\u001b[0m \u001b[0m_extend_blocks\u001b[0m\u001b[0;34m(\u001b[0m\u001b[0mapplied\u001b[0m\u001b[0;34m,\u001b[0m \u001b[0mresult_blocks\u001b[0m\u001b[0;34m)\u001b[0m\u001b[0;34m\u001b[0m\u001b[0;34m\u001b[0m\u001b[0m\n\u001b[1;32m    397\u001b[0m \u001b[0;34m\u001b[0m\u001b[0m\n",
      "\u001b[0;32m~/anaconda3/lib/python3.7/site-packages/pandas/core/internals/blocks.py\u001b[0m in \u001b[0;36mastype\u001b[0;34m(self, dtype, copy, errors, values, **kwargs)\u001b[0m\n\u001b[1;32m    532\u001b[0m     \u001b[0;32mdef\u001b[0m \u001b[0mastype\u001b[0m\u001b[0;34m(\u001b[0m\u001b[0mself\u001b[0m\u001b[0;34m,\u001b[0m \u001b[0mdtype\u001b[0m\u001b[0;34m,\u001b[0m \u001b[0mcopy\u001b[0m\u001b[0;34m=\u001b[0m\u001b[0;32mFalse\u001b[0m\u001b[0;34m,\u001b[0m \u001b[0merrors\u001b[0m\u001b[0;34m=\u001b[0m\u001b[0;34m'raise'\u001b[0m\u001b[0;34m,\u001b[0m \u001b[0mvalues\u001b[0m\u001b[0;34m=\u001b[0m\u001b[0;32mNone\u001b[0m\u001b[0;34m,\u001b[0m \u001b[0;34m**\u001b[0m\u001b[0mkwargs\u001b[0m\u001b[0;34m)\u001b[0m\u001b[0;34m:\u001b[0m\u001b[0;34m\u001b[0m\u001b[0;34m\u001b[0m\u001b[0m\n\u001b[1;32m    533\u001b[0m         return self._astype(dtype, copy=copy, errors=errors, values=values,\n\u001b[0;32m--> 534\u001b[0;31m                             **kwargs)\n\u001b[0m\u001b[1;32m    535\u001b[0m \u001b[0;34m\u001b[0m\u001b[0m\n\u001b[1;32m    536\u001b[0m     def _astype(self, dtype, copy=False, errors='raise', values=None,\n",
      "\u001b[0;32m~/anaconda3/lib/python3.7/site-packages/pandas/core/internals/blocks.py\u001b[0m in \u001b[0;36m_astype\u001b[0;34m(self, dtype, copy, errors, values, **kwargs)\u001b[0m\n\u001b[1;32m    631\u001b[0m \u001b[0;34m\u001b[0m\u001b[0m\n\u001b[1;32m    632\u001b[0m                     \u001b[0;31m# _astype_nansafe works fine with 1-d only\u001b[0m\u001b[0;34m\u001b[0m\u001b[0;34m\u001b[0m\u001b[0;34m\u001b[0m\u001b[0m\n\u001b[0;32m--> 633\u001b[0;31m                     \u001b[0mvalues\u001b[0m \u001b[0;34m=\u001b[0m \u001b[0mastype_nansafe\u001b[0m\u001b[0;34m(\u001b[0m\u001b[0mvalues\u001b[0m\u001b[0;34m.\u001b[0m\u001b[0mravel\u001b[0m\u001b[0;34m(\u001b[0m\u001b[0;34m)\u001b[0m\u001b[0;34m,\u001b[0m \u001b[0mdtype\u001b[0m\u001b[0;34m,\u001b[0m \u001b[0mcopy\u001b[0m\u001b[0;34m=\u001b[0m\u001b[0;32mTrue\u001b[0m\u001b[0;34m)\u001b[0m\u001b[0;34m\u001b[0m\u001b[0;34m\u001b[0m\u001b[0m\n\u001b[0m\u001b[1;32m    634\u001b[0m \u001b[0;34m\u001b[0m\u001b[0m\n\u001b[1;32m    635\u001b[0m                 \u001b[0;31m# TODO(extension)\u001b[0m\u001b[0;34m\u001b[0m\u001b[0;34m\u001b[0m\u001b[0;34m\u001b[0m\u001b[0m\n",
      "\u001b[0;32m~/anaconda3/lib/python3.7/site-packages/pandas/core/dtypes/cast.py\u001b[0m in \u001b[0;36mastype_nansafe\u001b[0;34m(arr, dtype, copy, skipna)\u001b[0m\n\u001b[1;32m    700\u001b[0m     \u001b[0;32mif\u001b[0m \u001b[0mcopy\u001b[0m \u001b[0;32mor\u001b[0m \u001b[0mis_object_dtype\u001b[0m\u001b[0;34m(\u001b[0m\u001b[0marr\u001b[0m\u001b[0;34m)\u001b[0m \u001b[0;32mor\u001b[0m \u001b[0mis_object_dtype\u001b[0m\u001b[0;34m(\u001b[0m\u001b[0mdtype\u001b[0m\u001b[0;34m)\u001b[0m\u001b[0;34m:\u001b[0m\u001b[0;34m\u001b[0m\u001b[0;34m\u001b[0m\u001b[0m\n\u001b[1;32m    701\u001b[0m         \u001b[0;31m# Explicit copy, or required since NumPy can't view from / to object.\u001b[0m\u001b[0;34m\u001b[0m\u001b[0;34m\u001b[0m\u001b[0;34m\u001b[0m\u001b[0m\n\u001b[0;32m--> 702\u001b[0;31m         \u001b[0;32mreturn\u001b[0m \u001b[0marr\u001b[0m\u001b[0;34m.\u001b[0m\u001b[0mastype\u001b[0m\u001b[0;34m(\u001b[0m\u001b[0mdtype\u001b[0m\u001b[0;34m,\u001b[0m \u001b[0mcopy\u001b[0m\u001b[0;34m=\u001b[0m\u001b[0;32mTrue\u001b[0m\u001b[0;34m)\u001b[0m\u001b[0;34m\u001b[0m\u001b[0;34m\u001b[0m\u001b[0m\n\u001b[0m\u001b[1;32m    703\u001b[0m \u001b[0;34m\u001b[0m\u001b[0m\n\u001b[1;32m    704\u001b[0m     \u001b[0;32mreturn\u001b[0m \u001b[0marr\u001b[0m\u001b[0;34m.\u001b[0m\u001b[0mview\u001b[0m\u001b[0;34m(\u001b[0m\u001b[0mdtype\u001b[0m\u001b[0;34m)\u001b[0m\u001b[0;34m\u001b[0m\u001b[0;34m\u001b[0m\u001b[0m\n",
      "\u001b[0;31mValueError\u001b[0m: could not convert string to float: '1,500'"
     ]
    }
   ],
   "source": [
    "df['p2'].astype('float').describe()"
   ]
  },
  {
   "cell_type": "code",
   "execution_count": 15,
   "metadata": {
    "collapsed": false,
    "inputHidden": false,
    "jupyter": {
     "outputs_hidden": false
    },
    "outputHidden": true
   },
   "outputs": [
    {
     "ename": "ValueError",
     "evalue": "could not convert string to float: '1,500'",
     "output_type": "error",
     "traceback": [
      "\u001b[0;31m---------------------------------------------------------------------------\u001b[0m",
      "\u001b[0;31mValueError\u001b[0m                                Traceback (most recent call last)",
      "\u001b[0;32m<ipython-input-15-1a8fa2959770>\u001b[0m in \u001b[0;36m<module>\u001b[0;34m\u001b[0m\n\u001b[0;32m----> 1\u001b[0;31m \u001b[0mdf\u001b[0m\u001b[0;34m[\u001b[0m\u001b[0;34m'p2'\u001b[0m\u001b[0;34m]\u001b[0m\u001b[0;34m.\u001b[0m\u001b[0mstr\u001b[0m\u001b[0;34m.\u001b[0m\u001b[0mreplace\u001b[0m\u001b[0;34m(\u001b[0m\u001b[0;34m\"$\"\u001b[0m\u001b[0;34m,\u001b[0m \u001b[0;34m\"\"\u001b[0m\u001b[0;34m)\u001b[0m\u001b[0;34m.\u001b[0m\u001b[0mstr\u001b[0m\u001b[0;34m.\u001b[0m\u001b[0mreplace\u001b[0m\u001b[0;34m(\u001b[0m\u001b[0;34m\"/set\"\u001b[0m\u001b[0;34m,\u001b[0m\u001b[0;34m\"\"\u001b[0m\u001b[0;34m)\u001b[0m\u001b[0;34m.\u001b[0m\u001b[0mastype\u001b[0m\u001b[0;34m(\u001b[0m\u001b[0;34m'float'\u001b[0m\u001b[0;34m)\u001b[0m\u001b[0;34m\u001b[0m\u001b[0;34m\u001b[0m\u001b[0m\n\u001b[0m",
      "\u001b[0;32m~/anaconda3/lib/python3.7/site-packages/pandas/core/generic.py\u001b[0m in \u001b[0;36mastype\u001b[0;34m(self, dtype, copy, errors, **kwargs)\u001b[0m\n\u001b[1;32m   5689\u001b[0m             \u001b[0;31m# else, only a single dtype is given\u001b[0m\u001b[0;34m\u001b[0m\u001b[0;34m\u001b[0m\u001b[0;34m\u001b[0m\u001b[0m\n\u001b[1;32m   5690\u001b[0m             new_data = self._data.astype(dtype=dtype, copy=copy, errors=errors,\n\u001b[0;32m-> 5691\u001b[0;31m                                          **kwargs)\n\u001b[0m\u001b[1;32m   5692\u001b[0m             \u001b[0;32mreturn\u001b[0m \u001b[0mself\u001b[0m\u001b[0;34m.\u001b[0m\u001b[0m_constructor\u001b[0m\u001b[0;34m(\u001b[0m\u001b[0mnew_data\u001b[0m\u001b[0;34m)\u001b[0m\u001b[0;34m.\u001b[0m\u001b[0m__finalize__\u001b[0m\u001b[0;34m(\u001b[0m\u001b[0mself\u001b[0m\u001b[0;34m)\u001b[0m\u001b[0;34m\u001b[0m\u001b[0;34m\u001b[0m\u001b[0m\n\u001b[1;32m   5693\u001b[0m \u001b[0;34m\u001b[0m\u001b[0m\n",
      "\u001b[0;32m~/anaconda3/lib/python3.7/site-packages/pandas/core/internals/managers.py\u001b[0m in \u001b[0;36mastype\u001b[0;34m(self, dtype, **kwargs)\u001b[0m\n\u001b[1;32m    529\u001b[0m \u001b[0;34m\u001b[0m\u001b[0m\n\u001b[1;32m    530\u001b[0m     \u001b[0;32mdef\u001b[0m \u001b[0mastype\u001b[0m\u001b[0;34m(\u001b[0m\u001b[0mself\u001b[0m\u001b[0;34m,\u001b[0m \u001b[0mdtype\u001b[0m\u001b[0;34m,\u001b[0m \u001b[0;34m**\u001b[0m\u001b[0mkwargs\u001b[0m\u001b[0;34m)\u001b[0m\u001b[0;34m:\u001b[0m\u001b[0;34m\u001b[0m\u001b[0;34m\u001b[0m\u001b[0m\n\u001b[0;32m--> 531\u001b[0;31m         \u001b[0;32mreturn\u001b[0m \u001b[0mself\u001b[0m\u001b[0;34m.\u001b[0m\u001b[0mapply\u001b[0m\u001b[0;34m(\u001b[0m\u001b[0;34m'astype'\u001b[0m\u001b[0;34m,\u001b[0m \u001b[0mdtype\u001b[0m\u001b[0;34m=\u001b[0m\u001b[0mdtype\u001b[0m\u001b[0;34m,\u001b[0m \u001b[0;34m**\u001b[0m\u001b[0mkwargs\u001b[0m\u001b[0;34m)\u001b[0m\u001b[0;34m\u001b[0m\u001b[0;34m\u001b[0m\u001b[0m\n\u001b[0m\u001b[1;32m    532\u001b[0m \u001b[0;34m\u001b[0m\u001b[0m\n\u001b[1;32m    533\u001b[0m     \u001b[0;32mdef\u001b[0m \u001b[0mconvert\u001b[0m\u001b[0;34m(\u001b[0m\u001b[0mself\u001b[0m\u001b[0;34m,\u001b[0m \u001b[0;34m**\u001b[0m\u001b[0mkwargs\u001b[0m\u001b[0;34m)\u001b[0m\u001b[0;34m:\u001b[0m\u001b[0;34m\u001b[0m\u001b[0;34m\u001b[0m\u001b[0m\n",
      "\u001b[0;32m~/anaconda3/lib/python3.7/site-packages/pandas/core/internals/managers.py\u001b[0m in \u001b[0;36mapply\u001b[0;34m(self, f, axes, filter, do_integrity_check, consolidate, **kwargs)\u001b[0m\n\u001b[1;32m    393\u001b[0m                                             copy=align_copy)\n\u001b[1;32m    394\u001b[0m \u001b[0;34m\u001b[0m\u001b[0m\n\u001b[0;32m--> 395\u001b[0;31m             \u001b[0mapplied\u001b[0m \u001b[0;34m=\u001b[0m \u001b[0mgetattr\u001b[0m\u001b[0;34m(\u001b[0m\u001b[0mb\u001b[0m\u001b[0;34m,\u001b[0m \u001b[0mf\u001b[0m\u001b[0;34m)\u001b[0m\u001b[0;34m(\u001b[0m\u001b[0;34m**\u001b[0m\u001b[0mkwargs\u001b[0m\u001b[0;34m)\u001b[0m\u001b[0;34m\u001b[0m\u001b[0;34m\u001b[0m\u001b[0m\n\u001b[0m\u001b[1;32m    396\u001b[0m             \u001b[0mresult_blocks\u001b[0m \u001b[0;34m=\u001b[0m \u001b[0m_extend_blocks\u001b[0m\u001b[0;34m(\u001b[0m\u001b[0mapplied\u001b[0m\u001b[0;34m,\u001b[0m \u001b[0mresult_blocks\u001b[0m\u001b[0;34m)\u001b[0m\u001b[0;34m\u001b[0m\u001b[0;34m\u001b[0m\u001b[0m\n\u001b[1;32m    397\u001b[0m \u001b[0;34m\u001b[0m\u001b[0m\n",
      "\u001b[0;32m~/anaconda3/lib/python3.7/site-packages/pandas/core/internals/blocks.py\u001b[0m in \u001b[0;36mastype\u001b[0;34m(self, dtype, copy, errors, values, **kwargs)\u001b[0m\n\u001b[1;32m    532\u001b[0m     \u001b[0;32mdef\u001b[0m \u001b[0mastype\u001b[0m\u001b[0;34m(\u001b[0m\u001b[0mself\u001b[0m\u001b[0;34m,\u001b[0m \u001b[0mdtype\u001b[0m\u001b[0;34m,\u001b[0m \u001b[0mcopy\u001b[0m\u001b[0;34m=\u001b[0m\u001b[0;32mFalse\u001b[0m\u001b[0;34m,\u001b[0m \u001b[0merrors\u001b[0m\u001b[0;34m=\u001b[0m\u001b[0;34m'raise'\u001b[0m\u001b[0;34m,\u001b[0m \u001b[0mvalues\u001b[0m\u001b[0;34m=\u001b[0m\u001b[0;32mNone\u001b[0m\u001b[0;34m,\u001b[0m \u001b[0;34m**\u001b[0m\u001b[0mkwargs\u001b[0m\u001b[0;34m)\u001b[0m\u001b[0;34m:\u001b[0m\u001b[0;34m\u001b[0m\u001b[0;34m\u001b[0m\u001b[0m\n\u001b[1;32m    533\u001b[0m         return self._astype(dtype, copy=copy, errors=errors, values=values,\n\u001b[0;32m--> 534\u001b[0;31m                             **kwargs)\n\u001b[0m\u001b[1;32m    535\u001b[0m \u001b[0;34m\u001b[0m\u001b[0m\n\u001b[1;32m    536\u001b[0m     def _astype(self, dtype, copy=False, errors='raise', values=None,\n",
      "\u001b[0;32m~/anaconda3/lib/python3.7/site-packages/pandas/core/internals/blocks.py\u001b[0m in \u001b[0;36m_astype\u001b[0;34m(self, dtype, copy, errors, values, **kwargs)\u001b[0m\n\u001b[1;32m    631\u001b[0m \u001b[0;34m\u001b[0m\u001b[0m\n\u001b[1;32m    632\u001b[0m                     \u001b[0;31m# _astype_nansafe works fine with 1-d only\u001b[0m\u001b[0;34m\u001b[0m\u001b[0;34m\u001b[0m\u001b[0;34m\u001b[0m\u001b[0m\n\u001b[0;32m--> 633\u001b[0;31m                     \u001b[0mvalues\u001b[0m \u001b[0;34m=\u001b[0m \u001b[0mastype_nansafe\u001b[0m\u001b[0;34m(\u001b[0m\u001b[0mvalues\u001b[0m\u001b[0;34m.\u001b[0m\u001b[0mravel\u001b[0m\u001b[0;34m(\u001b[0m\u001b[0;34m)\u001b[0m\u001b[0;34m,\u001b[0m \u001b[0mdtype\u001b[0m\u001b[0;34m,\u001b[0m \u001b[0mcopy\u001b[0m\u001b[0;34m=\u001b[0m\u001b[0;32mTrue\u001b[0m\u001b[0;34m)\u001b[0m\u001b[0;34m\u001b[0m\u001b[0;34m\u001b[0m\u001b[0m\n\u001b[0m\u001b[1;32m    634\u001b[0m \u001b[0;34m\u001b[0m\u001b[0m\n\u001b[1;32m    635\u001b[0m                 \u001b[0;31m# TODO(extension)\u001b[0m\u001b[0;34m\u001b[0m\u001b[0;34m\u001b[0m\u001b[0;34m\u001b[0m\u001b[0m\n",
      "\u001b[0;32m~/anaconda3/lib/python3.7/site-packages/pandas/core/dtypes/cast.py\u001b[0m in \u001b[0;36mastype_nansafe\u001b[0;34m(arr, dtype, copy, skipna)\u001b[0m\n\u001b[1;32m    700\u001b[0m     \u001b[0;32mif\u001b[0m \u001b[0mcopy\u001b[0m \u001b[0;32mor\u001b[0m \u001b[0mis_object_dtype\u001b[0m\u001b[0;34m(\u001b[0m\u001b[0marr\u001b[0m\u001b[0;34m)\u001b[0m \u001b[0;32mor\u001b[0m \u001b[0mis_object_dtype\u001b[0m\u001b[0;34m(\u001b[0m\u001b[0mdtype\u001b[0m\u001b[0;34m)\u001b[0m\u001b[0;34m:\u001b[0m\u001b[0;34m\u001b[0m\u001b[0;34m\u001b[0m\u001b[0m\n\u001b[1;32m    701\u001b[0m         \u001b[0;31m# Explicit copy, or required since NumPy can't view from / to object.\u001b[0m\u001b[0;34m\u001b[0m\u001b[0;34m\u001b[0m\u001b[0;34m\u001b[0m\u001b[0m\n\u001b[0;32m--> 702\u001b[0;31m         \u001b[0;32mreturn\u001b[0m \u001b[0marr\u001b[0m\u001b[0;34m.\u001b[0m\u001b[0mastype\u001b[0m\u001b[0;34m(\u001b[0m\u001b[0mdtype\u001b[0m\u001b[0;34m,\u001b[0m \u001b[0mcopy\u001b[0m\u001b[0;34m=\u001b[0m\u001b[0;32mTrue\u001b[0m\u001b[0;34m)\u001b[0m\u001b[0;34m\u001b[0m\u001b[0;34m\u001b[0m\u001b[0m\n\u001b[0m\u001b[1;32m    703\u001b[0m \u001b[0;34m\u001b[0m\u001b[0m\n\u001b[1;32m    704\u001b[0m     \u001b[0;32mreturn\u001b[0m \u001b[0marr\u001b[0m\u001b[0;34m.\u001b[0m\u001b[0mview\u001b[0m\u001b[0;34m(\u001b[0m\u001b[0mdtype\u001b[0m\u001b[0;34m)\u001b[0m\u001b[0;34m\u001b[0m\u001b[0;34m\u001b[0m\u001b[0m\n",
      "\u001b[0;31mValueError\u001b[0m: could not convert string to float: '1,500'"
     ]
    }
   ],
   "source": [
    "df['p2'].str.replace(\"$\", \"\").str.replace(\"/set\",\"\").astype('float')"
   ]
  },
  {
   "cell_type": "code",
   "execution_count": 16,
   "metadata": {
    "collapsed": false,
    "inputHidden": false,
    "jupyter": {
     "outputs_hidden": false
    },
    "outputHidden": false
   },
   "outputs": [],
   "source": [
    "df['price'] = pd.to_numeric(df['price'], errors='coerce')"
   ]
  },
  {
   "cell_type": "code",
   "execution_count": 18,
   "metadata": {
    "collapsed": false,
    "inputHidden": false,
    "jupyter": {
     "outputs_hidden": false
    },
    "outputHidden": false
   },
   "outputs": [
    {
     "data": {
      "text/plain": [
       "<matplotlib.axes._subplots.AxesSubplot at 0x7fcd3ab85e80>"
      ]
     },
     "execution_count": 18,
     "metadata": {},
     "output_type": "execute_result"
    },
    {
     "data": {
      "image/png": "[encoded data removed]",
      "text/plain": [
       "<Figure size 432x288 with 1 Axes>"
      ]
     },
     "metadata": {
      "needs_background": "light"
     },
     "output_type": "display_data"
    }
   ],
   "source": [
    "import seaborn as sns\n",
    "from locale import atof\n",
    "\n",
    "#df['price'] = df['price'].apply(atof)\n",
    "sns.regplot(x=df[df['price'] < 20000]['ratingValue'].astype('float'), y=df[df['price'] < 20000]['price'])"
   ]
  },
  {
   "cell_type": "code",
   "execution_count": 19,
   "metadata": {
    "collapsed": false,
    "inputHidden": false,
    "jupyter": {
     "outputs_hidden": false
    },
    "outputHidden": false
   },
   "outputs": [],
   "source": [
    "df['pert_alcohol'] = df['name'].apply(lambda x: x.split()[-1][:-1])"
   ]
  },
  {
   "cell_type": "code",
   "execution_count": 20,
   "metadata": {
    "collapsed": false,
    "inputHidden": false,
    "jupyter": {
     "outputs_hidden": false
    },
    "outputHidden": false
   },
   "outputs": [],
   "source": [
    "df['pert_alcohol'] = pd.to_numeric(df['pert_alcohol'], errors='coerce')"
   ]
  },
  {
   "cell_type": "code",
   "execution_count": 22,
   "metadata": {
    "collapsed": false,
    "inputHidden": false,
    "jupyter": {
     "outputs_hidden": false
    },
    "outputHidden": false
   },
   "outputs": [],
   "source": [
    "def  is_it_perct(name):\n",
    "    #print(name)\n",
    "    last_seg = name.split()[-1]\n",
    "    if last_seg[-1:] == \"%\":\n",
    "        return last_seg[:-1]\n",
    "    else:\n",
    "        return None"
   ]
  },
  {
   "cell_type": "code",
   "execution_count": 206,
   "metadata": {
    "collapsed": false,
    "inputHidden": false,
    "jupyter": {
     "outputs_hidden": false
    },
    "outputHidden": false
   },
   "outputs": [],
   "source": [
    "df.loc[df['name'].isnull(), 'name'] = 'Bunnahabhain'"
   ]
  },
  {
   "cell_type": "code",
   "execution_count": 23,
   "metadata": {
    "collapsed": false,
    "inputHidden": false,
    "jupyter": {
     "outputs_hidden": false
    },
    "outputHidden": false
   },
   "outputs": [],
   "source": [
    "df['pert_alcohol'] = df['name'].apply(is_it_perct)\n",
    "df['pert_alcohol'] = pd.to_numeric(df['pert_alcohol'], errors='coerce')"
   ]
  },
  {
   "cell_type": "code",
   "execution_count": 24,
   "metadata": {
    "collapsed": false,
    "inputHidden": false,
    "jupyter": {
     "outputs_hidden": false
    },
    "outputHidden": false
   },
   "outputs": [
    {
     "data": {
      "text/html": [
       "<div>\n",
       "<style scoped>\n",
       "    .dataframe tbody tr th:only-of-type {\n",
       "        vertical-align: middle;\n",
       "    }\n",
       "\n",
       "    .dataframe tbody tr th {\n",
       "        vertical-align: top;\n",
       "    }\n",
       "\n",
       "    .dataframe thead th {\n",
       "        text-align: right;\n",
       "    }\n",
       "</style>\n",
       "<table border=\"1\" class=\"dataframe\">\n",
       "  <thead>\n",
       "    <tr style=\"text-align: right;\">\n",
       "      <th></th>\n",
       "      <th>author</th>\n",
       "      <th>category</th>\n",
       "      <th>description</th>\n",
       "      <th>name</th>\n",
       "      <th>price</th>\n",
       "      <th>priceCurrency</th>\n",
       "      <th>ratingValue</th>\n",
       "      <th>p2</th>\n",
       "      <th>pert_alcohol</th>\n",
       "    </tr>\n",
       "  </thead>\n",
       "  <tbody>\n",
       "    <tr>\n",
       "      <th>0</th>\n",
       "      <td>Jonny McCormick</td>\n",
       "      <td>Blended Scotch Whisky</td>\n",
       "      <td>\\nMagnificently powerful and intense. Caramels...</td>\n",
       "      <td>Johnnie Walker Blue Label, 40%</td>\n",
       "      <td>225.0</td>\n",
       "      <td>$</td>\n",
       "      <td>97</td>\n",
       "      <td>225</td>\n",
       "      <td>40.0</td>\n",
       "    </tr>\n",
       "    <tr>\n",
       "      <th>1</th>\n",
       "      <td>John Hansell</td>\n",
       "      <td>Bourbon/Tennessee</td>\n",
       "      <td>\\nA marriage of 13 and 18 year old bourbons. A...</td>\n",
       "      <td>Four Roses 2013 Limited Edition Small Batch, 5...</td>\n",
       "      <td>85.0</td>\n",
       "      <td>$</td>\n",
       "      <td>97</td>\n",
       "      <td>85</td>\n",
       "      <td>51.5</td>\n",
       "    </tr>\n",
       "    <tr>\n",
       "      <th>2</th>\n",
       "      <td>Dave Broom</td>\n",
       "      <td>Single Malt Scotch</td>\n",
       "      <td>\\nThere have been some legendary Bowmores from...</td>\n",
       "      <td>Bowmore 46 year old (distilled 1964), 42.9%</td>\n",
       "      <td>13500.0</td>\n",
       "      <td>$</td>\n",
       "      <td>97</td>\n",
       "      <td>13500.00</td>\n",
       "      <td>42.9</td>\n",
       "    </tr>\n",
       "    <tr>\n",
       "      <th>3</th>\n",
       "      <td>John Hansell</td>\n",
       "      <td>Bourbon/Tennessee</td>\n",
       "      <td>\\nThis bottling celebrates master distiller Pa...</td>\n",
       "      <td>Parker's Heritage Collection, 'Golden Annivers...</td>\n",
       "      <td>150.0</td>\n",
       "      <td>$</td>\n",
       "      <td>97</td>\n",
       "      <td>150.00</td>\n",
       "      <td>50.0</td>\n",
       "    </tr>\n",
       "    <tr>\n",
       "      <th>4</th>\n",
       "      <td>John Hansell</td>\n",
       "      <td>Single Malt Scotch</td>\n",
       "      <td>\\nWhat impresses me most is how this whisky ev...</td>\n",
       "      <td>Black Bowmore, 1964 vintage, 42 year old, 40.5%</td>\n",
       "      <td>4500.0</td>\n",
       "      <td>$</td>\n",
       "      <td>97</td>\n",
       "      <td>4500.00</td>\n",
       "      <td>40.5</td>\n",
       "    </tr>\n",
       "  </tbody>\n",
       "</table>\n",
       "</div>"
      ],
      "text/plain": [
       "            author               category  \\\n",
       "0  Jonny McCormick  Blended Scotch Whisky   \n",
       "1     John Hansell      Bourbon/Tennessee   \n",
       "2       Dave Broom     Single Malt Scotch   \n",
       "3     John Hansell      Bourbon/Tennessee   \n",
       "4     John Hansell     Single Malt Scotch   \n",
       "\n",
       "                                         description  \\\n",
       "0  \\nMagnificently powerful and intense. Caramels...   \n",
       "1  \\nA marriage of 13 and 18 year old bourbons. A...   \n",
       "2  \\nThere have been some legendary Bowmores from...   \n",
       "3  \\nThis bottling celebrates master distiller Pa...   \n",
       "4  \\nWhat impresses me most is how this whisky ev...   \n",
       "\n",
       "                                                name    price priceCurrency  \\\n",
       "0                     Johnnie Walker Blue Label, 40%    225.0             $   \n",
       "1  Four Roses 2013 Limited Edition Small Batch, 5...     85.0             $   \n",
       "2        Bowmore 46 year old (distilled 1964), 42.9%  13500.0             $   \n",
       "3  Parker's Heritage Collection, 'Golden Annivers...    150.0             $   \n",
       "4    Black Bowmore, 1964 vintage, 42 year old, 40.5%   4500.0             $   \n",
       "\n",
       "  ratingValue        p2  pert_alcohol  \n",
       "0          97       225          40.0  \n",
       "1          97        85          51.5  \n",
       "2          97  13500.00          42.9  \n",
       "3          97    150.00          50.0  \n",
       "4          97   4500.00          40.5  "
      ]
     },
     "execution_count": 24,
     "metadata": {},
     "output_type": "execute_result"
    }
   ],
   "source": [
    "df.head()"
   ]
  },
  {
   "cell_type": "code",
   "execution_count": 25,
   "metadata": {
    "collapsed": false,
    "inputHidden": false,
    "jupyter": {
     "outputs_hidden": false
    },
    "outputHidden": false
   },
   "outputs": [
    {
     "data": {
      "text/plain": [
       "count    4081.000000\n",
       "mean       47.513194\n",
       "std         6.465042\n",
       "min        17.000000\n",
       "25%        43.000000\n",
       "50%        46.000000\n",
       "75%        50.500000\n",
       "max        98.600000\n",
       "Name: pert_alcohol, dtype: float64"
      ]
     },
     "execution_count": 25,
     "metadata": {},
     "output_type": "execute_result"
    }
   ],
   "source": [
    "df['pert_alcohol'].describe()"
   ]
  },
  {
   "cell_type": "code",
   "execution_count": 238,
   "metadata": {
    "collapsed": false,
    "inputHidden": false,
    "jupyter": {
     "outputs_hidden": false
    },
    "outputHidden": false
   },
   "outputs": [
    {
     "name": "stderr",
     "output_type": "stream",
     "text": [
      "/Users/jsokoll/anaconda3/lib/python3.6/site-packages/matplotlib/axes/_axes.py:6462: UserWarning: The 'normed' kwarg is deprecated, and has been replaced by the 'density' kwarg.\n",
      "  warnings.warn(\"The 'normed' kwarg is deprecated, and has been \"\n"
     ]
    },
    {
     "data": {
      "text/plain": [
       "<matplotlib.axes._subplots.AxesSubplot at 0x11c892208>"
      ]
     },
     "execution_count": 238,
     "metadata": {},
     "output_type": "execute_result"
    },
    {
     "data": {
      "image/png": "[encoded data removed]",
      "text/plain": [
       "<Figure size 432x288 with 1 Axes>"
      ]
     },
     "metadata": {},
     "output_type": "display_data"
    }
   ],
   "source": [
    "import seaborn as sns\n",
    "sns.distplot(df[-df['pert_alcohol'].isnull()]['pert_alcohol'], bins=25)"
   ]
  },
  {
   "cell_type": "code",
   "execution_count": 21,
   "metadata": {
    "collapsed": false,
    "inputHidden": false,
    "jupyter": {
     "outputs_hidden": false
    },
    "outputHidden": false
   },
   "outputs": [
    {
     "data": {
      "text/plain": [
       "<matplotlib.axes._subplots.AxesSubplot at 0x7fcd2a93c940>"
      ]
     },
     "execution_count": 21,
     "metadata": {},
     "output_type": "execute_result"
    },
    {
     "data": {
      "image/png": "[encoded data removed]",
      "text/plain": [
       "<Figure size 432x288 with 1 Axes>"
      ]
     },
     "metadata": {
      "needs_background": "light"
     },
     "output_type": "display_data"
    }
   ],
   "source": [
    "sns.distplot(df['ratingValue'].astype('float'), bins=10)"
   ]
  },
  {
   "cell_type": "code",
   "execution_count": 25,
   "metadata": {},
   "outputs": [
    {
     "data": {
      "text/html": [
       "<div>\n",
       "<style scoped>\n",
       "    .dataframe tbody tr th:only-of-type {\n",
       "        vertical-align: middle;\n",
       "    }\n",
       "\n",
       "    .dataframe tbody tr th {\n",
       "        vertical-align: top;\n",
       "    }\n",
       "\n",
       "    .dataframe thead th {\n",
       "        text-align: right;\n",
       "    }\n",
       "</style>\n",
       "<table border=\"1\" class=\"dataframe\">\n",
       "  <thead>\n",
       "    <tr style=\"text-align: right;\">\n",
       "      <th></th>\n",
       "      <th>author</th>\n",
       "      <th>category</th>\n",
       "      <th>description</th>\n",
       "      <th>name</th>\n",
       "      <th>price</th>\n",
       "      <th>priceCurrency</th>\n",
       "      <th>ratingValue</th>\n",
       "      <th>p2</th>\n",
       "      <th>pert_alcohol</th>\n",
       "    </tr>\n",
       "  </thead>\n",
       "  <tbody>\n",
       "    <tr>\n",
       "      <th>0</th>\n",
       "      <td>Jonny McCormick</td>\n",
       "      <td>Blended Scotch Whisky</td>\n",
       "      <td>\\nMagnificently powerful and intense. Caramels...</td>\n",
       "      <td>Johnnie Walker Blue Label, 40%</td>\n",
       "      <td>225.0</td>\n",
       "      <td>$</td>\n",
       "      <td>97</td>\n",
       "      <td>225</td>\n",
       "      <td>40.0</td>\n",
       "    </tr>\n",
       "    <tr>\n",
       "      <th>1</th>\n",
       "      <td>John Hansell</td>\n",
       "      <td>Bourbon/Tennessee</td>\n",
       "      <td>\\nA marriage of 13 and 18 year old bourbons. A...</td>\n",
       "      <td>Four Roses Limited Edition Small Batch (2013 R...</td>\n",
       "      <td>85.0</td>\n",
       "      <td>$</td>\n",
       "      <td>97</td>\n",
       "      <td>85</td>\n",
       "      <td>51.5</td>\n",
       "    </tr>\n",
       "    <tr>\n",
       "      <th>2</th>\n",
       "      <td>John Hansell</td>\n",
       "      <td>Bourbon/Tennessee</td>\n",
       "      <td>\\nThis bottling celebrates master distiller Pa...</td>\n",
       "      <td>Parker's Heritage Collection, 'Golden Annivers...</td>\n",
       "      <td>150.0</td>\n",
       "      <td>$</td>\n",
       "      <td>97</td>\n",
       "      <td>150.00</td>\n",
       "      <td>50.0</td>\n",
       "    </tr>\n",
       "    <tr>\n",
       "      <th>3</th>\n",
       "      <td>John Hansell</td>\n",
       "      <td>Single Malt Scotch</td>\n",
       "      <td>\\nWhat impresses me most is how this whisky ev...</td>\n",
       "      <td>Black Bowmore 42 year old 1964 vintage, 40.5%</td>\n",
       "      <td>4500.0</td>\n",
       "      <td>$</td>\n",
       "      <td>97</td>\n",
       "      <td>4500</td>\n",
       "      <td>40.5</td>\n",
       "    </tr>\n",
       "    <tr>\n",
       "      <th>4</th>\n",
       "      <td>Dave Broom</td>\n",
       "      <td>Single Malt Scotch</td>\n",
       "      <td>\\nThere have been some legendary Bowmores from...</td>\n",
       "      <td>Bowmore 46 year old (distilled 1964), 42.9%</td>\n",
       "      <td>13500.0</td>\n",
       "      <td>$</td>\n",
       "      <td>97</td>\n",
       "      <td>13500</td>\n",
       "      <td>42.9</td>\n",
       "    </tr>\n",
       "  </tbody>\n",
       "</table>\n",
       "</div>"
      ],
      "text/plain": [
       "            author               category  \\\n",
       "0  Jonny McCormick  Blended Scotch Whisky   \n",
       "1     John Hansell      Bourbon/Tennessee   \n",
       "2     John Hansell      Bourbon/Tennessee   \n",
       "3     John Hansell     Single Malt Scotch   \n",
       "4       Dave Broom     Single Malt Scotch   \n",
       "\n",
       "                                         description  \\\n",
       "0  \\nMagnificently powerful and intense. Caramels...   \n",
       "1  \\nA marriage of 13 and 18 year old bourbons. A...   \n",
       "2  \\nThis bottling celebrates master distiller Pa...   \n",
       "3  \\nWhat impresses me most is how this whisky ev...   \n",
       "4  \\nThere have been some legendary Bowmores from...   \n",
       "\n",
       "                                                name    price priceCurrency  \\\n",
       "0                     Johnnie Walker Blue Label, 40%    225.0             $   \n",
       "1  Four Roses Limited Edition Small Batch (2013 R...     85.0             $   \n",
       "2  Parker's Heritage Collection, 'Golden Annivers...    150.0             $   \n",
       "3      Black Bowmore 42 year old 1964 vintage, 40.5%   4500.0             $   \n",
       "4        Bowmore 46 year old (distilled 1964), 42.9%  13500.0             $   \n",
       "\n",
       "   ratingValue      p2  pert_alcohol  \n",
       "0           97     225          40.0  \n",
       "1           97      85          51.5  \n",
       "2           97  150.00          50.0  \n",
       "3           97    4500          40.5  \n",
       "4           97   13500          42.9  "
      ]
     },
     "execution_count": 25,
     "metadata": {},
     "output_type": "execute_result"
    }
   ],
   "source": [
    "df['ratingValue'] = df['ratingValue'].astype(int)\n",
    "df.head()"
   ]
  },
  {
   "cell_type": "code",
   "execution_count": 26,
   "metadata": {},
   "outputs": [],
   "source": [
    "conditions = [\n",
    "    (df['ratingValue'] >= 95),\n",
    "    (df['ratingValue'] >= 85) & (df['ratingValue'] < 95),\n",
    "    (df['ratingValue'] <= 75)]\n",
    "\n",
    "choices = [0, 1, 2]\n",
    "\n",
    "df['ratingCategory'] = np.select(conditions, choices)\n"
   ]
  },
  {
   "cell_type": "code",
   "execution_count": 29,
   "metadata": {},
   "outputs": [],
   "source": [
    "df = df[['description', 'ratingCategory']]"
   ]
  },
  {
   "cell_type": "code",
   "execution_count": 30,
   "metadata": {},
   "outputs": [],
   "source": [
    "from sklearn.model_selection import train_test_split\n",
    "\n",
    "train, test = train_test_split(df, test_size=0.2)"
   ]
  },
  {
   "cell_type": "code",
   "execution_count": 33,
   "metadata": {},
   "outputs": [
    {
     "name": "stdout",
     "output_type": "stream",
     "text": [
      "(4087, 2)\n",
      "(1022, 2)\n"
     ]
    }
   ],
   "source": [
    "print(train.shape)\n",
    "print(test.shape)"
   ]
  },
  {
   "cell_type": "code",
   "execution_count": 34,
   "metadata": {},
   "outputs": [],
   "source": [
    "import numpy as np\n",
    "sample = test.copy()\n",
    "sample['ratingCategory'] = np.random.choice([0,1,2])"
   ]
  },
  {
   "cell_type": "code",
   "execution_count": 36,
   "metadata": {},
   "outputs": [],
   "source": [
    "train.to_csv('train.csv', header=True, index=True, index_label='id')\n",
    "test[['description']].to_csv('test.csv', header=True, index=True, index_label='id')\n",
    "test[['ratingCategory']].to_csv('solution_file.csv', header=True, index=True, index_label='id')\n",
    "sample[['ratingCategory']].to_csv('sample_submission.csv', header=True, index=True, index_label='id')"
   ]
  },
  {
   "cell_type": "code",
   "execution_count": 22,
   "metadata": {
    "collapsed": false,
    "inputHidden": false,
    "jupyter": {
     "outputs_hidden": false
    },
    "outputHidden": false
   },
   "outputs": [
    {
     "data": {
      "image/png": "[encoded data removed]",
      "text/plain": [
       "<Figure size 432x288 with 1 Axes>"
      ]
     },
     "metadata": {
      "needs_background": "light"
     },
     "output_type": "display_data"
    }
   ],
   "source": [
    "import numpy as np\n",
    "import matplotlib.pyplot as plt\n",
    "\n",
    "types = df['category'].value_counts()[:9]\n",
    "\n",
    "height = types.tolist()\n",
    "bars = types.index.tolist()\n",
    "y_pos = np.arange(len(bars))\n",
    "\n",
    "plt.bar(y_pos, height)\n",
    "plt.xticks(y_pos, bars, rotation='vertical')\n",
    "\n",
    "plt.show()"
   ]
  },
  {
   "cell_type": "code",
   "execution_count": 240,
   "metadata": {
    "collapsed": false,
    "inputHidden": false,
    "jupyter": {
     "outputs_hidden": false
    },
    "outputHidden": false
   },
   "outputs": [
    {
     "data": {
      "text/plain": [
       "['author',\n",
       " 'category',\n",
       " 'description',\n",
       " 'name',\n",
       " 'price',\n",
       " 'priceCurrency',\n",
       " 'ratingValue',\n",
       " 'p2',\n",
       " 'pert_alcohol']"
      ]
     },
     "execution_count": 240,
     "metadata": {},
     "output_type": "execute_result"
    }
   ],
   "source": [
    "list(df)"
   ]
  },
  {
   "cell_type": "code",
   "execution_count": 22,
   "metadata": {
    "collapsed": false,
    "inputHidden": false,
    "jupyter": {
     "outputs_hidden": false
    },
    "outputHidden": false
   },
   "outputs": [],
   "source": [
    "from sklearn.feature_extraction.text import TfidfVectorizer"
   ]
  },
  {
   "cell_type": "code",
   "execution_count": 23,
   "metadata": {
    "collapsed": false,
    "inputHidden": false,
    "jupyter": {
     "outputs_hidden": false
    },
    "outputHidden": false
   },
   "outputs": [],
   "source": [
    "desc = pd.read_csv('WhiskyFlavorDescriptors.csv', header=None)"
   ]
  },
  {
   "cell_type": "code",
   "execution_count": 8,
   "metadata": {
    "collapsed": false,
    "inputHidden": false,
    "jupyter": {
     "outputs_hidden": false
    },
    "outputHidden": false
   },
   "outputs": [
    {
     "data": {
      "text/html": [
       "<div>\n",
       "<style scoped>\n",
       "    .dataframe tbody tr th:only-of-type {\n",
       "        vertical-align: middle;\n",
       "    }\n",
       "\n",
       "    .dataframe tbody tr th {\n",
       "        vertical-align: top;\n",
       "    }\n",
       "\n",
       "    .dataframe thead th {\n",
       "        text-align: right;\n",
       "    }\n",
       "</style>\n",
       "<table border=\"1\" class=\"dataframe\">\n",
       "  <thead>\n",
       "    <tr style=\"text-align: right;\">\n",
       "      <th></th>\n",
       "      <th>0</th>\n",
       "    </tr>\n",
       "  </thead>\n",
       "  <tbody>\n",
       "    <tr>\n",
       "      <th>0</th>\n",
       "      <td>dignified</td>\n",
       "    </tr>\n",
       "    <tr>\n",
       "      <th>1</th>\n",
       "      <td>youthful</td>\n",
       "    </tr>\n",
       "    <tr>\n",
       "      <th>2</th>\n",
       "      <td>soft</td>\n",
       "    </tr>\n",
       "    <tr>\n",
       "      <th>3</th>\n",
       "      <td>firm</td>\n",
       "    </tr>\n",
       "    <tr>\n",
       "      <th>4</th>\n",
       "      <td>dry</td>\n",
       "    </tr>\n",
       "  </tbody>\n",
       "</table>\n",
       "</div>"
      ],
      "text/plain": [
       "           0\n",
       "0  dignified\n",
       "1   youthful\n",
       "2       soft\n",
       "3       firm\n",
       "4        dry"
      ]
     },
     "execution_count": 8,
     "metadata": {},
     "output_type": "execute_result"
    }
   ],
   "source": [
    "desc.head()"
   ]
  },
  {
   "cell_type": "code",
   "execution_count": 181,
   "metadata": {
    "collapsed": false,
    "inputHidden": false,
    "jupyter": {
     "outputs_hidden": false
    },
    "outputHidden": false
   },
   "outputs": [],
   "source": [
    "vocab = set(desc[0])\n",
    "vocab = {gram:index_ for index_, gram in enumerate(vocab)}"
   ]
  },
  {
   "cell_type": "code",
   "execution_count": 183,
   "metadata": {
    "collapsed": false,
    "inputHidden": false,
    "jupyter": {
     "outputs_hidden": false
    },
    "outputHidden": false
   },
   "outputs": [],
   "source": [
    "v1 = TfidfVectorizer(stop_words='english', max_features=6000, \n",
    "                       min_df=5, max_df=.8, ngram_range=(1,3))\n",
    "X1 = v1.fit_transform(df['description'])"
   ]
  },
  {
   "cell_type": "code",
   "execution_count": 246,
   "metadata": {
    "collapsed": false,
    "inputHidden": false,
    "jupyter": {
     "outputs_hidden": false
    },
    "outputHidden": false
   },
   "outputs": [
    {
     "data": {
      "text/plain": [
       "5883"
      ]
     },
     "execution_count": 246,
     "metadata": {},
     "output_type": "execute_result"
    }
   ],
   "source": [
    "len(set(v1.get_feature_names()).difference(set(vocab.keys())))"
   ]
  },
  {
   "cell_type": "code",
   "execution_count": 247,
   "metadata": {
    "collapsed": false,
    "inputHidden": false,
    "jupyter": {
     "outputs_hidden": false
    },
    "outputHidden": false
   },
   "outputs": [
    {
     "data": {
      "text/plain": [
       "<1x6000 sparse matrix of type '<class 'numpy.float64'>'\n",
       "\twith 2 stored elements in Compressed Sparse Row format>"
      ]
     },
     "execution_count": 247,
     "metadata": {},
     "output_type": "execute_result"
    }
   ],
   "source": [
    "v1.transform([\"peaty smokey citrus\"])"
   ]
  },
  {
   "cell_type": "code",
   "execution_count": 184,
   "metadata": {
    "collapsed": false,
    "inputHidden": false,
    "jupyter": {
     "outputs_hidden": false
    },
    "outputHidden": false
   },
   "outputs": [],
   "source": [
    "ext_vocab = set(v1.get_feature_names()).intersection(set(vocab.keys()))\n",
    "ext_vocab = {gram:index_ for index_, gram in enumerate(ext_vocab)}"
   ]
  },
  {
   "cell_type": "code",
   "execution_count": 185,
   "metadata": {
    "collapsed": false,
    "inputHidden": false,
    "jupyter": {
     "outputs_hidden": false
    },
    "outputHidden": false
   },
   "outputs": [],
   "source": [
    "vect = TfidfVectorizer(stop_words='english', max_features=6000, \n",
    "                       min_df=5, max_df=.8, ngram_range=(1,3),\n",
    "                      vocabulary=ext_vocab, norm='l1')\n",
    "X = vect.fit_transform(df['description'])"
   ]
  },
  {
   "cell_type": "code",
   "execution_count": 186,
   "metadata": {
    "collapsed": false,
    "inputHidden": false,
    "jupyter": {
     "outputs_hidden": false
    },
    "outputHidden": false
   },
   "outputs": [
    {
     "data": {
      "text/plain": [
       "matrix([[0.        , 0.        , 0.        , ..., 0.        , 0.        ,\n",
       "         0.        ],\n",
       "        [0.        , 0.        , 0.        , ..., 0.        , 0.        ,\n",
       "         0.        ],\n",
       "        [0.        , 0.        , 0.        , ..., 0.        , 0.        ,\n",
       "         0.        ],\n",
       "        ...,\n",
       "        [0.        , 0.        , 0.        , ..., 0.        , 0.        ,\n",
       "         0.42342042],\n",
       "        [0.        , 0.        , 0.        , ..., 0.        , 0.        ,\n",
       "         0.        ],\n",
       "        [0.        , 0.        , 0.        , ..., 0.        , 0.        ,\n",
       "         0.        ]])"
      ]
     },
     "execution_count": 186,
     "metadata": {},
     "output_type": "execute_result"
    }
   ],
   "source": [
    "X.todense()"
   ]
  },
  {
   "cell_type": "code",
   "execution_count": 187,
   "metadata": {
    "collapsed": false,
    "inputHidden": false,
    "jupyter": {
     "outputs_hidden": false
    },
    "outputHidden": false
   },
   "outputs": [
    {
     "data": {
      "text/plain": [
       "(4159, 117)"
      ]
     },
     "execution_count": 187,
     "metadata": {},
     "output_type": "execute_result"
    }
   ],
   "source": [
    "X.shape"
   ]
  },
  {
   "cell_type": "code",
   "execution_count": 188,
   "metadata": {
    "collapsed": false,
    "inputHidden": false,
    "jupyter": {
     "outputs_hidden": false
    },
    "outputHidden": false
   },
   "outputs": [
    {
     "data": {
      "text/plain": [
       "['cork',\n",
       " 'musty',\n",
       " 'peppery',\n",
       " 'balanced',\n",
       " 'coal',\n",
       " 'dry',\n",
       " 'citric',\n",
       " 'oranges',\n",
       " 'aniseed',\n",
       " 'shoes',\n",
       " 'caramel',\n",
       " 'oil',\n",
       " 'apricots',\n",
       " 'incense',\n",
       " 'marmalade',\n",
       " 'seaweed',\n",
       " 'jam',\n",
       " 'iodine',\n",
       " 'custard',\n",
       " 'mown hay',\n",
       " 'coffee grounds',\n",
       " 'grassy',\n",
       " 'sweet',\n",
       " 'ink',\n",
       " 'pine nuts']"
      ]
     },
     "execution_count": 188,
     "metadata": {},
     "output_type": "execute_result"
    }
   ],
   "source": [
    "vect.get_feature_names()[50:75]"
   ]
  },
  {
   "cell_type": "code",
   "execution_count": 243,
   "metadata": {
    "collapsed": false,
    "inputHidden": false,
    "jupyter": {
     "outputs_hidden": false
    },
    "outputHidden": false
   },
   "outputs": [
    {
     "data": {
      "text/plain": [
       "LinearRegression(copy_X=True, fit_intercept=True, n_jobs=1, normalize=False)"
      ]
     },
     "execution_count": 243,
     "metadata": {},
     "output_type": "execute_result"
    }
   ],
   "source": [
    "from sklearn.linear_model import LinearRegression\n",
    "\n",
    "reg = LinearRegression()\n",
    "reg.fit(X, df['ratingValue'].astype('float'))"
   ]
  },
  {
   "cell_type": "code",
   "execution_count": 244,
   "metadata": {
    "collapsed": false,
    "inputHidden": false,
    "jupyter": {
     "outputs_hidden": false
    },
    "outputHidden": false
   },
   "outputs": [
    {
     "name": "stdout",
     "output_type": "stream",
     "text": [
      "0.16629338805488725\n"
     ]
    }
   ],
   "source": [
    "from sklearn.metrics import mean_squared_error, r2_score\n",
    "\n",
    "y_pred = reg.predict(X)\n",
    "print(r2_score(df['ratingValue'].astype('float'), y_pred))"
   ]
  },
  {
   "cell_type": "code",
   "execution_count": 191,
   "metadata": {
    "collapsed": false,
    "inputHidden": false,
    "jupyter": {
     "outputs_hidden": false
    },
    "outputHidden": false
   },
   "outputs": [],
   "source": [
    "model = pd.DataFrame(reg.coef_, columns=['coef'], index=vect.get_feature_names())"
   ]
  },
  {
   "cell_type": "code",
   "execution_count": 192,
   "metadata": {
    "collapsed": false,
    "inputHidden": false,
    "jupyter": {
     "outputs_hidden": false
    },
    "outputHidden": false
   },
   "outputs": [],
   "source": [
    "y = df['ratingValue'].astype('float').tolist()"
   ]
  },
  {
   "cell_type": "code",
   "execution_count": 193,
   "metadata": {
    "collapsed": false,
    "inputHidden": false,
    "jupyter": {
     "outputs_hidden": false
    },
    "outputHidden": false
   },
   "outputs": [
    {
     "data": {
      "text/plain": [
       "matrix([[0.        , 0.        , 0.        , ..., 0.        , 0.        ,\n",
       "         0.        ],\n",
       "        [0.        , 0.        , 0.        , ..., 0.        , 0.        ,\n",
       "         0.        ],\n",
       "        [0.        , 0.        , 0.        , ..., 0.        , 0.        ,\n",
       "         0.        ],\n",
       "        ...,\n",
       "        [0.        , 0.        , 0.        , ..., 0.        , 0.        ,\n",
       "         0.42342042],\n",
       "        [0.        , 0.        , 0.        , ..., 0.        , 0.        ,\n",
       "         0.        ],\n",
       "        [0.        , 0.        , 0.        , ..., 0.        , 0.        ,\n",
       "         0.        ]])"
      ]
     },
     "execution_count": 193,
     "metadata": {},
     "output_type": "execute_result"
    }
   ],
   "source": [
    "X.todense()"
   ]
  },
  {
   "cell_type": "code",
   "execution_count": 158,
   "metadata": {
    "collapsed": false,
    "inputHidden": false,
    "jupyter": {
     "outputs_hidden": false
    },
    "outputHidden": false
   },
   "outputs": [
    {
     "data": {
      "text/plain": [
       "{'old': 0,\n",
       " 'mixing': 1,\n",
       " 'citrus': 2,\n",
       " 'clove': 3,\n",
       " 'pick': 4,\n",
       " 'mouth': 5,\n",
       " 'beautifully': 6,\n",
       " 'orchard fruit': 7,\n",
       " 'leaving': 8,\n",
       " 'lovely': 9,\n",
       " 'ml': 10,\n",
       " 'cooked': 11,\n",
       " 'powerful': 12,\n",
       " 'elegant': 13,\n",
       " 'older': 14,\n",
       " 'traditional': 15,\n",
       " 'sherry': 16,\n",
       " 'malts': 17,\n",
       " 'libraries': 18,\n",
       " 'leather upholstery': 19,\n",
       " 'hard': 20,\n",
       " 'version': 21,\n",
       " 'neat': 22,\n",
       " 'vintage': 23,\n",
       " 'soft': 24,\n",
       " 'chewy': 25,\n",
       " 'anchovies': 26,\n",
       " 'apples': 27,\n",
       " 'slowly': 28,\n",
       " 'diesel': 29,\n",
       " 'mouth coating': 30,\n",
       " 'wemyss': 31,\n",
       " 'glazed': 32,\n",
       " 'baking': 33,\n",
       " 'greater': 34,\n",
       " 'day': 35,\n",
       " 'warming': 36,\n",
       " 'pear drops': 37,\n",
       " 'scented': 38,\n",
       " 'marsh gas': 39,\n",
       " 'green sticks': 40,\n",
       " 'does': 41,\n",
       " 'fresh fruit': 42,\n",
       " 'vanilla': 43,\n",
       " 'lots': 44,\n",
       " 'peaches': 45,\n",
       " 'box': 46,\n",
       " 'candied': 47,\n",
       " 'bright fruit': 48,\n",
       " 'fragrant': 49,\n",
       " 'strength': 50,\n",
       " 'assertive': 51,\n",
       " 'bodied': 52,\n",
       " 'single barrel': 53,\n",
       " 'springbank': 54,\n",
       " 'll': 55,\n",
       " 'lawn clippings': 56,\n",
       " 'edge': 57,\n",
       " 'intense': 58,\n",
       " 'slight': 59,\n",
       " 'raw': 60,\n",
       " 'walnut': 61,\n",
       " 'green tomatoes': 62,\n",
       " 'plastic mac': 63,\n",
       " 'damp': 64,\n",
       " 'youth': 65,\n",
       " 'caol ila': 66,\n",
       " 'white chocolate': 67,\n",
       " 'slightly': 68,\n",
       " 'caramel vanilla': 69,\n",
       " 'gentle': 70,\n",
       " 'high': 71,\n",
       " 'marzipan': 72,\n",
       " 'place': 73,\n",
       " 'cut grass': 74,\n",
       " 'black': 75,\n",
       " 'world': 76,\n",
       " 'cotton candy': 77,\n",
       " 'drink': 78,\n",
       " 'camphor': 79,\n",
       " 'bourbon cask': 80,\n",
       " 'makes': 81,\n",
       " 'vegetal': 82,\n",
       " 'maple syrup': 83,\n",
       " 'flower shop': 84,\n",
       " 'covered': 85,\n",
       " 'exclusively': 86,\n",
       " 'cigar': 87,\n",
       " 'yes': 88,\n",
       " 'turnips': 89,\n",
       " '21 year': 90,\n",
       " 'ex': 91,\n",
       " 'burning': 92,\n",
       " 'honey': 93,\n",
       " 'pineapple': 94,\n",
       " '15 year': 95,\n",
       " 'toffee vanilla': 96,\n",
       " 'distilled': 97,\n",
       " 'dark': 98,\n",
       " 'orange peel': 99,\n",
       " 'cordite': 100,\n",
       " 'sweaty': 101,\n",
       " 'bourbon': 102,\n",
       " 'offering': 103,\n",
       " 'point': 104,\n",
       " 'let': 105,\n",
       " '000 bottles': 106,\n",
       " 'burnt sticks': 107,\n",
       " 'berries': 108,\n",
       " \"florists' shop\": 109,\n",
       " 'profile': 110,\n",
       " 'rock': 111,\n",
       " 'tongue': 112,\n",
       " 'tropical': 113,\n",
       " 'bit': 114,\n",
       " 'brittle': 115,\n",
       " 'casks nose': 116,\n",
       " 'port': 117,\n",
       " 'tasty': 118,\n",
       " 'zest': 119,\n",
       " 'better': 120,\n",
       " 'bonfires': 121,\n",
       " '20': 122,\n",
       " 'oak tannins': 123,\n",
       " 'peppered': 124,\n",
       " 'pleasingly': 125,\n",
       " 'year': 126,\n",
       " 'cork': 127,\n",
       " 'baked': 128,\n",
       " 'look': 129,\n",
       " 'roasted': 130,\n",
       " 'travel retail': 131,\n",
       " 'true': 132,\n",
       " 'treacle': 133,\n",
       " 'highland park': 134,\n",
       " 'virgin': 135,\n",
       " 'tcp': 136,\n",
       " 'balvenie': 137,\n",
       " 'cedar': 138,\n",
       " 'bottling': 139,\n",
       " 'water': 140,\n",
       " 'metallic': 141,\n",
       " 'aromas': 142,\n",
       " 'fairly': 143,\n",
       " 'simple': 144,\n",
       " 'structure': 145,\n",
       " 'matchbox': 146,\n",
       " 'rhubarb': 147,\n",
       " 'juicy': 148,\n",
       " 'combination': 149,\n",
       " 'texture': 150,\n",
       " 'smoked oysters': 151,\n",
       " 'wine': 152,\n",
       " 'offers': 153,\n",
       " 'house': 154,\n",
       " 'fully': 155,\n",
       " 'gingery': 156,\n",
       " 'viscous': 157,\n",
       " 'apricot': 158,\n",
       " 'lemons': 159,\n",
       " 'malt extract': 160,\n",
       " 'stuff': 161,\n",
       " 'smoked salmon': 162,\n",
       " 'cellars': 163,\n",
       " 'canadian': 164,\n",
       " 'icing sugar': 165,\n",
       " 'notes toffee': 166,\n",
       " 'chill filtered': 167,\n",
       " 'cut': 168,\n",
       " 'leading': 169,\n",
       " 'line': 170,\n",
       " 'palate finish': 171,\n",
       " 'wheat': 172,\n",
       " 'birchy': 173,\n",
       " 'jam': 174,\n",
       " 'strong': 175,\n",
       " 'moss water': 176,\n",
       " 'iodine': 177,\n",
       " 'sharp': 178,\n",
       " 'sherry butts': 179,\n",
       " 'tropical fruits': 180,\n",
       " 'tastes': 181,\n",
       " 'huge': 182,\n",
       " 'maturation': 183,\n",
       " 'beer': 184,\n",
       " 'think': 185,\n",
       " 'tinged': 186,\n",
       " 'extremely': 187,\n",
       " 'sweet': 188,\n",
       " '18 year': 189,\n",
       " 'initially': 190,\n",
       " 'initial': 191,\n",
       " 'range': 192,\n",
       " 'intriguing': 193,\n",
       " 'softer': 194,\n",
       " 'dries': 195,\n",
       " 'ink': 196,\n",
       " 'cocoa powder': 197,\n",
       " 'peated': 198,\n",
       " 'light toffee': 199,\n",
       " 'beeswax': 200,\n",
       " 'deep': 201,\n",
       " '70': 202,\n",
       " '375 ml': 203,\n",
       " 'crème brûlée': 204,\n",
       " 'grains': 205,\n",
       " 'salted': 206,\n",
       " 'dried shellfish': 207,\n",
       " 'barley': 208,\n",
       " 'medium bodied': 209,\n",
       " 'really': 210,\n",
       " 'dried tea': 211,\n",
       " 'added': 212,\n",
       " 'fir trees': 213,\n",
       " 'islay': 214,\n",
       " 'chocolate': 215,\n",
       " 'know': 216,\n",
       " 'candy': 217,\n",
       " 'finishes': 218,\n",
       " 'drier': 219,\n",
       " 'beautiful': 220,\n",
       " 'triple': 221,\n",
       " 'burnt rubber': 222,\n",
       " 'needs': 223,\n",
       " 'water brings': 224,\n",
       " 'green leaves': 225,\n",
       " 'drying finish': 226,\n",
       " 'white pepper': 227,\n",
       " 'blend': 228,\n",
       " 'kick': 229,\n",
       " 'resinous': 230,\n",
       " 'oaky': 231,\n",
       " 'mixed': 232,\n",
       " 'rye grain': 233,\n",
       " 'cabbage water': 234,\n",
       " 'pencil eraser': 235,\n",
       " 'solvent': 236,\n",
       " 'label': 237,\n",
       " 'ultimately': 238,\n",
       " 'silky': 239,\n",
       " 'continues': 240,\n",
       " 'expressions': 241,\n",
       " 'matured refill': 242,\n",
       " 'sickly': 243,\n",
       " 'honeyed vanilla': 244,\n",
       " 'glenmorangie': 245,\n",
       " 'cloying': 246,\n",
       " 'creosote': 247,\n",
       " 'aromatic': 248,\n",
       " 'ground': 249,\n",
       " 'summer': 250,\n",
       " 'palate': 251,\n",
       " 'pleasantly': 252,\n",
       " 'gum': 253,\n",
       " 'nectarines': 254,\n",
       " 'quickly': 255,\n",
       " 'dried fruit': 256,\n",
       " 'sweeter': 257,\n",
       " 'sweet vanilla': 258,\n",
       " 'citrus fruit': 259,\n",
       " '18': 260,\n",
       " 'compared': 261,\n",
       " 'soothing': 262,\n",
       " 'plastic': 263,\n",
       " 'citrus fruits': 264,\n",
       " 'coated': 265,\n",
       " 'signature': 266,\n",
       " 'subtly': 267,\n",
       " 'yeast': 268,\n",
       " 'finish long': 269,\n",
       " 'tannic': 270,\n",
       " 'gas': 271,\n",
       " 'gold color': 272,\n",
       " 'macallan': 273,\n",
       " 'porridge': 274,\n",
       " 'acid drops': 275,\n",
       " 'm': 276,\n",
       " 'satisfying': 277,\n",
       " 've': 278,\n",
       " 'blackberry': 279,\n",
       " 'ginger': 280,\n",
       " 'heat': 281,\n",
       " 'pleasing': 282,\n",
       " 'caramel toffee': 283,\n",
       " 'length finish': 284,\n",
       " 'cooked swede': 285,\n",
       " 'hay': 286,\n",
       " 'toasted oak': 287,\n",
       " 'fruity': 288,\n",
       " 'clover honey': 289,\n",
       " 'background': 290,\n",
       " 'way': 291,\n",
       " 'buttermilk': 292,\n",
       " 'pleasant': 293,\n",
       " 'honeycomb': 294,\n",
       " 'goes': 295,\n",
       " 'smooth': 296,\n",
       " 'right': 297,\n",
       " 'jaffa': 298,\n",
       " 'spiced': 299,\n",
       " 'scorched plastic': 300,\n",
       " 'draft': 301,\n",
       " 'long spicy': 302,\n",
       " 'marshmallow': 303,\n",
       " 'add': 304,\n",
       " 'madeira': 305,\n",
       " 'example': 306,\n",
       " 'smokiness': 307,\n",
       " 'whiff': 308,\n",
       " 'malt scotch': 309,\n",
       " 'want': 310,\n",
       " 'sulphur': 311,\n",
       " 'price': 312,\n",
       " 'alongside': 313,\n",
       " 'grass': 314,\n",
       " 'honeyed': 315,\n",
       " 'ila': 316,\n",
       " 'fruitcake': 317,\n",
       " 'especially': 318,\n",
       " 'different': 319,\n",
       " 'develops': 320,\n",
       " 'plastic rope': 321,\n",
       " 'european oak': 322,\n",
       " 'peach': 323,\n",
       " '46': 324,\n",
       " 'antique': 325,\n",
       " 'distillery': 326,\n",
       " 'mellow': 327,\n",
       " 'vanilla honey': 328,\n",
       " 'period': 329,\n",
       " 'bread': 330,\n",
       " 'latest': 331,\n",
       " 'entry': 332,\n",
       " 'mandarin': 333,\n",
       " 'trace': 334,\n",
       " 'estery': 335,\n",
       " 'gently sweet': 336,\n",
       " 'wisp': 337,\n",
       " '16': 338,\n",
       " 'nutty toffee': 339,\n",
       " 'red': 340,\n",
       " 'old whisky': 341,\n",
       " 'distinctive': 342,\n",
       " '17': 343,\n",
       " 'fiery': 344,\n",
       " 'figs': 345,\n",
       " 'close': 346,\n",
       " 'malted': 347,\n",
       " 'finish': 348,\n",
       " 'far': 349,\n",
       " 'nougat': 350,\n",
       " 'quite': 351,\n",
       " 'spirit': 352,\n",
       " 'rye': 353,\n",
       " 'powder': 354,\n",
       " 'aged years': 355,\n",
       " 'currant': 356,\n",
       " 'enjoyable': 357,\n",
       " 'dram': 358,\n",
       " 'pipe': 359,\n",
       " 'pie': 360,\n",
       " 'younger': 361,\n",
       " 'tar': 362,\n",
       " 'age': 363,\n",
       " 'age statement': 364,\n",
       " 'caol': 365,\n",
       " 'hit': 366,\n",
       " 'mix': 367,\n",
       " 'suggestion': 368,\n",
       " 'going': 369,\n",
       " 'herbal notes': 370,\n",
       " 'years old': 371,\n",
       " 'spanish': 372,\n",
       " 'mixed peel': 373,\n",
       " 'spirity': 374,\n",
       " 'cooked marsh': 375,\n",
       " 'anise': 376,\n",
       " 'extra': 377,\n",
       " 'fig': 378,\n",
       " 'soft sweet': 379,\n",
       " 'small': 380,\n",
       " 'crème': 381,\n",
       " 'finish medium': 382,\n",
       " 'tinned': 383,\n",
       " 'rubbery': 384,\n",
       " 'straw': 385,\n",
       " 'briny': 386,\n",
       " 'notes vanilla': 387,\n",
       " 'oily texture': 388,\n",
       " 'integrated': 389,\n",
       " 'brown sugar': 390,\n",
       " 'drying': 391,\n",
       " 'old expression': 392,\n",
       " 'stagnant': 393,\n",
       " 'american oak': 394,\n",
       " 'burnt': 395,\n",
       " 'favorite': 396,\n",
       " 'mouthfeel': 397,\n",
       " '15': 398,\n",
       " 'mealy': 399,\n",
       " 'husky': 400,\n",
       " 'raisin': 401,\n",
       " 'glenlivet': 402,\n",
       " 'darker': 403,\n",
       " 'straight': 404,\n",
       " 'bright': 405,\n",
       " 'dominate': 406,\n",
       " 'finally': 407,\n",
       " 'cerealy': 408,\n",
       " 'hemp ropes': 409,\n",
       " 'available': 410,\n",
       " 'linseed': 411,\n",
       " 'cardboard': 412,\n",
       " 'complexity': 413,\n",
       " 'clean': 414,\n",
       " 'european': 415,\n",
       " 'gets': 416,\n",
       " 'wood': 417,\n",
       " 'digestive biscuits': 418,\n",
       " 'late': 419,\n",
       " 'intensity': 420,\n",
       " 'personality': 421,\n",
       " 'bog myrtle': 422,\n",
       " '30': 423,\n",
       " 'carbolic': 424,\n",
       " 'creaminess': 425,\n",
       " 'herbal': 426,\n",
       " 'warehouse': 427,\n",
       " 'dark chocolate': 428,\n",
       " 'best': 429,\n",
       " 'equally': 430,\n",
       " 'plum': 431,\n",
       " 'mango': 432,\n",
       " 'emerge': 433,\n",
       " 'overripe': 434,\n",
       " 'balanced': 435,\n",
       " 'peppery': 436,\n",
       " 'musty': 437,\n",
       " 'toast': 438,\n",
       " 'fresh tobacco': 439,\n",
       " 'isn': 440,\n",
       " 'pea pods': 441,\n",
       " 'rum': 442,\n",
       " 'dry': 443,\n",
       " 'orange': 444,\n",
       " 'sipping': 445,\n",
       " 'spice notes': 446,\n",
       " 'citric': 447,\n",
       " 'fine': 448,\n",
       " 'berry': 449,\n",
       " 'nuttiness': 450,\n",
       " 'almond': 451,\n",
       " 'mid': 452,\n",
       " '40': 453,\n",
       " 'dinner': 454,\n",
       " 'caramel': 455,\n",
       " 'blueberry': 456,\n",
       " 'sourced': 457,\n",
       " 'mead': 458,\n",
       " 'cask': 459,\n",
       " 'tingling': 460,\n",
       " 'closed': 461,\n",
       " 'casks': 462,\n",
       " 'non': 463,\n",
       " 'cherry': 464,\n",
       " 'lush': 465,\n",
       " 'release': 466,\n",
       " 'glass': 467,\n",
       " 'custard': 468,\n",
       " 'nut': 469,\n",
       " 'fabric softener': 470,\n",
       " 'comes': 471,\n",
       " 'orchard fruits': 472,\n",
       " 'dignified': 473,\n",
       " 'lengthy finish': 474,\n",
       " '90': 475,\n",
       " 'caramelized': 476,\n",
       " 'french oak': 477,\n",
       " 'grassy': 478,\n",
       " 'body': 479,\n",
       " 'fresh': 480,\n",
       " 'syrup': 481,\n",
       " 'gives': 482,\n",
       " 'young': 483,\n",
       " 'rose': 484,\n",
       " 'aged bourbon': 485,\n",
       " 'light': 486,\n",
       " 'months': 487,\n",
       " 'time': 488,\n",
       " '60': 489,\n",
       " 'whisky': 490,\n",
       " 'delight': 491,\n",
       " 'edition': 492,\n",
       " 'liter': 493,\n",
       " 'grapefruit': 494,\n",
       " 'polished': 495,\n",
       " 'green': 496,\n",
       " 'honeyed malt': 497,\n",
       " 'taffy': 498,\n",
       " 'rye whiskey': 499,\n",
       " 'dusting': 500,\n",
       " 'herbs': 501,\n",
       " 'distillers': 502,\n",
       " 'set': 503,\n",
       " 'blossom': 504,\n",
       " 'ardbeg': 505,\n",
       " 'pot': 506,\n",
       " 'gold': 507,\n",
       " 'oak casks': 508,\n",
       " 'turn': 509,\n",
       " 'end': 510,\n",
       " 'sherry casks': 511,\n",
       " 'harsh': 512,\n",
       " 'fruit cake': 513,\n",
       " 'candied fruits': 514,\n",
       " 'butterscotch': 515,\n",
       " 'length': 516,\n",
       " 'royal': 517,\n",
       " '45': 518,\n",
       " 'nutmeg': 519,\n",
       " 'freshness': 520,\n",
       " 'given': 521,\n",
       " 'mashbill': 522,\n",
       " 'fennel': 523,\n",
       " 'medium body': 524,\n",
       " 'particularly': 525,\n",
       " 'sea salt': 526,\n",
       " 'smoked': 527,\n",
       " 'mature': 528,\n",
       " 'pear': 529,\n",
       " 'bottlings': 530,\n",
       " 'drinkable': 531,\n",
       " 'candies': 532,\n",
       " 'big': 533,\n",
       " 'milk chocolate': 534,\n",
       " 'refill': 535,\n",
       " 'standard': 536,\n",
       " 'away': 537,\n",
       " 'dates': 538,\n",
       " 'style': 539,\n",
       " 'lemon': 540,\n",
       " 'follow': 541,\n",
       " 'bottles': 542,\n",
       " 'vanilla caramel': 543,\n",
       " 'reviewed': 544,\n",
       " 'solid': 545,\n",
       " 'develop': 546,\n",
       " 'retail exclusive': 547,\n",
       " 'experience': 548,\n",
       " 'influence': 549,\n",
       " 'unpeated': 550,\n",
       " 'work': 551,\n",
       " 'sweet sherry': 552,\n",
       " 'old gym': 553,\n",
       " 'level': 554,\n",
       " 'note': 555,\n",
       " 'fishing nets': 556,\n",
       " 'mildly': 557,\n",
       " 'statement': 558,\n",
       " 'youthful': 559,\n",
       " 'ripe fruit': 560,\n",
       " 'mint': 561,\n",
       " 'fun': 562,\n",
       " 'oak barrels': 563,\n",
       " 'peppercorn': 564,\n",
       " 'plain': 565,\n",
       " 'sultana': 566,\n",
       " 'waxy': 567,\n",
       " \"hen's mash\": 568,\n",
       " 'cooked veg': 569,\n",
       " 'aroma': 570,\n",
       " 'classic': 571,\n",
       " 'complex': 572,\n",
       " 'lint': 573,\n",
       " 'spent': 574,\n",
       " 'stone': 575,\n",
       " 'fresh laundry': 576,\n",
       " 'liquorice': 577,\n",
       " 'bonfire': 578,\n",
       " 'blends': 579,\n",
       " 'dough': 580,\n",
       " 'kippery': 581,\n",
       " 'plums': 582,\n",
       " 'spice finish': 583,\n",
       " 'tannins': 584,\n",
       " 'cooked maize': 585,\n",
       " 'milk': 586,\n",
       " 'bourbons': 587,\n",
       " 'syrupy': 588,\n",
       " 'crisp': 589,\n",
       " 'love': 590,\n",
       " 'market': 591,\n",
       " 'restrained': 592,\n",
       " 'vanilla cream': 593,\n",
       " 'bruichladdich': 594,\n",
       " 'variant': 595,\n",
       " '500': 596,\n",
       " 'previous': 597,\n",
       " 'leaves': 598,\n",
       " 'richly': 599,\n",
       " 'cooked fruit': 600,\n",
       " 'filtered': 601,\n",
       " 'finished': 602,\n",
       " 'amber': 603,\n",
       " 'lengthy': 604,\n",
       " 'plain chocolate': 605,\n",
       " 'polished oak': 606,\n",
       " 'geraniums': 607,\n",
       " 'licorice': 608,\n",
       " 'ice': 609,\n",
       " 'expect': 610,\n",
       " 'excellent': 611,\n",
       " 'nature': 612,\n",
       " 'shavings': 613,\n",
       " 'warm': 614,\n",
       " 'base': 615,\n",
       " 'cardamom': 616,\n",
       " 'meringues': 617,\n",
       " 'slow': 618,\n",
       " 'peat reek': 619,\n",
       " 'peaty': 620,\n",
       " 'new rubber': 621,\n",
       " 'followed': 622,\n",
       " 'new': 623,\n",
       " 'oilskin': 624,\n",
       " 'smokey': 625,\n",
       " 'additional': 626,\n",
       " 'earth': 627,\n",
       " 'kiwi': 628,\n",
       " 'orangey': 629,\n",
       " 'spicy finish': 630,\n",
       " 'raisins': 631,\n",
       " 'roasted nuts': 632,\n",
       " 'parmaviolets': 633,\n",
       " 'cinnamon clove': 634,\n",
       " 'heavy': 635,\n",
       " 'overly': 636,\n",
       " 'sour': 637,\n",
       " 'emerges': 638,\n",
       " 'evident': 639,\n",
       " 'smoke': 640,\n",
       " 'great': 641,\n",
       " 'released': 642,\n",
       " 'black pepper': 643,\n",
       " 'maltiness': 644,\n",
       " 'carbide': 645,\n",
       " 'laced': 646,\n",
       " 'irish whiskey': 647,\n",
       " 'lowland': 648,\n",
       " 'gently': 649,\n",
       " 'medium length': 650,\n",
       " 'exclusive': 651,\n",
       " 'firm': 652,\n",
       " 'speyside': 653,\n",
       " 'sage': 654,\n",
       " 'golden': 655,\n",
       " 'half': 656,\n",
       " 'spicy': 657,\n",
       " 'mid palate': 658,\n",
       " 'notes': 659,\n",
       " 'sherry notes': 660,\n",
       " 'potato scones': 661,\n",
       " '21': 662,\n",
       " 'date': 663,\n",
       " 'lapsang suchong': 664,\n",
       " 'leathery': 665,\n",
       " 'exotic': 666,\n",
       " 'grain': 667,\n",
       " 'mash': 668,\n",
       " 'hospitals': 669,\n",
       " 'medicinal': 670,\n",
       " 'savory': 671,\n",
       " 'heart': 672,\n",
       " 'french': 673,\n",
       " 'delicious': 674,\n",
       " 'making': 675,\n",
       " 'nose offers': 676,\n",
       " 'walnuts': 677,\n",
       " 'orange marmalade': 678,\n",
       " '95': 679,\n",
       " 'american': 680,\n",
       " 'bourbon barrel': 681,\n",
       " 'cake': 682,\n",
       " 'forward': 683,\n",
       " 'cocoa': 684,\n",
       " 'make': 685,\n",
       " 'turns': 686,\n",
       " 'flowers': 687,\n",
       " 'grain whisky': 688,\n",
       " 'peat': 689,\n",
       " 'short': 690,\n",
       " 'highly': 691,\n",
       " '80': 692,\n",
       " 'notes palate': 693,\n",
       " 'delicate': 694,\n",
       " 'vanilla fudge': 695,\n",
       " 'mince pies': 696,\n",
       " 'phenolic': 697,\n",
       " 'elements': 698,\n",
       " 'begins': 699,\n",
       " 'series': 700,\n",
       " 'tobacco': 701,\n",
       " 'interwoven': 702,\n",
       " 'char': 703,\n",
       " 'cinnamon nutmeg': 704,\n",
       " 'malt': 705,\n",
       " 'quality': 706,\n",
       " 'oldest': 707,\n",
       " 'minty': 708,\n",
       " 'original': 709,\n",
       " 'prunes': 710,\n",
       " 'sweet spicy': 711,\n",
       " 'developing': 712,\n",
       " 'raspberry': 713,\n",
       " 'value': 714,\n",
       " 'adding': 715,\n",
       " '10': 716,\n",
       " 'including': 717,\n",
       " 'creamy': 718,\n",
       " 'talisker': 719,\n",
       " 'leafy': 720,\n",
       " 'paint': 721,\n",
       " 'feel': 722,\n",
       " 'following': 723,\n",
       " 'real': 724,\n",
       " 'floor': 725,\n",
       " 'hot': 726,\n",
       " 'nice': 727,\n",
       " '375': 728,\n",
       " 'pale': 729,\n",
       " '30 year': 730,\n",
       " 'perfumed': 731,\n",
       " 'juice': 732,\n",
       " 'richness': 733,\n",
       " 'dry finish': 734,\n",
       " 'reminiscent': 735,\n",
       " 'vibrant': 736,\n",
       " 'coal': 737,\n",
       " 'balance': 738,\n",
       " 'just': 739,\n",
       " 'liqueur': 740,\n",
       " 'sip': 741,\n",
       " 'touch': 742,\n",
       " 'wine casks': 743,\n",
       " 'buttery': 744,\n",
       " 'earthiness': 745,\n",
       " 'suggests': 746,\n",
       " 'zesty': 747,\n",
       " 'mild': 748,\n",
       " 'new wood': 749,\n",
       " 'sticky': 750,\n",
       " 'dark fruits': 751,\n",
       " 'bakerlite': 752,\n",
       " 'hogsheads': 753,\n",
       " 'depth': 754,\n",
       " 'shoes': 755,\n",
       " 'bold': 756,\n",
       " 'dessert': 757,\n",
       " 'cream': 758,\n",
       " 'old wood': 759,\n",
       " 'dried fruity': 760,\n",
       " 'mashed potato': 761,\n",
       " 'sea shells': 762,\n",
       " 'apricots': 763,\n",
       " 'somewhat': 764,\n",
       " 'matured bourbon': 765,\n",
       " 'incense': 766,\n",
       " 'early': 767,\n",
       " 'refined': 768,\n",
       " 'ethanolic': 769,\n",
       " 'hot sandy': 770,\n",
       " 'expression': 771,\n",
       " 'marmalade': 772,\n",
       " 'seaweed': 773,\n",
       " 'spent fireworks': 774,\n",
       " 'distiller': 775,\n",
       " 'mossy': 776,\n",
       " 'lightly': 777,\n",
       " 'past': 778,\n",
       " 'creamy vanilla': 779,\n",
       " 'dynamic': 780,\n",
       " 'sherried': 781,\n",
       " 'thing': 782,\n",
       " 'mown hay': 783,\n",
       " 'starch linen': 784,\n",
       " 'white': 785,\n",
       " 'pine nuts': 786,\n",
       " 'brand': 787,\n",
       " 'supple': 788,\n",
       " 'sweet notes': 789,\n",
       " 'easy': 790,\n",
       " 'distillery character': 791,\n",
       " 'dry oak': 792,\n",
       " 'fruit notes': 793,\n",
       " 'limited edition': 794,\n",
       " 'toffee': 795,\n",
       " 'tea': 796,\n",
       " 'brûlée': 797,\n",
       " 'earthy': 798,\n",
       " 'early nose': 799,\n",
       " 'weetabix': 800,\n",
       " 'filled': 801,\n",
       " 'limited': 802,\n",
       " 'icing': 803,\n",
       " 'nutty': 804,\n",
       " 'cornbread': 805,\n",
       " 'barns': 806,\n",
       " 'subtle': 807,\n",
       " 'perfume': 808,\n",
       " 'love hearts': 809,\n",
       " 'drops': 810,\n",
       " 'coconut': 811,\n",
       " 'sherbet': 812,\n",
       " 'spearmint': 813,\n",
       " 'component': 814,\n",
       " 'dominant': 815,\n",
       " 'richer': 816,\n",
       " 'nose': 817,\n",
       " 'olive': 818,\n",
       " 'oily': 819,\n",
       " 'dried spice': 820,\n",
       " 'polished leather': 821,\n",
       " 'bung cloth': 822,\n",
       " 'tea pots': 823,\n",
       " 'biscuits': 824,\n",
       " 'cinnamon vanilla': 825,\n",
       " 'baking spices': 826,\n",
       " 'allspice': 827,\n",
       " 'blended': 828,\n",
       " 'single malt': 829,\n",
       " 'layers': 830,\n",
       " 'appetizing': 831,\n",
       " 'malted barley': 832,\n",
       " 'wood spices': 833,\n",
       " 'bowmore': 834,\n",
       " 'nicely balanced': 835,\n",
       " 'tart': 836,\n",
       " 'brackish': 837,\n",
       " 'linger': 838,\n",
       " 'peat smoke': 839,\n",
       " 'floral': 840,\n",
       " 'leather': 841,\n",
       " 'provide': 842,\n",
       " 'brings': 843,\n",
       " 'yields': 844,\n",
       " 'higher': 845,\n",
       " 'use': 846,\n",
       " 'come': 847,\n",
       " 'bramble': 848,\n",
       " 'showing': 849,\n",
       " 'price 375': 850,\n",
       " 'peel': 851,\n",
       " 'starts': 852,\n",
       " 'tasted': 853,\n",
       " 'allowing': 854,\n",
       " 'things': 855,\n",
       " 'named': 856,\n",
       " 'character': 857,\n",
       " 'clear': 858,\n",
       " 'produced': 859,\n",
       " 'coating': 860,\n",
       " 'pretty': 861,\n",
       " 'lighter': 862,\n",
       " 'sure': 863,\n",
       " 'spiciness': 864,\n",
       " 'diageo': 865,\n",
       " 'freshly': 866,\n",
       " 'mulch': 867,\n",
       " 'sweet fruity': 868,\n",
       " '000': 869,\n",
       " 'start': 870,\n",
       " 'tobacco ash': 871,\n",
       " 'shoe polish': 872,\n",
       " 'pencils': 873,\n",
       " 'soft fruit': 874,\n",
       " 'ago': 875,\n",
       " 'pepper': 876,\n",
       " 'pouring honey': 877,\n",
       " 'potato': 878,\n",
       " 'plus': 879,\n",
       " 'underlying': 880,\n",
       " '17 year': 881,\n",
       " '12 year': 882,\n",
       " 'heavily': 883,\n",
       " 'oak spice': 884,\n",
       " 'butter': 885,\n",
       " 'weight': 886,\n",
       " 'wet': 887,\n",
       " 'cloves': 888,\n",
       " 'years': 889,\n",
       " 'result': 890,\n",
       " 'palate sweet': 891,\n",
       " 'bourbon barrels': 892,\n",
       " 'cereal': 893,\n",
       " 'sugar': 894,\n",
       " 'batch': 895,\n",
       " 'heather honey': 896,\n",
       " 'sweetcorn': 897,\n",
       " 'winey': 898,\n",
       " 'grant': 899,\n",
       " 'medium': 900,\n",
       " 'salty': 901,\n",
       " 'hints': 902,\n",
       " 'ripe': 903,\n",
       " 'cocktail': 904,\n",
       " 'new make': 905,\n",
       " 'aged': 906,\n",
       " 'woody': 907,\n",
       " 'coffee': 908,\n",
       " 'turps': 909,\n",
       " 'cask strength': 910,\n",
       " 'apple': 911,\n",
       " 'don': 912,\n",
       " 'little': 913,\n",
       " 'non chill': 914,\n",
       " 'special': 915,\n",
       " 'single': 916,\n",
       " 'single cask': 917,\n",
       " 'glen': 918,\n",
       " 'travel': 919,\n",
       " 'sherry cask': 920,\n",
       " 'feinty': 921,\n",
       " 'flavors': 922,\n",
       " 'fresh cut': 923,\n",
       " 'resin': 924,\n",
       " 'impression': 925,\n",
       " 'orchard': 926,\n",
       " 'tropical fruit': 927,\n",
       " 'whiskeys': 928,\n",
       " 'fruitiness': 929,\n",
       " 'company': 930,\n",
       " 'aggressive': 931,\n",
       " 'caramels': 932,\n",
       " 'chili': 933,\n",
       " 'hazelnuts': 934,\n",
       " 'cigar boxes': 935,\n",
       " 'malty': 936,\n",
       " '12': 937,\n",
       " 'stewed': 938,\n",
       " 'acidity': 939,\n",
       " 'new cowhide': 940,\n",
       " 'certainly': 941,\n",
       " 'whiskies': 942,\n",
       " 'sweetness': 943,\n",
       " 'like': 944,\n",
       " 'tangerine': 945,\n",
       " 'say': 946,\n",
       " 'foundation': 947,\n",
       " 'bitterness': 948,\n",
       " 'menthol': 949,\n",
       " 'rye spice': 950,\n",
       " 'nail polish remover': 951,\n",
       " 'impact': 952,\n",
       " 'cheese': 953,\n",
       " 'characteristics': 954,\n",
       " 'toasted': 955,\n",
       " 'robust': 956,\n",
       " 'barley sugar': 957,\n",
       " 'lively': 958,\n",
       " 'pecan': 959,\n",
       " 'bubble gum': 960,\n",
       " 'carnation': 961,\n",
       " 'grape': 962,\n",
       " 'proof': 963,\n",
       " 'smell': 964,\n",
       " 'oloroso sherry': 965,\n",
       " 'dry hay': 966,\n",
       " 'long': 967,\n",
       " 'heather': 968,\n",
       " 'turf': 969,\n",
       " 'whiskey': 970,\n",
       " 'brine': 971,\n",
       " 'opens': 972,\n",
       " '14': 973,\n",
       " 'dried': 974,\n",
       " 'nicely': 975,\n",
       " 'notably': 976,\n",
       " 'oak finish': 977,\n",
       " 'plenty': 978,\n",
       " 'nose palate': 979,\n",
       " 'flavor': 980,\n",
       " 'rich': 981,\n",
       " 'warming cinnamon': 982,\n",
       " 'floral notes': 983,\n",
       " 'lingering': 984,\n",
       " 'pure': 985,\n",
       " 'scotch': 986,\n",
       " 'corn': 987,\n",
       " 'cinnamon': 988,\n",
       " 'sourced whiskey': 989,\n",
       " 'takes': 990,\n",
       " 'grip': 991,\n",
       " 'heather flowers': 992,\n",
       " 'bitter': 993,\n",
       " 'interesting': 994,\n",
       " '50': 995,\n",
       " 'addition': 996,\n",
       " 'elemental sulphur': 997,\n",
       " 'smoky': 998,\n",
       " 'rum toft': 999,\n",
       " ...}"
      ]
     },
     "execution_count": 158,
     "metadata": {},
     "output_type": "execute_result"
    }
   ],
   "source": [
    "ext_vocab"
   ]
  },
  {
   "cell_type": "code",
   "execution_count": 194,
   "metadata": {
    "collapsed": false,
    "inputHidden": false,
    "jupyter": {
     "outputs_hidden": false
    },
    "outputHidden": false
   },
   "outputs": [],
   "source": [
    "from scipy import stats\n",
    "params = np.append(reg.intercept_,reg.coef_)\n",
    "predictions = y_pred\n",
    "newX = pd.DataFrame({\"Constant\":np.ones(len(X.todense()))}).join(pd.DataFrame((X.todense())))\n",
    "MSE = (sum((y-predictions)**2))/(len(newX)-len(newX.columns))\n",
    "\n",
    "# Note if you don't want to use a DataFrame replace the two lines above with\n",
    "# newX = np.append(np.ones((len(X),1)), X, axis=1)\n",
    "# MSE = (sum((y-predictions)**2))/(len(newX)-len(newX[0]))\n",
    "\n",
    "var_b = MSE*(np.linalg.inv(np.dot(newX.T,newX)).diagonal())\n",
    "sd_b = np.sqrt(var_b)\n",
    "ts_b = params/ sd_b\n",
    "\n",
    "p_values =[2*(1-stats.t.cdf(np.abs(i),(len(newX)-1))) for i in ts_b]\n",
    "\n",
    "sd_b = np.round(sd_b,3)\n",
    "ts_b = np.round(ts_b,3)\n",
    "p_values = np.round(p_values,3)\n",
    "params = np.round(params,4)"
   ]
  },
  {
   "cell_type": "code",
   "execution_count": 196,
   "metadata": {
    "collapsed": false,
    "inputHidden": false,
    "jupyter": {
     "outputs_hidden": false
    },
    "outputHidden": false
   },
   "outputs": [],
   "source": [
    "from sklearn.feature_selection import f_regression\n",
    "Fm, pval = f_regression(X.todense(), y)"
   ]
  },
  {
   "cell_type": "code",
   "execution_count": 178,
   "metadata": {
    "collapsed": false,
    "inputHidden": false,
    "jupyter": {
     "outputs_hidden": false
    },
    "outputHidden": false
   },
   "outputs": [
    {
     "data": {
      "text/plain": [
       "<1x1174 sparse matrix of type '<class 'numpy.float64'>'\n",
       "\twith 35 stored elements in Compressed Sparse Row format>"
      ]
     },
     "execution_count": 178,
     "metadata": {},
     "output_type": "execute_result"
    }
   ],
   "source": []
  },
  {
   "cell_type": "code",
   "execution_count": 165,
   "metadata": {
    "collapsed": false,
    "inputHidden": false,
    "jupyter": {
     "outputs_hidden": false
    },
    "outputHidden": false
   },
   "outputs": [
    {
     "data": {
      "text/html": [
       "<div>\n",
       "<style scoped>\n",
       "    .dataframe tbody tr th:only-of-type {\n",
       "        vertical-align: middle;\n",
       "    }\n",
       "\n",
       "    .dataframe tbody tr th {\n",
       "        vertical-align: top;\n",
       "    }\n",
       "\n",
       "    .dataframe thead th {\n",
       "        text-align: right;\n",
       "    }\n",
       "</style>\n",
       "<table border=\"1\" class=\"dataframe\">\n",
       "  <thead>\n",
       "    <tr style=\"text-align: right;\">\n",
       "      <th></th>\n",
       "      <th>Constant</th>\n",
       "      <th>0</th>\n",
       "      <th>1</th>\n",
       "      <th>2</th>\n",
       "      <th>3</th>\n",
       "      <th>4</th>\n",
       "      <th>5</th>\n",
       "      <th>6</th>\n",
       "      <th>7</th>\n",
       "      <th>8</th>\n",
       "      <th>...</th>\n",
       "      <th>1164</th>\n",
       "      <th>1165</th>\n",
       "      <th>1166</th>\n",
       "      <th>1167</th>\n",
       "      <th>1168</th>\n",
       "      <th>1169</th>\n",
       "      <th>1170</th>\n",
       "      <th>1171</th>\n",
       "      <th>1172</th>\n",
       "      <th>1173</th>\n",
       "    </tr>\n",
       "  </thead>\n",
       "  <tbody>\n",
       "    <tr>\n",
       "      <th>0</th>\n",
       "      <td>1.0</td>\n",
       "      <td>1.000000</td>\n",
       "      <td>1.0</td>\n",
       "      <td>1.000000</td>\n",
       "      <td>1.0</td>\n",
       "      <td>1.0</td>\n",
       "      <td>1.0</td>\n",
       "      <td>1.0</td>\n",
       "      <td>1.000000</td>\n",
       "      <td>1.0</td>\n",
       "      <td>...</td>\n",
       "      <td>1.0</td>\n",
       "      <td>1.0</td>\n",
       "      <td>1.0</td>\n",
       "      <td>1.0</td>\n",
       "      <td>1.0</td>\n",
       "      <td>1.0</td>\n",
       "      <td>1.000000</td>\n",
       "      <td>1.0</td>\n",
       "      <td>1.0</td>\n",
       "      <td>1.0</td>\n",
       "    </tr>\n",
       "    <tr>\n",
       "      <th>1</th>\n",
       "      <td>1.0</td>\n",
       "      <td>1.020335</td>\n",
       "      <td>1.0</td>\n",
       "      <td>1.000000</td>\n",
       "      <td>1.0</td>\n",
       "      <td>1.0</td>\n",
       "      <td>1.0</td>\n",
       "      <td>1.0</td>\n",
       "      <td>1.042046</td>\n",
       "      <td>1.0</td>\n",
       "      <td>...</td>\n",
       "      <td>1.0</td>\n",
       "      <td>1.0</td>\n",
       "      <td>1.0</td>\n",
       "      <td>1.0</td>\n",
       "      <td>1.0</td>\n",
       "      <td>1.0</td>\n",
       "      <td>1.000000</td>\n",
       "      <td>1.0</td>\n",
       "      <td>1.0</td>\n",
       "      <td>1.0</td>\n",
       "    </tr>\n",
       "    <tr>\n",
       "      <th>2</th>\n",
       "      <td>1.0</td>\n",
       "      <td>1.000000</td>\n",
       "      <td>1.0</td>\n",
       "      <td>1.000000</td>\n",
       "      <td>1.0</td>\n",
       "      <td>1.0</td>\n",
       "      <td>1.0</td>\n",
       "      <td>1.0</td>\n",
       "      <td>1.000000</td>\n",
       "      <td>1.0</td>\n",
       "      <td>...</td>\n",
       "      <td>1.0</td>\n",
       "      <td>1.0</td>\n",
       "      <td>1.0</td>\n",
       "      <td>1.0</td>\n",
       "      <td>1.0</td>\n",
       "      <td>1.0</td>\n",
       "      <td>1.000000</td>\n",
       "      <td>1.0</td>\n",
       "      <td>1.0</td>\n",
       "      <td>1.0</td>\n",
       "    </tr>\n",
       "    <tr>\n",
       "      <th>3</th>\n",
       "      <td>1.0</td>\n",
       "      <td>1.020092</td>\n",
       "      <td>1.0</td>\n",
       "      <td>1.011925</td>\n",
       "      <td>1.0</td>\n",
       "      <td>1.0</td>\n",
       "      <td>1.0</td>\n",
       "      <td>1.0</td>\n",
       "      <td>1.000000</td>\n",
       "      <td>1.0</td>\n",
       "      <td>...</td>\n",
       "      <td>1.0</td>\n",
       "      <td>1.0</td>\n",
       "      <td>1.0</td>\n",
       "      <td>1.0</td>\n",
       "      <td>1.0</td>\n",
       "      <td>1.0</td>\n",
       "      <td>1.021715</td>\n",
       "      <td>1.0</td>\n",
       "      <td>1.0</td>\n",
       "      <td>1.0</td>\n",
       "    </tr>\n",
       "    <tr>\n",
       "      <th>4</th>\n",
       "      <td>1.0</td>\n",
       "      <td>1.000000</td>\n",
       "      <td>1.0</td>\n",
       "      <td>1.000000</td>\n",
       "      <td>1.0</td>\n",
       "      <td>1.0</td>\n",
       "      <td>1.0</td>\n",
       "      <td>1.0</td>\n",
       "      <td>1.000000</td>\n",
       "      <td>1.0</td>\n",
       "      <td>...</td>\n",
       "      <td>1.0</td>\n",
       "      <td>1.0</td>\n",
       "      <td>1.0</td>\n",
       "      <td>1.0</td>\n",
       "      <td>1.0</td>\n",
       "      <td>1.0</td>\n",
       "      <td>1.000000</td>\n",
       "      <td>1.0</td>\n",
       "      <td>1.0</td>\n",
       "      <td>1.0</td>\n",
       "    </tr>\n",
       "  </tbody>\n",
       "</table>\n",
       "<p>5 rows × 1175 columns</p>\n",
       "</div>"
      ],
      "text/plain": [
       "   Constant         0    1         2    3    4    5    6         7    8  ...   \\\n",
       "0       1.0  1.000000  1.0  1.000000  1.0  1.0  1.0  1.0  1.000000  1.0  ...    \n",
       "1       1.0  1.020335  1.0  1.000000  1.0  1.0  1.0  1.0  1.042046  1.0  ...    \n",
       "2       1.0  1.000000  1.0  1.000000  1.0  1.0  1.0  1.0  1.000000  1.0  ...    \n",
       "3       1.0  1.020092  1.0  1.011925  1.0  1.0  1.0  1.0  1.000000  1.0  ...    \n",
       "4       1.0  1.000000  1.0  1.000000  1.0  1.0  1.0  1.0  1.000000  1.0  ...    \n",
       "\n",
       "   1164  1165  1166  1167  1168  1169      1170  1171  1172  1173  \n",
       "0   1.0   1.0   1.0   1.0   1.0   1.0  1.000000   1.0   1.0   1.0  \n",
       "1   1.0   1.0   1.0   1.0   1.0   1.0  1.000000   1.0   1.0   1.0  \n",
       "2   1.0   1.0   1.0   1.0   1.0   1.0  1.000000   1.0   1.0   1.0  \n",
       "3   1.0   1.0   1.0   1.0   1.0   1.0  1.021715   1.0   1.0   1.0  \n",
       "4   1.0   1.0   1.0   1.0   1.0   1.0  1.000000   1.0   1.0   1.0  \n",
       "\n",
       "[5 rows x 1175 columns]"
      ]
     },
     "execution_count": 165,
     "metadata": {},
     "output_type": "execute_result"
    }
   ],
   "source": [
    "newX.head()"
   ]
  },
  {
   "cell_type": "code",
   "execution_count": 170,
   "metadata": {
    "collapsed": false,
    "inputHidden": false,
    "jupyter": {
     "outputs_hidden": false
    },
    "outputHidden": false
   },
   "outputs": [
    {
     "data": {
      "text/html": [
       "<div>\n",
       "<style scoped>\n",
       "    .dataframe tbody tr th:only-of-type {\n",
       "        vertical-align: middle;\n",
       "    }\n",
       "\n",
       "    .dataframe tbody tr th {\n",
       "        vertical-align: top;\n",
       "    }\n",
       "\n",
       "    .dataframe thead th {\n",
       "        text-align: right;\n",
       "    }\n",
       "</style>\n",
       "<table border=\"1\" class=\"dataframe\">\n",
       "  <thead>\n",
       "    <tr style=\"text-align: right;\">\n",
       "      <th></th>\n",
       "      <th>coef</th>\n",
       "    </tr>\n",
       "  </thead>\n",
       "  <tbody>\n",
       "    <tr>\n",
       "      <th>tcp</th>\n",
       "      <td>140.706868</td>\n",
       "    </tr>\n",
       "    <tr>\n",
       "      <th>kippery</th>\n",
       "      <td>96.256696</td>\n",
       "    </tr>\n",
       "    <tr>\n",
       "      <th>travel retail</th>\n",
       "      <td>89.796430</td>\n",
       "    </tr>\n",
       "    <tr>\n",
       "      <th>green leaves</th>\n",
       "      <td>89.431767</td>\n",
       "    </tr>\n",
       "    <tr>\n",
       "      <th>buttermilk</th>\n",
       "      <td>74.590878</td>\n",
       "    </tr>\n",
       "    <tr>\n",
       "      <th>lint</th>\n",
       "      <td>73.939466</td>\n",
       "    </tr>\n",
       "    <tr>\n",
       "      <th>powder</th>\n",
       "      <td>68.746866</td>\n",
       "    </tr>\n",
       "    <tr>\n",
       "      <th>spent fireworks</th>\n",
       "      <td>68.386497</td>\n",
       "    </tr>\n",
       "    <tr>\n",
       "      <th>medium length</th>\n",
       "      <td>68.233798</td>\n",
       "    </tr>\n",
       "    <tr>\n",
       "      <th>filtered</th>\n",
       "      <td>65.781572</td>\n",
       "    </tr>\n",
       "    <tr>\n",
       "      <th>statement</th>\n",
       "      <td>63.814311</td>\n",
       "    </tr>\n",
       "    <tr>\n",
       "      <th>caol</th>\n",
       "      <td>63.526685</td>\n",
       "    </tr>\n",
       "    <tr>\n",
       "      <th>tobacco ash</th>\n",
       "      <td>62.593751</td>\n",
       "    </tr>\n",
       "    <tr>\n",
       "      <th>excellent</th>\n",
       "      <td>60.937941</td>\n",
       "    </tr>\n",
       "    <tr>\n",
       "      <th>tropical</th>\n",
       "      <td>59.986051</td>\n",
       "    </tr>\n",
       "    <tr>\n",
       "      <th>cigar boxes</th>\n",
       "      <td>53.940700</td>\n",
       "    </tr>\n",
       "    <tr>\n",
       "      <th>olive</th>\n",
       "      <td>51.638943</td>\n",
       "    </tr>\n",
       "    <tr>\n",
       "      <th>diesel</th>\n",
       "      <td>50.741349</td>\n",
       "    </tr>\n",
       "    <tr>\n",
       "      <th>complex</th>\n",
       "      <td>50.143765</td>\n",
       "    </tr>\n",
       "    <tr>\n",
       "      <th>sherry butts</th>\n",
       "      <td>50.124891</td>\n",
       "    </tr>\n",
       "    <tr>\n",
       "      <th>000</th>\n",
       "      <td>49.171308</td>\n",
       "    </tr>\n",
       "    <tr>\n",
       "      <th>silky</th>\n",
       "      <td>47.406461</td>\n",
       "    </tr>\n",
       "    <tr>\n",
       "      <th>burnt toast</th>\n",
       "      <td>46.210189</td>\n",
       "    </tr>\n",
       "    <tr>\n",
       "      <th>375</th>\n",
       "      <td>46.057847</td>\n",
       "    </tr>\n",
       "    <tr>\n",
       "      <th>wonderful</th>\n",
       "      <td>44.740502</td>\n",
       "    </tr>\n",
       "    <tr>\n",
       "      <th>bung cloth</th>\n",
       "      <td>44.645629</td>\n",
       "    </tr>\n",
       "    <tr>\n",
       "      <th>turnips</th>\n",
       "      <td>44.364455</td>\n",
       "    </tr>\n",
       "    <tr>\n",
       "      <th>leather upholstery</th>\n",
       "      <td>43.880150</td>\n",
       "    </tr>\n",
       "    <tr>\n",
       "      <th>shoe polish</th>\n",
       "      <td>43.532344</td>\n",
       "    </tr>\n",
       "    <tr>\n",
       "      <th>delicious</th>\n",
       "      <td>42.873636</td>\n",
       "    </tr>\n",
       "    <tr>\n",
       "      <th>...</th>\n",
       "      <td>...</td>\n",
       "    </tr>\n",
       "    <tr>\n",
       "      <th>dominant</th>\n",
       "      <td>-48.494668</td>\n",
       "    </tr>\n",
       "    <tr>\n",
       "      <th>short</th>\n",
       "      <td>-48.541903</td>\n",
       "    </tr>\n",
       "    <tr>\n",
       "      <th>weetabix</th>\n",
       "      <td>-49.038329</td>\n",
       "    </tr>\n",
       "    <tr>\n",
       "      <th>rye spice</th>\n",
       "      <td>-49.184172</td>\n",
       "    </tr>\n",
       "    <tr>\n",
       "      <th>pear drops</th>\n",
       "      <td>-49.259923</td>\n",
       "    </tr>\n",
       "    <tr>\n",
       "      <th>tingling</th>\n",
       "      <td>-50.242023</td>\n",
       "    </tr>\n",
       "    <tr>\n",
       "      <th>emerging</th>\n",
       "      <td>-51.074939</td>\n",
       "    </tr>\n",
       "    <tr>\n",
       "      <th>tropical fruits</th>\n",
       "      <td>-53.037846</td>\n",
       "    </tr>\n",
       "    <tr>\n",
       "      <th>chill filtered</th>\n",
       "      <td>-54.719242</td>\n",
       "    </tr>\n",
       "    <tr>\n",
       "      <th>yeasty</th>\n",
       "      <td>-56.077824</td>\n",
       "    </tr>\n",
       "    <tr>\n",
       "      <th>burnt rubber</th>\n",
       "      <td>-58.726551</td>\n",
       "    </tr>\n",
       "    <tr>\n",
       "      <th>mid</th>\n",
       "      <td>-61.015432</td>\n",
       "    </tr>\n",
       "    <tr>\n",
       "      <th>length</th>\n",
       "      <td>-62.546779</td>\n",
       "    </tr>\n",
       "    <tr>\n",
       "      <th>digestive biscuits</th>\n",
       "      <td>-63.055027</td>\n",
       "    </tr>\n",
       "    <tr>\n",
       "      <th>metallic</th>\n",
       "      <td>-63.182809</td>\n",
       "    </tr>\n",
       "    <tr>\n",
       "      <th>pea pods</th>\n",
       "      <td>-64.037132</td>\n",
       "    </tr>\n",
       "    <tr>\n",
       "      <th>new rubber</th>\n",
       "      <td>-64.730530</td>\n",
       "    </tr>\n",
       "    <tr>\n",
       "      <th>spirity</th>\n",
       "      <td>-66.865177</td>\n",
       "    </tr>\n",
       "    <tr>\n",
       "      <th>cocoa powder</th>\n",
       "      <td>-72.463885</td>\n",
       "    </tr>\n",
       "    <tr>\n",
       "      <th>vegetal</th>\n",
       "      <td>-73.260715</td>\n",
       "    </tr>\n",
       "    <tr>\n",
       "      <th>retail</th>\n",
       "      <td>-77.153416</td>\n",
       "    </tr>\n",
       "    <tr>\n",
       "      <th>cellars</th>\n",
       "      <td>-81.157883</td>\n",
       "    </tr>\n",
       "    <tr>\n",
       "      <th>greenhouse</th>\n",
       "      <td>-83.094847</td>\n",
       "    </tr>\n",
       "    <tr>\n",
       "      <th>age statement</th>\n",
       "      <td>-87.571405</td>\n",
       "    </tr>\n",
       "    <tr>\n",
       "      <th>sulphur</th>\n",
       "      <td>-89.793243</td>\n",
       "    </tr>\n",
       "    <tr>\n",
       "      <th>caol ila</th>\n",
       "      <td>-102.596326</td>\n",
       "    </tr>\n",
       "    <tr>\n",
       "      <th>cerealy</th>\n",
       "      <td>-106.412847</td>\n",
       "    </tr>\n",
       "    <tr>\n",
       "      <th>harsh</th>\n",
       "      <td>-126.764772</td>\n",
       "    </tr>\n",
       "    <tr>\n",
       "      <th>fresh laundry</th>\n",
       "      <td>-149.102557</td>\n",
       "    </tr>\n",
       "    <tr>\n",
       "      <th>winey</th>\n",
       "      <td>-173.018592</td>\n",
       "    </tr>\n",
       "  </tbody>\n",
       "</table>\n",
       "<p>1174 rows × 1 columns</p>\n",
       "</div>"
      ],
      "text/plain": [
       "                          coef\n",
       "tcp                 140.706868\n",
       "kippery              96.256696\n",
       "travel retail        89.796430\n",
       "green leaves         89.431767\n",
       "buttermilk           74.590878\n",
       "lint                 73.939466\n",
       "powder               68.746866\n",
       "spent fireworks      68.386497\n",
       "medium length        68.233798\n",
       "filtered             65.781572\n",
       "statement            63.814311\n",
       "caol                 63.526685\n",
       "tobacco ash          62.593751\n",
       "excellent            60.937941\n",
       "tropical             59.986051\n",
       "cigar boxes          53.940700\n",
       "olive                51.638943\n",
       "diesel               50.741349\n",
       "complex              50.143765\n",
       "sherry butts         50.124891\n",
       "000                  49.171308\n",
       "silky                47.406461\n",
       "burnt toast          46.210189\n",
       "375                  46.057847\n",
       "wonderful            44.740502\n",
       "bung cloth           44.645629\n",
       "turnips              44.364455\n",
       "leather upholstery   43.880150\n",
       "shoe polish          43.532344\n",
       "delicious            42.873636\n",
       "...                        ...\n",
       "dominant            -48.494668\n",
       "short               -48.541903\n",
       "weetabix            -49.038329\n",
       "rye spice           -49.184172\n",
       "pear drops          -49.259923\n",
       "tingling            -50.242023\n",
       "emerging            -51.074939\n",
       "tropical fruits     -53.037846\n",
       "chill filtered      -54.719242\n",
       "yeasty              -56.077824\n",
       "burnt rubber        -58.726551\n",
       "mid                 -61.015432\n",
       "length              -62.546779\n",
       "digestive biscuits  -63.055027\n",
       "metallic            -63.182809\n",
       "pea pods            -64.037132\n",
       "new rubber          -64.730530\n",
       "spirity             -66.865177\n",
       "cocoa powder        -72.463885\n",
       "vegetal             -73.260715\n",
       "retail              -77.153416\n",
       "cellars             -81.157883\n",
       "greenhouse          -83.094847\n",
       "age statement       -87.571405\n",
       "sulphur             -89.793243\n",
       "caol ila           -102.596326\n",
       "cerealy            -106.412847\n",
       "harsh              -126.764772\n",
       "fresh laundry      -149.102557\n",
       "winey              -173.018592\n",
       "\n",
       "[1174 rows x 1 columns]"
      ]
     },
     "execution_count": 170,
     "metadata": {},
     "output_type": "execute_result"
    }
   ],
   "source": [
    "model.sort_values(by=['coef'], ascending=False)"
   ]
  },
  {
   "cell_type": "code",
   "execution_count": 197,
   "metadata": {
    "collapsed": false,
    "inputHidden": false,
    "jupyter": {
     "outputs_hidden": false
    },
    "outputHidden": false
   },
   "outputs": [],
   "source": [
    "model['p values'] = pval"
   ]
  },
  {
   "cell_type": "code",
   "execution_count": 198,
   "metadata": {
    "collapsed": false,
    "inputHidden": false,
    "jupyter": {
     "outputs_hidden": false
    },
    "outputHidden": false
   },
   "outputs": [
    {
     "data": {
      "text/html": [
       "<div>\n",
       "<style scoped>\n",
       "    .dataframe tbody tr th:only-of-type {\n",
       "        vertical-align: middle;\n",
       "    }\n",
       "\n",
       "    .dataframe tbody tr th {\n",
       "        vertical-align: top;\n",
       "    }\n",
       "\n",
       "    .dataframe thead th {\n",
       "        text-align: right;\n",
       "    }\n",
       "</style>\n",
       "<table border=\"1\" class=\"dataframe\">\n",
       "  <thead>\n",
       "    <tr style=\"text-align: right;\">\n",
       "      <th></th>\n",
       "      <th>coef</th>\n",
       "      <th>p values</th>\n",
       "    </tr>\n",
       "  </thead>\n",
       "  <tbody>\n",
       "    <tr>\n",
       "      <th>hot</th>\n",
       "      <td>-7.072621</td>\n",
       "      <td>2.036525e-30</td>\n",
       "    </tr>\n",
       "    <tr>\n",
       "      <th>sweet</th>\n",
       "      <td>-3.406847</td>\n",
       "      <td>1.993053e-18</td>\n",
       "    </tr>\n",
       "    <tr>\n",
       "      <th>balanced</th>\n",
       "      <td>5.972575</td>\n",
       "      <td>1.899950e-13</td>\n",
       "    </tr>\n",
       "    <tr>\n",
       "      <th>harsh</th>\n",
       "      <td>-21.641705</td>\n",
       "      <td>1.576740e-12</td>\n",
       "    </tr>\n",
       "    <tr>\n",
       "      <th>youthful</th>\n",
       "      <td>-7.410462</td>\n",
       "      <td>7.977927e-10</td>\n",
       "    </tr>\n",
       "    <tr>\n",
       "      <th>nutmeg</th>\n",
       "      <td>5.678638</td>\n",
       "      <td>5.107942e-09</td>\n",
       "    </tr>\n",
       "    <tr>\n",
       "      <th>toffee</th>\n",
       "      <td>2.170664</td>\n",
       "      <td>7.754423e-08</td>\n",
       "    </tr>\n",
       "    <tr>\n",
       "      <th>yeasty</th>\n",
       "      <td>-14.333041</td>\n",
       "      <td>9.832036e-08</td>\n",
       "    </tr>\n",
       "    <tr>\n",
       "      <th>rich</th>\n",
       "      <td>3.517390</td>\n",
       "      <td>2.057765e-07</td>\n",
       "    </tr>\n",
       "    <tr>\n",
       "      <th>hay</th>\n",
       "      <td>-6.647279</td>\n",
       "      <td>3.226320e-07</td>\n",
       "    </tr>\n",
       "    <tr>\n",
       "      <th>dark</th>\n",
       "      <td>2.841235</td>\n",
       "      <td>5.816125e-07</td>\n",
       "    </tr>\n",
       "    <tr>\n",
       "      <th>medicinal</th>\n",
       "      <td>-7.173740</td>\n",
       "      <td>1.668350e-06</td>\n",
       "    </tr>\n",
       "    <tr>\n",
       "      <th>tobacco</th>\n",
       "      <td>3.406632</td>\n",
       "      <td>3.301802e-06</td>\n",
       "    </tr>\n",
       "    <tr>\n",
       "      <th>spirity</th>\n",
       "      <td>-20.804768</td>\n",
       "      <td>1.115641e-05</td>\n",
       "    </tr>\n",
       "    <tr>\n",
       "      <th>cake</th>\n",
       "      <td>4.989585</td>\n",
       "      <td>3.992003e-05</td>\n",
       "    </tr>\n",
       "    <tr>\n",
       "      <th>grassy</th>\n",
       "      <td>-4.130393</td>\n",
       "      <td>5.207861e-05</td>\n",
       "    </tr>\n",
       "    <tr>\n",
       "      <th>marmalade</th>\n",
       "      <td>4.679345</td>\n",
       "      <td>9.918022e-05</td>\n",
       "    </tr>\n",
       "    <tr>\n",
       "      <th>solvent</th>\n",
       "      <td>-12.849157</td>\n",
       "      <td>3.281576e-04</td>\n",
       "    </tr>\n",
       "    <tr>\n",
       "      <th>coal</th>\n",
       "      <td>7.358239</td>\n",
       "      <td>3.454776e-04</td>\n",
       "    </tr>\n",
       "    <tr>\n",
       "      <th>figs</th>\n",
       "      <td>7.866818</td>\n",
       "      <td>4.185229e-04</td>\n",
       "    </tr>\n",
       "    <tr>\n",
       "      <th>cereal</th>\n",
       "      <td>-3.671767</td>\n",
       "      <td>6.161050e-04</td>\n",
       "    </tr>\n",
       "    <tr>\n",
       "      <th>vanilla</th>\n",
       "      <td>0.930208</td>\n",
       "      <td>4.861016e-03</td>\n",
       "    </tr>\n",
       "    <tr>\n",
       "      <th>prunes</th>\n",
       "      <td>5.711183</td>\n",
       "      <td>5.804276e-03</td>\n",
       "    </tr>\n",
       "    <tr>\n",
       "      <th>coconut</th>\n",
       "      <td>1.830726</td>\n",
       "      <td>6.374835e-03</td>\n",
       "    </tr>\n",
       "    <tr>\n",
       "      <th>seaweed</th>\n",
       "      <td>3.679364</td>\n",
       "      <td>7.024751e-03</td>\n",
       "    </tr>\n",
       "    <tr>\n",
       "      <th>mouth coating</th>\n",
       "      <td>3.465284</td>\n",
       "      <td>1.190237e-02</td>\n",
       "    </tr>\n",
       "    <tr>\n",
       "      <th>sandalwood</th>\n",
       "      <td>3.488477</td>\n",
       "      <td>1.735319e-02</td>\n",
       "    </tr>\n",
       "    <tr>\n",
       "      <th>tangerine</th>\n",
       "      <td>3.224561</td>\n",
       "      <td>1.960462e-02</td>\n",
       "    </tr>\n",
       "    <tr>\n",
       "      <th>estery</th>\n",
       "      <td>-6.626066</td>\n",
       "      <td>1.971254e-02</td>\n",
       "    </tr>\n",
       "    <tr>\n",
       "      <th>clover honey</th>\n",
       "      <td>-9.721206</td>\n",
       "      <td>2.623743e-02</td>\n",
       "    </tr>\n",
       "    <tr>\n",
       "      <th>...</th>\n",
       "      <td>...</td>\n",
       "      <td>...</td>\n",
       "    </tr>\n",
       "    <tr>\n",
       "      <th>firm</th>\n",
       "      <td>0.178189</td>\n",
       "      <td>5.273278e-01</td>\n",
       "    </tr>\n",
       "    <tr>\n",
       "      <th>sponge</th>\n",
       "      <td>-2.610333</td>\n",
       "      <td>5.602952e-01</td>\n",
       "    </tr>\n",
       "    <tr>\n",
       "      <th>ink</th>\n",
       "      <td>2.836566</td>\n",
       "      <td>5.617371e-01</td>\n",
       "    </tr>\n",
       "    <tr>\n",
       "      <th>kiwi</th>\n",
       "      <td>1.345481</td>\n",
       "      <td>5.745353e-01</td>\n",
       "    </tr>\n",
       "    <tr>\n",
       "      <th>pears</th>\n",
       "      <td>1.008965</td>\n",
       "      <td>5.810985e-01</td>\n",
       "    </tr>\n",
       "    <tr>\n",
       "      <th>camphor</th>\n",
       "      <td>0.088376</td>\n",
       "      <td>5.914921e-01</td>\n",
       "    </tr>\n",
       "    <tr>\n",
       "      <th>salty</th>\n",
       "      <td>-0.835890</td>\n",
       "      <td>6.221168e-01</td>\n",
       "    </tr>\n",
       "    <tr>\n",
       "      <th>polish</th>\n",
       "      <td>1.392056</td>\n",
       "      <td>6.342513e-01</td>\n",
       "    </tr>\n",
       "    <tr>\n",
       "      <th>tar</th>\n",
       "      <td>0.091316</td>\n",
       "      <td>6.795877e-01</td>\n",
       "    </tr>\n",
       "    <tr>\n",
       "      <th>sage</th>\n",
       "      <td>2.081325</td>\n",
       "      <td>6.856525e-01</td>\n",
       "    </tr>\n",
       "    <tr>\n",
       "      <th>beeswax</th>\n",
       "      <td>0.089328</td>\n",
       "      <td>6.872022e-01</td>\n",
       "    </tr>\n",
       "    <tr>\n",
       "      <th>creosote</th>\n",
       "      <td>0.585952</td>\n",
       "      <td>6.894275e-01</td>\n",
       "    </tr>\n",
       "    <tr>\n",
       "      <th>soft</th>\n",
       "      <td>0.088219</td>\n",
       "      <td>6.906901e-01</td>\n",
       "    </tr>\n",
       "    <tr>\n",
       "      <th>spicy</th>\n",
       "      <td>-0.158154</td>\n",
       "      <td>6.925392e-01</td>\n",
       "    </tr>\n",
       "    <tr>\n",
       "      <th>porridge</th>\n",
       "      <td>2.397259</td>\n",
       "      <td>6.938933e-01</td>\n",
       "    </tr>\n",
       "    <tr>\n",
       "      <th>nectarines</th>\n",
       "      <td>-2.932435</td>\n",
       "      <td>7.000846e-01</td>\n",
       "    </tr>\n",
       "    <tr>\n",
       "      <th>floral</th>\n",
       "      <td>-0.354415</td>\n",
       "      <td>7.082308e-01</td>\n",
       "    </tr>\n",
       "    <tr>\n",
       "      <th>fennel</th>\n",
       "      <td>0.106010</td>\n",
       "      <td>7.139965e-01</td>\n",
       "    </tr>\n",
       "    <tr>\n",
       "      <th>cheese</th>\n",
       "      <td>-1.302758</td>\n",
       "      <td>7.173103e-01</td>\n",
       "    </tr>\n",
       "    <tr>\n",
       "      <th>zest</th>\n",
       "      <td>0.857144</td>\n",
       "      <td>7.487716e-01</td>\n",
       "    </tr>\n",
       "    <tr>\n",
       "      <th>mixed peel</th>\n",
       "      <td>-1.192545</td>\n",
       "      <td>8.018782e-01</td>\n",
       "    </tr>\n",
       "    <tr>\n",
       "      <th>coffee grounds</th>\n",
       "      <td>-1.908271</td>\n",
       "      <td>8.100151e-01</td>\n",
       "    </tr>\n",
       "    <tr>\n",
       "      <th>soft fruit</th>\n",
       "      <td>0.405870</td>\n",
       "      <td>8.658010e-01</td>\n",
       "    </tr>\n",
       "    <tr>\n",
       "      <th>big</th>\n",
       "      <td>0.068143</td>\n",
       "      <td>8.796119e-01</td>\n",
       "    </tr>\n",
       "    <tr>\n",
       "      <th>austere</th>\n",
       "      <td>-1.231937</td>\n",
       "      <td>8.859466e-01</td>\n",
       "    </tr>\n",
       "    <tr>\n",
       "      <th>allspice</th>\n",
       "      <td>0.033661</td>\n",
       "      <td>9.358513e-01</td>\n",
       "    </tr>\n",
       "    <tr>\n",
       "      <th>leathery</th>\n",
       "      <td>-0.614043</td>\n",
       "      <td>9.759554e-01</td>\n",
       "    </tr>\n",
       "    <tr>\n",
       "      <th>fresh fruit</th>\n",
       "      <td>-0.399896</td>\n",
       "      <td>9.767588e-01</td>\n",
       "    </tr>\n",
       "    <tr>\n",
       "      <th>heather honey</th>\n",
       "      <td>-0.615019</td>\n",
       "      <td>9.889050e-01</td>\n",
       "    </tr>\n",
       "    <tr>\n",
       "      <th>lavender</th>\n",
       "      <td>-0.003201</td>\n",
       "      <td>9.891912e-01</td>\n",
       "    </tr>\n",
       "  </tbody>\n",
       "</table>\n",
       "<p>117 rows × 2 columns</p>\n",
       "</div>"
      ],
      "text/plain": [
       "                     coef      p values\n",
       "hot             -7.072621  2.036525e-30\n",
       "sweet           -3.406847  1.993053e-18\n",
       "balanced         5.972575  1.899950e-13\n",
       "harsh          -21.641705  1.576740e-12\n",
       "youthful        -7.410462  7.977927e-10\n",
       "nutmeg           5.678638  5.107942e-09\n",
       "toffee           2.170664  7.754423e-08\n",
       "yeasty         -14.333041  9.832036e-08\n",
       "rich             3.517390  2.057765e-07\n",
       "hay             -6.647279  3.226320e-07\n",
       "dark             2.841235  5.816125e-07\n",
       "medicinal       -7.173740  1.668350e-06\n",
       "tobacco          3.406632  3.301802e-06\n",
       "spirity        -20.804768  1.115641e-05\n",
       "cake             4.989585  3.992003e-05\n",
       "grassy          -4.130393  5.207861e-05\n",
       "marmalade        4.679345  9.918022e-05\n",
       "solvent        -12.849157  3.281576e-04\n",
       "coal             7.358239  3.454776e-04\n",
       "figs             7.866818  4.185229e-04\n",
       "cereal          -3.671767  6.161050e-04\n",
       "vanilla          0.930208  4.861016e-03\n",
       "prunes           5.711183  5.804276e-03\n",
       "coconut          1.830726  6.374835e-03\n",
       "seaweed          3.679364  7.024751e-03\n",
       "mouth coating    3.465284  1.190237e-02\n",
       "sandalwood       3.488477  1.735319e-02\n",
       "tangerine        3.224561  1.960462e-02\n",
       "estery          -6.626066  1.971254e-02\n",
       "clover honey    -9.721206  2.623743e-02\n",
       "...                   ...           ...\n",
       "firm             0.178189  5.273278e-01\n",
       "sponge          -2.610333  5.602952e-01\n",
       "ink              2.836566  5.617371e-01\n",
       "kiwi             1.345481  5.745353e-01\n",
       "pears            1.008965  5.810985e-01\n",
       "camphor          0.088376  5.914921e-01\n",
       "salty           -0.835890  6.221168e-01\n",
       "polish           1.392056  6.342513e-01\n",
       "tar              0.091316  6.795877e-01\n",
       "sage             2.081325  6.856525e-01\n",
       "beeswax          0.089328  6.872022e-01\n",
       "creosote         0.585952  6.894275e-01\n",
       "soft             0.088219  6.906901e-01\n",
       "spicy           -0.158154  6.925392e-01\n",
       "porridge         2.397259  6.938933e-01\n",
       "nectarines      -2.932435  7.000846e-01\n",
       "floral          -0.354415  7.082308e-01\n",
       "fennel           0.106010  7.139965e-01\n",
       "cheese          -1.302758  7.173103e-01\n",
       "zest             0.857144  7.487716e-01\n",
       "mixed peel      -1.192545  8.018782e-01\n",
       "coffee grounds  -1.908271  8.100151e-01\n",
       "soft fruit       0.405870  8.658010e-01\n",
       "big              0.068143  8.796119e-01\n",
       "austere         -1.231937  8.859466e-01\n",
       "allspice         0.033661  9.358513e-01\n",
       "leathery        -0.614043  9.759554e-01\n",
       "fresh fruit     -0.399896  9.767588e-01\n",
       "heather honey   -0.615019  9.889050e-01\n",
       "lavender        -0.003201  9.891912e-01\n",
       "\n",
       "[117 rows x 2 columns]"
      ]
     },
     "execution_count": 198,
     "metadata": {},
     "output_type": "execute_result"
    }
   ],
   "source": [
    "model.sort_values(by=['p values', 'coef'])"
   ]
  },
  {
   "cell_type": "code",
   "execution_count": 231,
   "metadata": {
    "collapsed": false,
    "inputHidden": false,
    "jupyter": {
     "outputs_hidden": false
    },
    "outputHidden": false
   },
   "outputs": [
    {
     "data": {
      "text/html": [
       "<div>\n",
       "<style scoped>\n",
       "    .dataframe tbody tr th:only-of-type {\n",
       "        vertical-align: middle;\n",
       "    }\n",
       "\n",
       "    .dataframe tbody tr th {\n",
       "        vertical-align: top;\n",
       "    }\n",
       "\n",
       "    .dataframe thead th {\n",
       "        text-align: right;\n",
       "    }\n",
       "</style>\n",
       "<table border=\"1\" class=\"dataframe\">\n",
       "  <thead>\n",
       "    <tr style=\"text-align: right;\">\n",
       "      <th></th>\n",
       "      <th>coef</th>\n",
       "      <th>p values</th>\n",
       "    </tr>\n",
       "  </thead>\n",
       "  <tbody>\n",
       "    <tr>\n",
       "      <th>harsh</th>\n",
       "      <td>-21.6417</td>\n",
       "      <td>0.0000</td>\n",
       "    </tr>\n",
       "    <tr>\n",
       "      <th>spirity</th>\n",
       "      <td>-20.8048</td>\n",
       "      <td>0.0000</td>\n",
       "    </tr>\n",
       "    <tr>\n",
       "      <th>yeasty</th>\n",
       "      <td>-14.3330</td>\n",
       "      <td>0.0000</td>\n",
       "    </tr>\n",
       "    <tr>\n",
       "      <th>solvent</th>\n",
       "      <td>-12.8492</td>\n",
       "      <td>0.0003</td>\n",
       "    </tr>\n",
       "    <tr>\n",
       "      <th>clover honey</th>\n",
       "      <td>-9.7212</td>\n",
       "      <td>0.0262</td>\n",
       "    </tr>\n",
       "    <tr>\n",
       "      <th>youthful</th>\n",
       "      <td>-7.4105</td>\n",
       "      <td>0.0000</td>\n",
       "    </tr>\n",
       "    <tr>\n",
       "      <th>medicinal</th>\n",
       "      <td>-7.1737</td>\n",
       "      <td>0.0000</td>\n",
       "    </tr>\n",
       "    <tr>\n",
       "      <th>hot</th>\n",
       "      <td>-7.0726</td>\n",
       "      <td>0.0000</td>\n",
       "    </tr>\n",
       "    <tr>\n",
       "      <th>hay</th>\n",
       "      <td>-6.6473</td>\n",
       "      <td>0.0000</td>\n",
       "    </tr>\n",
       "    <tr>\n",
       "      <th>estery</th>\n",
       "      <td>-6.6261</td>\n",
       "      <td>0.0197</td>\n",
       "    </tr>\n",
       "    <tr>\n",
       "      <th>grassy</th>\n",
       "      <td>-4.1304</td>\n",
       "      <td>0.0001</td>\n",
       "    </tr>\n",
       "    <tr>\n",
       "      <th>cereal</th>\n",
       "      <td>-3.6718</td>\n",
       "      <td>0.0006</td>\n",
       "    </tr>\n",
       "    <tr>\n",
       "      <th>sweet</th>\n",
       "      <td>-3.4068</td>\n",
       "      <td>0.0000</td>\n",
       "    </tr>\n",
       "    <tr>\n",
       "      <th>warm</th>\n",
       "      <td>-2.0901</td>\n",
       "      <td>0.0311</td>\n",
       "    </tr>\n",
       "    <tr>\n",
       "      <th>lemon</th>\n",
       "      <td>-1.8647</td>\n",
       "      <td>0.0407</td>\n",
       "    </tr>\n",
       "    <tr>\n",
       "      <th>herbal</th>\n",
       "      <td>-1.5096</td>\n",
       "      <td>0.0429</td>\n",
       "    </tr>\n",
       "    <tr>\n",
       "      <th>dry</th>\n",
       "      <td>-1.5022</td>\n",
       "      <td>0.0388</td>\n",
       "    </tr>\n",
       "    <tr>\n",
       "      <th>vanilla</th>\n",
       "      <td>0.9302</td>\n",
       "      <td>0.0049</td>\n",
       "    </tr>\n",
       "    <tr>\n",
       "      <th>subtle</th>\n",
       "      <td>1.1409</td>\n",
       "      <td>0.0269</td>\n",
       "    </tr>\n",
       "    <tr>\n",
       "      <th>coconut</th>\n",
       "      <td>1.8307</td>\n",
       "      <td>0.0064</td>\n",
       "    </tr>\n",
       "    <tr>\n",
       "      <th>toffee</th>\n",
       "      <td>2.1707</td>\n",
       "      <td>0.0000</td>\n",
       "    </tr>\n",
       "    <tr>\n",
       "      <th>smoky</th>\n",
       "      <td>2.4067</td>\n",
       "      <td>0.0467</td>\n",
       "    </tr>\n",
       "    <tr>\n",
       "      <th>dark</th>\n",
       "      <td>2.8412</td>\n",
       "      <td>0.0000</td>\n",
       "    </tr>\n",
       "    <tr>\n",
       "      <th>tangerine</th>\n",
       "      <td>3.2246</td>\n",
       "      <td>0.0196</td>\n",
       "    </tr>\n",
       "    <tr>\n",
       "      <th>tobacco</th>\n",
       "      <td>3.4066</td>\n",
       "      <td>0.0000</td>\n",
       "    </tr>\n",
       "    <tr>\n",
       "      <th>mouth coating</th>\n",
       "      <td>3.4653</td>\n",
       "      <td>0.0119</td>\n",
       "    </tr>\n",
       "    <tr>\n",
       "      <th>sandalwood</th>\n",
       "      <td>3.4885</td>\n",
       "      <td>0.0174</td>\n",
       "    </tr>\n",
       "    <tr>\n",
       "      <th>rich</th>\n",
       "      <td>3.5174</td>\n",
       "      <td>0.0000</td>\n",
       "    </tr>\n",
       "    <tr>\n",
       "      <th>seaweed</th>\n",
       "      <td>3.6794</td>\n",
       "      <td>0.0070</td>\n",
       "    </tr>\n",
       "    <tr>\n",
       "      <th>marmalade</th>\n",
       "      <td>4.6793</td>\n",
       "      <td>0.0001</td>\n",
       "    </tr>\n",
       "    <tr>\n",
       "      <th>cake</th>\n",
       "      <td>4.9896</td>\n",
       "      <td>0.0000</td>\n",
       "    </tr>\n",
       "    <tr>\n",
       "      <th>nutmeg</th>\n",
       "      <td>5.6786</td>\n",
       "      <td>0.0000</td>\n",
       "    </tr>\n",
       "    <tr>\n",
       "      <th>prunes</th>\n",
       "      <td>5.7112</td>\n",
       "      <td>0.0058</td>\n",
       "    </tr>\n",
       "    <tr>\n",
       "      <th>balanced</th>\n",
       "      <td>5.9726</td>\n",
       "      <td>0.0000</td>\n",
       "    </tr>\n",
       "    <tr>\n",
       "      <th>coal</th>\n",
       "      <td>7.3582</td>\n",
       "      <td>0.0003</td>\n",
       "    </tr>\n",
       "    <tr>\n",
       "      <th>figs</th>\n",
       "      <td>7.8668</td>\n",
       "      <td>0.0004</td>\n",
       "    </tr>\n",
       "  </tbody>\n",
       "</table>\n",
       "</div>"
      ],
      "text/plain": [
       "                  coef  p values\n",
       "harsh         -21.6417    0.0000\n",
       "spirity       -20.8048    0.0000\n",
       "yeasty        -14.3330    0.0000\n",
       "solvent       -12.8492    0.0003\n",
       "clover honey   -9.7212    0.0262\n",
       "youthful       -7.4105    0.0000\n",
       "medicinal      -7.1737    0.0000\n",
       "hot            -7.0726    0.0000\n",
       "hay            -6.6473    0.0000\n",
       "estery         -6.6261    0.0197\n",
       "grassy         -4.1304    0.0001\n",
       "cereal         -3.6718    0.0006\n",
       "sweet          -3.4068    0.0000\n",
       "warm           -2.0901    0.0311\n",
       "lemon          -1.8647    0.0407\n",
       "herbal         -1.5096    0.0429\n",
       "dry            -1.5022    0.0388\n",
       "vanilla         0.9302    0.0049\n",
       "subtle          1.1409    0.0269\n",
       "coconut         1.8307    0.0064\n",
       "toffee          2.1707    0.0000\n",
       "smoky           2.4067    0.0467\n",
       "dark            2.8412    0.0000\n",
       "tangerine       3.2246    0.0196\n",
       "tobacco         3.4066    0.0000\n",
       "mouth coating   3.4653    0.0119\n",
       "sandalwood      3.4885    0.0174\n",
       "rich            3.5174    0.0000\n",
       "seaweed         3.6794    0.0070\n",
       "marmalade       4.6793    0.0001\n",
       "cake            4.9896    0.0000\n",
       "nutmeg          5.6786    0.0000\n",
       "prunes          5.7112    0.0058\n",
       "balanced        5.9726    0.0000\n",
       "coal            7.3582    0.0003\n",
       "figs            7.8668    0.0004"
      ]
     },
     "execution_count": 231,
     "metadata": {},
     "output_type": "execute_result"
    }
   ],
   "source": [
    "sample = model[model['p values'] <= 0.05].sort_values(by='coef')\n",
    "#sample = model.sort_values(by='coef')\n",
    "sample"
   ]
  },
  {
   "cell_type": "code",
   "execution_count": 223,
   "metadata": {
    "collapsed": false,
    "inputHidden": false,
    "jupyter": {
     "outputs_hidden": false
    },
    "outputHidden": false
   },
   "outputs": [
    {
     "data": {
      "text/html": [
       "<div>\n",
       "<style scoped>\n",
       "    .dataframe tbody tr th:only-of-type {\n",
       "        vertical-align: middle;\n",
       "    }\n",
       "\n",
       "    .dataframe tbody tr th {\n",
       "        vertical-align: top;\n",
       "    }\n",
       "\n",
       "    .dataframe thead th {\n",
       "        text-align: right;\n",
       "    }\n",
       "</style>\n",
       "<table border=\"1\" class=\"dataframe\">\n",
       "  <thead>\n",
       "    <tr style=\"text-align: right;\">\n",
       "      <th></th>\n",
       "      <th>coef</th>\n",
       "      <th>p values</th>\n",
       "      <th>sig</th>\n",
       "    </tr>\n",
       "  </thead>\n",
       "  <tbody>\n",
       "    <tr>\n",
       "      <th>harsh</th>\n",
       "      <td>-21.6417</td>\n",
       "      <td>0.0000</td>\n",
       "      <td>1</td>\n",
       "    </tr>\n",
       "    <tr>\n",
       "      <th>spirity</th>\n",
       "      <td>-20.8048</td>\n",
       "      <td>0.0000</td>\n",
       "      <td>1</td>\n",
       "    </tr>\n",
       "    <tr>\n",
       "      <th>yeasty</th>\n",
       "      <td>-14.3330</td>\n",
       "      <td>0.0000</td>\n",
       "      <td>1</td>\n",
       "    </tr>\n",
       "    <tr>\n",
       "      <th>solvent</th>\n",
       "      <td>-12.8492</td>\n",
       "      <td>0.0003</td>\n",
       "      <td>1</td>\n",
       "    </tr>\n",
       "    <tr>\n",
       "      <th>clover honey</th>\n",
       "      <td>-9.7212</td>\n",
       "      <td>0.0262</td>\n",
       "      <td>1</td>\n",
       "    </tr>\n",
       "    <tr>\n",
       "      <th>digestive biscuits</th>\n",
       "      <td>-7.6106</td>\n",
       "      <td>0.0520</td>\n",
       "      <td>0</td>\n",
       "    </tr>\n",
       "    <tr>\n",
       "      <th>youthful</th>\n",
       "      <td>-7.4105</td>\n",
       "      <td>0.0000</td>\n",
       "      <td>1</td>\n",
       "    </tr>\n",
       "    <tr>\n",
       "      <th>medicinal</th>\n",
       "      <td>-7.1737</td>\n",
       "      <td>0.0000</td>\n",
       "      <td>1</td>\n",
       "    </tr>\n",
       "    <tr>\n",
       "      <th>hot</th>\n",
       "      <td>-7.0726</td>\n",
       "      <td>0.0000</td>\n",
       "      <td>1</td>\n",
       "    </tr>\n",
       "    <tr>\n",
       "      <th>hay</th>\n",
       "      <td>-6.6473</td>\n",
       "      <td>0.0000</td>\n",
       "      <td>1</td>\n",
       "    </tr>\n",
       "    <tr>\n",
       "      <th>estery</th>\n",
       "      <td>-6.6261</td>\n",
       "      <td>0.0197</td>\n",
       "      <td>1</td>\n",
       "    </tr>\n",
       "    <tr>\n",
       "      <th>cork</th>\n",
       "      <td>-5.9772</td>\n",
       "      <td>0.1597</td>\n",
       "      <td>0</td>\n",
       "    </tr>\n",
       "    <tr>\n",
       "      <th>stewed apples</th>\n",
       "      <td>-5.8685</td>\n",
       "      <td>0.3119</td>\n",
       "      <td>0</td>\n",
       "    </tr>\n",
       "    <tr>\n",
       "      <th>potato</th>\n",
       "      <td>-5.8237</td>\n",
       "      <td>0.1310</td>\n",
       "      <td>0</td>\n",
       "    </tr>\n",
       "    <tr>\n",
       "      <th>pear drops</th>\n",
       "      <td>-5.7987</td>\n",
       "      <td>0.1355</td>\n",
       "      <td>0</td>\n",
       "    </tr>\n",
       "    <tr>\n",
       "      <th>mown hay</th>\n",
       "      <td>-5.7480</td>\n",
       "      <td>0.1291</td>\n",
       "      <td>0</td>\n",
       "    </tr>\n",
       "    <tr>\n",
       "      <th>mealy</th>\n",
       "      <td>-5.3675</td>\n",
       "      <td>0.1696</td>\n",
       "      <td>0</td>\n",
       "    </tr>\n",
       "    <tr>\n",
       "      <th>musty</th>\n",
       "      <td>-4.6972</td>\n",
       "      <td>0.1856</td>\n",
       "      <td>0</td>\n",
       "    </tr>\n",
       "    <tr>\n",
       "      <th>phenolic</th>\n",
       "      <td>-4.6857</td>\n",
       "      <td>0.2369</td>\n",
       "      <td>0</td>\n",
       "    </tr>\n",
       "    <tr>\n",
       "      <th>yeast</th>\n",
       "      <td>-4.5588</td>\n",
       "      <td>0.0567</td>\n",
       "      <td>0</td>\n",
       "    </tr>\n",
       "  </tbody>\n",
       "</table>\n",
       "</div>"
      ],
      "text/plain": [
       "                       coef  p values  sig\n",
       "harsh              -21.6417    0.0000    1\n",
       "spirity            -20.8048    0.0000    1\n",
       "yeasty             -14.3330    0.0000    1\n",
       "solvent            -12.8492    0.0003    1\n",
       "clover honey        -9.7212    0.0262    1\n",
       "digestive biscuits  -7.6106    0.0520    0\n",
       "youthful            -7.4105    0.0000    1\n",
       "medicinal           -7.1737    0.0000    1\n",
       "hot                 -7.0726    0.0000    1\n",
       "hay                 -6.6473    0.0000    1\n",
       "estery              -6.6261    0.0197    1\n",
       "cork                -5.9772    0.1597    0\n",
       "stewed apples       -5.8685    0.3119    0\n",
       "potato              -5.8237    0.1310    0\n",
       "pear drops          -5.7987    0.1355    0\n",
       "mown hay            -5.7480    0.1291    0\n",
       "mealy               -5.3675    0.1696    0\n",
       "musty               -4.6972    0.1856    0\n",
       "phenolic            -4.6857    0.2369    0\n",
       "yeast               -4.5588    0.0567    0"
      ]
     },
     "execution_count": 223,
     "metadata": {},
     "output_type": "execute_result"
    }
   ],
   "source": [
    "pd.options.display.float_format = '{:.4f}'.format\n",
    "sample['sig'] = sample['p values'].apply(lambda x: 1 if x < 0.05 else 0)\n",
    "sample.head(20)"
   ]
  },
  {
   "cell_type": "code",
   "execution_count": 203,
   "metadata": {
    "collapsed": false,
    "inputHidden": false,
    "jupyter": {
     "outputs_hidden": false
    },
    "outputHidden": false
   },
   "outputs": [
    {
     "data": {
      "text/plain": [
       "86.33397451310411"
      ]
     },
     "execution_count": 203,
     "metadata": {},
     "output_type": "execute_result"
    }
   ],
   "source": [
    "reg.intercept_"
   ]
  },
  {
   "cell_type": "code",
   "execution_count": 242,
   "metadata": {
    "collapsed": false,
    "inputHidden": false,
    "jupyter": {
     "outputs_hidden": false
    },
    "outputHidden": false
   },
   "outputs": [
    {
     "data": {
      "text/html": [
       "\n",
       "    <div class=\"bk-root\">\n",
       "        <a href=\"https://bokeh.pydata.org\" target=\"_blank\" class=\"bk-logo bk-logo-small bk-logo-notebook\"></a>\n",
       "        <span id=\"b7e9f015-7bce-4eef-8dd8-c6f139da8c79\">Loading BokehJS ...</span>\n",
       "    </div>"
      ]
     },
     "metadata": {},
     "output_type": "display_data"
    },
    {
     "data": {
      "application/javascript": [
       "\n",
       "(function(root) {\n",
       "  function now() {\n",
       "    return new Date();\n",
       "  }\n",
       "\n",
       "  var force = true;\n",
       "\n",
       "  if (typeof (root._bokeh_onload_callbacks) === \"undefined\" || force === true) {\n",
       "    root._bokeh_onload_callbacks = [];\n",
       "    root._bokeh_is_loading = undefined;\n",
       "  }\n",
       "\n",
       "  var JS_MIME_TYPE = 'application/javascript';\n",
       "  var HTML_MIME_TYPE = 'text/html';\n",
       "  var EXEC_MIME_TYPE = 'application/vnd.bokehjs_exec.v0+json';\n",
       "  var CLASS_NAME = 'output_bokeh rendered_html';\n",
       "\n",
       "  /**\n",
       "   * Render data to the DOM node\n",
       "   */\n",
       "  function render(props, node) {\n",
       "    var script = document.createElement(\"script\");\n",
       "    node.appendChild(script);\n",
       "  }\n",
       "\n",
       "  /**\n",
       "   * Handle when an output is cleared or removed\n",
       "   */\n",
       "  function handleClearOutput(event, handle) {\n",
       "    var cell = handle.cell;\n",
       "\n",
       "    var id = cell.output_area._bokeh_element_id;\n",
       "    var server_id = cell.output_area._bokeh_server_id;\n",
       "    // Clean up Bokeh references\n",
       "    if (id !== undefined) {\n",
       "      Bokeh.index[id].model.document.clear();\n",
       "      delete Bokeh.index[id];\n",
       "    }\n",
       "\n",
       "    if (server_id !== undefined) {\n",
       "      // Clean up Bokeh references\n",
       "      var cmd = \"from bokeh.io.state import curstate; print(curstate().uuid_to_server['\" + server_id + \"'].get_sessions()[0].document.roots[0]._id)\";\n",
       "      cell.notebook.kernel.execute(cmd, {\n",
       "        iopub: {\n",
       "          output: function(msg) {\n",
       "            var element_id = msg.content.text.trim();\n",
       "            Bokeh.index[element_id].model.document.clear();\n",
       "            delete Bokeh.index[element_id];\n",
       "          }\n",
       "        }\n",
       "      });\n",
       "      // Destroy server and session\n",
       "      var cmd = \"import bokeh.io.notebook as ion; ion.destroy_server('\" + server_id + \"')\";\n",
       "      cell.notebook.kernel.execute(cmd);\n",
       "    }\n",
       "  }\n",
       "\n",
       "  /**\n",
       "   * Handle when a new output is added\n",
       "   */\n",
       "  function handleAddOutput(event, handle) {\n",
       "    var output_area = handle.output_area;\n",
       "    var output = handle.output;\n",
       "\n",
       "    // limit handleAddOutput to display_data with EXEC_MIME_TYPE content only\n",
       "    if ((output.output_type != \"display_data\") || (!output.data.hasOwnProperty(EXEC_MIME_TYPE))) {\n",
       "      return\n",
       "    }\n",
       "\n",
       "    var toinsert = output_area.element.find(\".\" + CLASS_NAME.split(' ')[0]);\n",
       "\n",
       "    if (output.metadata[EXEC_MIME_TYPE][\"id\"] !== undefined) {\n",
       "      toinsert[toinsert.length - 1].firstChild.textContent = output.data[JS_MIME_TYPE];\n",
       "      // store reference to embed id on output_area\n",
       "      output_area._bokeh_element_id = output.metadata[EXEC_MIME_TYPE][\"id\"];\n",
       "    }\n",
       "    if (output.metadata[EXEC_MIME_TYPE][\"server_id\"] !== undefined) {\n",
       "      var bk_div = document.createElement(\"div\");\n",
       "      bk_div.innerHTML = output.data[HTML_MIME_TYPE];\n",
       "      var script_attrs = bk_div.children[0].attributes;\n",
       "      for (var i = 0; i < script_attrs.length; i++) {\n",
       "        toinsert[toinsert.length - 1].firstChild.setAttribute(script_attrs[i].name, script_attrs[i].value);\n",
       "      }\n",
       "      // store reference to server id on output_area\n",
       "      output_area._bokeh_server_id = output.metadata[EXEC_MIME_TYPE][\"server_id\"];\n",
       "    }\n",
       "  }\n",
       "\n",
       "  function register_renderer(events, OutputArea) {\n",
       "\n",
       "    function append_mime(data, metadata, element) {\n",
       "      // create a DOM node to render to\n",
       "      var toinsert = this.create_output_subarea(\n",
       "        metadata,\n",
       "        CLASS_NAME,\n",
       "        EXEC_MIME_TYPE\n",
       "      );\n",
       "      this.keyboard_manager.register_events(toinsert);\n",
       "      // Render to node\n",
       "      var props = {data: data, metadata: metadata[EXEC_MIME_TYPE]};\n",
       "      render(props, toinsert[toinsert.length - 1]);\n",
       "      element.append(toinsert);\n",
       "      return toinsert\n",
       "    }\n",
       "\n",
       "    /* Handle when an output is cleared or removed */\n",
       "    events.on('clear_output.CodeCell', handleClearOutput);\n",
       "    events.on('delete.Cell', handleClearOutput);\n",
       "\n",
       "    /* Handle when a new output is added */\n",
       "    events.on('output_added.OutputArea', handleAddOutput);\n",
       "\n",
       "    /**\n",
       "     * Register the mime type and append_mime function with output_area\n",
       "     */\n",
       "    OutputArea.prototype.register_mime_type(EXEC_MIME_TYPE, append_mime, {\n",
       "      /* Is output safe? */\n",
       "      safe: true,\n",
       "      /* Index of renderer in `output_area.display_order` */\n",
       "      index: 0\n",
       "    });\n",
       "  }\n",
       "\n",
       "  // register the mime type if in Jupyter Notebook environment and previously unregistered\n",
       "  if (root.Jupyter !== undefined) {\n",
       "    var events = require('base/js/events');\n",
       "    var OutputArea = require('notebook/js/outputarea').OutputArea;\n",
       "\n",
       "    if (OutputArea.prototype.mime_types().indexOf(EXEC_MIME_TYPE) == -1) {\n",
       "      register_renderer(events, OutputArea);\n",
       "    }\n",
       "  }\n",
       "\n",
       "  \n",
       "  if (typeof (root._bokeh_timeout) === \"undefined\" || force === true) {\n",
       "    root._bokeh_timeout = Date.now() + 5000;\n",
       "    root._bokeh_failed_load = false;\n",
       "  }\n",
       "\n",
       "  var NB_LOAD_WARNING = {'data': {'text/html':\n",
       "     \"<div style='background-color: #fdd'>\\n\"+\n",
       "     \"<p>\\n\"+\n",
       "     \"BokehJS does not appear to have successfully loaded. If loading BokehJS from CDN, this \\n\"+\n",
       "     \"may be due to a slow or bad network connection. Possible fixes:\\n\"+\n",
       "     \"</p>\\n\"+\n",
       "     \"<ul>\\n\"+\n",
       "     \"<li>re-rerun `output_notebook()` to attempt to load from CDN again, or</li>\\n\"+\n",
       "     \"<li>use INLINE resources instead, as so:</li>\\n\"+\n",
       "     \"</ul>\\n\"+\n",
       "     \"<code>\\n\"+\n",
       "     \"from bokeh.resources import INLINE\\n\"+\n",
       "     \"output_notebook(resources=INLINE)\\n\"+\n",
       "     \"</code>\\n\"+\n",
       "     \"</div>\"}};\n",
       "\n",
       "  function display_loaded() {\n",
       "    var el = document.getElementById(\"b7e9f015-7bce-4eef-8dd8-c6f139da8c79\");\n",
       "    if (el != null) {\n",
       "      el.textContent = \"BokehJS is loading...\";\n",
       "    }\n",
       "    if (root.Bokeh !== undefined) {\n",
       "      if (el != null) {\n",
       "        el.textContent = \"BokehJS \" + root.Bokeh.version + \" successfully loaded.\";\n",
       "      }\n",
       "    } else if (Date.now() < root._bokeh_timeout) {\n",
       "      setTimeout(display_loaded, 100)\n",
       "    }\n",
       "  }\n",
       "\n",
       "\n",
       "  function run_callbacks() {\n",
       "    try {\n",
       "      root._bokeh_onload_callbacks.forEach(function(callback) { callback() });\n",
       "    }\n",
       "    finally {\n",
       "      delete root._bokeh_onload_callbacks\n",
       "    }\n",
       "    console.info(\"Bokeh: all callbacks have finished\");\n",
       "  }\n",
       "\n",
       "  function load_libs(js_urls, callback) {\n",
       "    root._bokeh_onload_callbacks.push(callback);\n",
       "    if (root._bokeh_is_loading > 0) {\n",
       "      console.log(\"Bokeh: BokehJS is being loaded, scheduling callback at\", now());\n",
       "      return null;\n",
       "    }\n",
       "    if (js_urls == null || js_urls.length === 0) {\n",
       "      run_callbacks();\n",
       "      return null;\n",
       "    }\n",
       "    console.log(\"Bokeh: BokehJS not loaded, scheduling load and callback at\", now());\n",
       "    root._bokeh_is_loading = js_urls.length;\n",
       "    for (var i = 0; i < js_urls.length; i++) {\n",
       "      var url = js_urls[i];\n",
       "      var s = document.createElement('script');\n",
       "      s.src = url;\n",
       "      s.async = false;\n",
       "      s.onreadystatechange = s.onload = function() {\n",
       "        root._bokeh_is_loading--;\n",
       "        if (root._bokeh_is_loading === 0) {\n",
       "          console.log(\"Bokeh: all BokehJS libraries loaded\");\n",
       "          run_callbacks()\n",
       "        }\n",
       "      };\n",
       "      s.onerror = function() {\n",
       "        console.warn(\"failed to load library \" + url);\n",
       "      };\n",
       "      console.log(\"Bokeh: injecting script tag for BokehJS library: \", url);\n",
       "      document.getElementsByTagName(\"head\")[0].appendChild(s);\n",
       "    }\n",
       "  };var element = document.getElementById(\"b7e9f015-7bce-4eef-8dd8-c6f139da8c79\");\n",
       "  if (element == null) {\n",
       "    console.log(\"Bokeh: ERROR: autoload.js configured with elementid 'b7e9f015-7bce-4eef-8dd8-c6f139da8c79' but no matching script tag was found. \")\n",
       "    return false;\n",
       "  }\n",
       "\n",
       "  var js_urls = [\"https://cdn.pydata.org/bokeh/release/bokeh-0.12.16.min.js\", \"https://cdn.pydata.org/bokeh/release/bokeh-widgets-0.12.16.min.js\", \"https://cdn.pydata.org/bokeh/release/bokeh-tables-0.12.16.min.js\", \"https://cdn.pydata.org/bokeh/release/bokeh-gl-0.12.16.min.js\"];\n",
       "\n",
       "  var inline_js = [\n",
       "    function(Bokeh) {\n",
       "      Bokeh.set_log_level(\"info\");\n",
       "    },\n",
       "    \n",
       "    function(Bokeh) {\n",
       "      \n",
       "    },\n",
       "    function(Bokeh) {\n",
       "      console.log(\"Bokeh: injecting CSS: https://cdn.pydata.org/bokeh/release/bokeh-0.12.16.min.css\");\n",
       "      Bokeh.embed.inject_css(\"https://cdn.pydata.org/bokeh/release/bokeh-0.12.16.min.css\");\n",
       "      console.log(\"Bokeh: injecting CSS: https://cdn.pydata.org/bokeh/release/bokeh-widgets-0.12.16.min.css\");\n",
       "      Bokeh.embed.inject_css(\"https://cdn.pydata.org/bokeh/release/bokeh-widgets-0.12.16.min.css\");\n",
       "      console.log(\"Bokeh: injecting CSS: https://cdn.pydata.org/bokeh/release/bokeh-tables-0.12.16.min.css\");\n",
       "      Bokeh.embed.inject_css(\"https://cdn.pydata.org/bokeh/release/bokeh-tables-0.12.16.min.css\");\n",
       "    }\n",
       "  ];\n",
       "\n",
       "  function run_inline_js() {\n",
       "    \n",
       "    if ((root.Bokeh !== undefined) || (force === true)) {\n",
       "      for (var i = 0; i < inline_js.length; i++) {\n",
       "        inline_js[i].call(root, root.Bokeh);\n",
       "      }if (force === true) {\n",
       "        display_loaded();\n",
       "      }} else if (Date.now() < root._bokeh_timeout) {\n",
       "      setTimeout(run_inline_js, 100);\n",
       "    } else if (!root._bokeh_failed_load) {\n",
       "      console.log(\"Bokeh: BokehJS failed to load within specified timeout.\");\n",
       "      root._bokeh_failed_load = true;\n",
       "    } else if (force !== true) {\n",
       "      var cell = $(document.getElementById(\"b7e9f015-7bce-4eef-8dd8-c6f139da8c79\")).parents('.cell').data().cell;\n",
       "      cell.output_area.append_execute_result(NB_LOAD_WARNING)\n",
       "    }\n",
       "\n",
       "  }\n",
       "\n",
       "  if (root._bokeh_is_loading === 0) {\n",
       "    console.log(\"Bokeh: BokehJS loaded, going straight to plotting\");\n",
       "    run_inline_js();\n",
       "  } else {\n",
       "    load_libs(js_urls, function() {\n",
       "      console.log(\"Bokeh: BokehJS plotting callback run at\", now());\n",
       "      run_inline_js();\n",
       "    });\n",
       "  }\n",
       "}(window));"
      ],
      "application/vnd.bokehjs_load.v0+json": "\n(function(root) {\n  function now() {\n    return new Date();\n  }\n\n  var force = true;\n\n  if (typeof (root._bokeh_onload_callbacks) === \"undefined\" || force === true) {\n    root._bokeh_onload_callbacks = [];\n    root._bokeh_is_loading = undefined;\n  }\n\n  \n\n  \n  if (typeof (root._bokeh_timeout) === \"undefined\" || force === true) {\n    root._bokeh_timeout = Date.now() + 5000;\n    root._bokeh_failed_load = false;\n  }\n\n  var NB_LOAD_WARNING = {'data': {'text/html':\n     \"<div style='background-color: #fdd'>\\n\"+\n     \"<p>\\n\"+\n     \"BokehJS does not appear to have successfully loaded. If loading BokehJS from CDN, this \\n\"+\n     \"may be due to a slow or bad network connection. Possible fixes:\\n\"+\n     \"</p>\\n\"+\n     \"<ul>\\n\"+\n     \"<li>re-rerun `output_notebook()` to attempt to load from CDN again, or</li>\\n\"+\n     \"<li>use INLINE resources instead, as so:</li>\\n\"+\n     \"</ul>\\n\"+\n     \"<code>\\n\"+\n     \"from bokeh.resources import INLINE\\n\"+\n     \"output_notebook(resources=INLINE)\\n\"+\n     \"</code>\\n\"+\n     \"</div>\"}};\n\n  function display_loaded() {\n    var el = document.getElementById(\"b7e9f015-7bce-4eef-8dd8-c6f139da8c79\");\n    if (el != null) {\n      el.textContent = \"BokehJS is loading...\";\n    }\n    if (root.Bokeh !== undefined) {\n      if (el != null) {\n        el.textContent = \"BokehJS \" + root.Bokeh.version + \" successfully loaded.\";\n      }\n    } else if (Date.now() < root._bokeh_timeout) {\n      setTimeout(display_loaded, 100)\n    }\n  }\n\n\n  function run_callbacks() {\n    try {\n      root._bokeh_onload_callbacks.forEach(function(callback) { callback() });\n    }\n    finally {\n      delete root._bokeh_onload_callbacks\n    }\n    console.info(\"Bokeh: all callbacks have finished\");\n  }\n\n  function load_libs(js_urls, callback) {\n    root._bokeh_onload_callbacks.push(callback);\n    if (root._bokeh_is_loading > 0) {\n      console.log(\"Bokeh: BokehJS is being loaded, scheduling callback at\", now());\n      return null;\n    }\n    if (js_urls == null || js_urls.length === 0) {\n      run_callbacks();\n      return null;\n    }\n    console.log(\"Bokeh: BokehJS not loaded, scheduling load and callback at\", now());\n    root._bokeh_is_loading = js_urls.length;\n    for (var i = 0; i < js_urls.length; i++) {\n      var url = js_urls[i];\n      var s = document.createElement('script');\n      s.src = url;\n      s.async = false;\n      s.onreadystatechange = s.onload = function() {\n        root._bokeh_is_loading--;\n        if (root._bokeh_is_loading === 0) {\n          console.log(\"Bokeh: all BokehJS libraries loaded\");\n          run_callbacks()\n        }\n      };\n      s.onerror = function() {\n        console.warn(\"failed to load library \" + url);\n      };\n      console.log(\"Bokeh: injecting script tag for BokehJS library: \", url);\n      document.getElementsByTagName(\"head\")[0].appendChild(s);\n    }\n  };var element = document.getElementById(\"b7e9f015-7bce-4eef-8dd8-c6f139da8c79\");\n  if (element == null) {\n    console.log(\"Bokeh: ERROR: autoload.js configured with elementid 'b7e9f015-7bce-4eef-8dd8-c6f139da8c79' but no matching script tag was found. \")\n    return false;\n  }\n\n  var js_urls = [\"https://cdn.pydata.org/bokeh/release/bokeh-0.12.16.min.js\", \"https://cdn.pydata.org/bokeh/release/bokeh-widgets-0.12.16.min.js\", \"https://cdn.pydata.org/bokeh/release/bokeh-tables-0.12.16.min.js\", \"https://cdn.pydata.org/bokeh/release/bokeh-gl-0.12.16.min.js\"];\n\n  var inline_js = [\n    function(Bokeh) {\n      Bokeh.set_log_level(\"info\");\n    },\n    \n    function(Bokeh) {\n      \n    },\n    function(Bokeh) {\n      console.log(\"Bokeh: injecting CSS: https://cdn.pydata.org/bokeh/release/bokeh-0.12.16.min.css\");\n      Bokeh.embed.inject_css(\"https://cdn.pydata.org/bokeh/release/bokeh-0.12.16.min.css\");\n      console.log(\"Bokeh: injecting CSS: https://cdn.pydata.org/bokeh/release/bokeh-widgets-0.12.16.min.css\");\n      Bokeh.embed.inject_css(\"https://cdn.pydata.org/bokeh/release/bokeh-widgets-0.12.16.min.css\");\n      console.log(\"Bokeh: injecting CSS: https://cdn.pydata.org/bokeh/release/bokeh-tables-0.12.16.min.css\");\n      Bokeh.embed.inject_css(\"https://cdn.pydata.org/bokeh/release/bokeh-tables-0.12.16.min.css\");\n    }\n  ];\n\n  function run_inline_js() {\n    \n    if ((root.Bokeh !== undefined) || (force === true)) {\n      for (var i = 0; i < inline_js.length; i++) {\n        inline_js[i].call(root, root.Bokeh);\n      }if (force === true) {\n        display_loaded();\n      }} else if (Date.now() < root._bokeh_timeout) {\n      setTimeout(run_inline_js, 100);\n    } else if (!root._bokeh_failed_load) {\n      console.log(\"Bokeh: BokehJS failed to load within specified timeout.\");\n      root._bokeh_failed_load = true;\n    } else if (force !== true) {\n      var cell = $(document.getElementById(\"b7e9f015-7bce-4eef-8dd8-c6f139da8c79\")).parents('.cell').data().cell;\n      cell.output_area.append_execute_result(NB_LOAD_WARNING)\n    }\n\n  }\n\n  if (root._bokeh_is_loading === 0) {\n    console.log(\"Bokeh: BokehJS loaded, going straight to plotting\");\n    run_inline_js();\n  } else {\n    load_libs(js_urls, function() {\n      console.log(\"Bokeh: BokehJS plotting callback run at\", now());\n      run_inline_js();\n    });\n  }\n}(window));"
     },
     "metadata": {},
     "output_type": "display_data"
    },
    {
     "data": {
      "text/html": [
       "\n",
       "<div class=\"bk-root\">\n",
       "    <div class=\"bk-plotdiv\" id=\"da4aeeb3-463d-4cde-8100-8f6f7697df16\"></div>\n",
       "</div>"
      ]
     },
     "metadata": {},
     "output_type": "display_data"
    },
    {
     "data": {
      "application/javascript": [
       "(function(root) {\n",
       "  function embed_document(root) {\n",
       "    \n",
       "  var docs_json = {\"c5a77b90-2c57-4d64-b0be-054b3cd3455d\":{\"roots\":{\"references\":[{\"attributes\":{\"active_drag\":\"auto\",\"active_inspect\":\"auto\",\"active_scroll\":\"auto\",\"active_tap\":\"auto\",\"tools\":[{\"id\":\"274a98d4-a54c-4480-b2c1-730167b77d4d\",\"type\":\"HoverTool\"}]},\"id\":\"20fe0f06-4980-4aea-9173-ecb1c33ea3d9\",\"type\":\"Toolbar\"},{\"attributes\":{},\"id\":\"36eb5532-2e9b-46b4-8e9a-2822c49f2bcc\",\"type\":\"Selection\"},{\"attributes\":{\"callback\":null,\"factors\":[\"harsh\",\"spirity\",\"yeasty\",\"solvent\",\"clover honey\",\"youthful\",\"medicinal\",\"hot\",\"hay\",\"estery\",\"grassy\",\"cereal\",\"sweet\",\"warm\",\"lemon\",\"herbal\",\"dry\",\"vanilla\",\"subtle\",\"coconut\",\"toffee\",\"smoky\",\"dark\",\"tangerine\",\"tobacco\",\"mouth coating\",\"sandalwood\",\"rich\",\"seaweed\",\"marmalade\",\"cake\",\"nutmeg\",\"prunes\",\"balanced\",\"coal\",\"figs\"]},\"id\":\"d826ff74-0fe7-47f2-8d61-049e82c43502\",\"type\":\"FactorRange\"},{\"attributes\":{\"formatter\":{\"id\":\"d8e6da23-a0e3-43f3-8f2a-feb18d36487e\",\"type\":\"BasicTickFormatter\"},\"plot\":{\"id\":\"98737b7a-0321-4fd9-81f8-801bba5fe950\",\"subtype\":\"Figure\",\"type\":\"Plot\"},\"ticker\":{\"id\":\"d9c1d316-27c5-4c10-b022-5149588c2ab9\",\"type\":\"BasicTicker\"}},\"id\":\"bebdd020-c8e5-4cdc-8835-61b484d85090\",\"type\":\"LinearAxis\"},{\"attributes\":{},\"id\":\"4b70322f-4934-4f5c-9cc9-71ee9ef2bab6\",\"type\":\"CategoricalScale\"},{\"attributes\":{\"callback\":null},\"id\":\"62b031cf-9f58-4595-b646-b03aeab95dc3\",\"type\":\"DataRange1d\"},{\"attributes\":{},\"id\":\"0b52e391-dd29-429c-b6b8-f8a0a72e6874\",\"type\":\"LinearScale\"},{\"attributes\":{\"below\":[{\"id\":\"f8c4ffbb-064a-4f42-a39d-ab0d2f2eebf8\",\"type\":\"CategoricalAxis\"}],\"left\":[{\"id\":\"bebdd020-c8e5-4cdc-8835-61b484d85090\",\"type\":\"LinearAxis\"}],\"plot_height\":350,\"renderers\":[{\"id\":\"f8c4ffbb-064a-4f42-a39d-ab0d2f2eebf8\",\"type\":\"CategoricalAxis\"},{\"id\":\"a0970aaa-cec9-4051-905c-934f46a7fe85\",\"type\":\"Grid\"},{\"id\":\"bebdd020-c8e5-4cdc-8835-61b484d85090\",\"type\":\"LinearAxis\"},{\"id\":\"0e58ce12-45fb-4a19-ab1c-5647eb6b7e0d\",\"type\":\"Grid\"},{\"id\":\"b8704402-02ef-4cc7-b33f-753057f26277\",\"type\":\"GlyphRenderer\"}],\"title\":{\"id\":\"d384e6d3-8b32-452e-97a8-a7df30072ce4\",\"type\":\"Title\"},\"toolbar\":{\"id\":\"20fe0f06-4980-4aea-9173-ecb1c33ea3d9\",\"type\":\"Toolbar\"},\"x_range\":{\"id\":\"d826ff74-0fe7-47f2-8d61-049e82c43502\",\"type\":\"FactorRange\"},\"x_scale\":{\"id\":\"4b70322f-4934-4f5c-9cc9-71ee9ef2bab6\",\"type\":\"CategoricalScale\"},\"y_range\":{\"id\":\"62b031cf-9f58-4595-b646-b03aeab95dc3\",\"type\":\"DataRange1d\"},\"y_scale\":{\"id\":\"0b52e391-dd29-429c-b6b8-f8a0a72e6874\",\"type\":\"LinearScale\"}},\"id\":\"98737b7a-0321-4fd9-81f8-801bba5fe950\",\"subtype\":\"Figure\",\"type\":\"Plot\"},{\"attributes\":{\"plot\":{\"id\":\"98737b7a-0321-4fd9-81f8-801bba5fe950\",\"subtype\":\"Figure\",\"type\":\"Plot\"},\"ticker\":{\"id\":\"25f666ed-2d44-40aa-a494-93afd473159d\",\"type\":\"CategoricalTicker\"}},\"id\":\"a0970aaa-cec9-4051-905c-934f46a7fe85\",\"type\":\"Grid\"},{\"attributes\":{\"formatter\":{\"id\":\"f5cadeca-5e25-47cd-b73e-c62ce57ab1f5\",\"type\":\"CategoricalTickFormatter\"},\"major_label_orientation\":\"vertical\",\"plot\":{\"id\":\"98737b7a-0321-4fd9-81f8-801bba5fe950\",\"subtype\":\"Figure\",\"type\":\"Plot\"},\"ticker\":{\"id\":\"25f666ed-2d44-40aa-a494-93afd473159d\",\"type\":\"CategoricalTicker\"}},\"id\":\"f8c4ffbb-064a-4f42-a39d-ab0d2f2eebf8\",\"type\":\"CategoricalAxis\"},{\"attributes\":{},\"id\":\"25f666ed-2d44-40aa-a494-93afd473159d\",\"type\":\"CategoricalTicker\"},{\"attributes\":{\"fill_color\":{\"value\":\"#1f77b4\"},\"line_color\":{\"value\":\"#1f77b4\"},\"top\":{\"field\":\"top\"},\"width\":{\"value\":0.8},\"x\":{\"field\":\"x\"}},\"id\":\"97158cb3-bd91-4cb0-a562-6af05ff0dcb2\",\"type\":\"VBar\"},{\"attributes\":{\"callback\":null,\"renderers\":\"auto\",\"tooltips\":[[\"Word\",\" @x\"],[\"Coef\",\" @top\"]]},\"id\":\"274a98d4-a54c-4480-b2c1-730167b77d4d\",\"type\":\"HoverTool\"},{\"attributes\":{},\"id\":\"d9c1d316-27c5-4c10-b022-5149588c2ab9\",\"type\":\"BasicTicker\"},{\"attributes\":{\"dimension\":1,\"plot\":{\"id\":\"98737b7a-0321-4fd9-81f8-801bba5fe950\",\"subtype\":\"Figure\",\"type\":\"Plot\"},\"ticker\":{\"id\":\"d9c1d316-27c5-4c10-b022-5149588c2ab9\",\"type\":\"BasicTicker\"}},\"id\":\"0e58ce12-45fb-4a19-ab1c-5647eb6b7e0d\",\"type\":\"Grid\"},{\"attributes\":{},\"id\":\"91dfe48b-62bb-4abf-9a87-860b3d88ea60\",\"type\":\"UnionRenderers\"},{\"attributes\":{},\"id\":\"d8e6da23-a0e3-43f3-8f2a-feb18d36487e\",\"type\":\"BasicTickFormatter\"},{\"attributes\":{\"data_source\":{\"id\":\"fa6163c3-15b6-4687-9ce3-e662fab5cc4c\",\"type\":\"ColumnDataSource\"},\"glyph\":{\"id\":\"97158cb3-bd91-4cb0-a562-6af05ff0dcb2\",\"type\":\"VBar\"},\"hover_glyph\":null,\"muted_glyph\":null,\"nonselection_glyph\":{\"id\":\"8bb29a6c-0b46-4bf7-9672-a2f4563dcf6c\",\"type\":\"VBar\"},\"selection_glyph\":null,\"view\":{\"id\":\"69ce4104-540a-4bc4-87a3-c893f7d19787\",\"type\":\"CDSView\"}},\"id\":\"b8704402-02ef-4cc7-b33f-753057f26277\",\"type\":\"GlyphRenderer\"},{\"attributes\":{},\"id\":\"f5cadeca-5e25-47cd-b73e-c62ce57ab1f5\",\"type\":\"CategoricalTickFormatter\"},{\"attributes\":{\"plot\":null,\"text\":\"Whiskey Review Words\"},\"id\":\"d384e6d3-8b32-452e-97a8-a7df30072ce4\",\"type\":\"Title\"},{\"attributes\":{\"callback\":null,\"data\":{\"top\":{\"__ndarray__\":\"hnkfwUakNcBWsdBFBc40wPn7v2OEqizArmAgpMSyKcAkROLqQXEjwCaCuTxQpB3ARHGy9uixHMAUoY8SXUocwKDuDVbQlhrANvmDZBeBGsAr/MbShYUQwDjbdJ7HXw3ApNxEGTlBC8DK7I/olLgAwN4A5gey1f2/pW6utlYn+L/spkbJCgn4vwctcoNExO0/USKFHu9A8j/Ak2X/pkr9P/0Axw2FXQFAgJNj9OVAA0Cl0NCA2boGQC0DDXPmywlAMXQNachAC0DOJskM57gLQCycAW9m6AtAVj4gMZ0jDEAc4VB4Vm8NQAaogBmmtxJARUHe01X1E0Bc8Iby7LYWQKXGbHVA2BZAERR+lurjF0AOMoU91m4dQBWZyTOfdx9A\",\"dtype\":\"float64\",\"shape\":[36]},\"x\":[\"harsh\",\"spirity\",\"yeasty\",\"solvent\",\"clover honey\",\"youthful\",\"medicinal\",\"hot\",\"hay\",\"estery\",\"grassy\",\"cereal\",\"sweet\",\"warm\",\"lemon\",\"herbal\",\"dry\",\"vanilla\",\"subtle\",\"coconut\",\"toffee\",\"smoky\",\"dark\",\"tangerine\",\"tobacco\",\"mouth coating\",\"sandalwood\",\"rich\",\"seaweed\",\"marmalade\",\"cake\",\"nutmeg\",\"prunes\",\"balanced\",\"coal\",\"figs\"]},\"selected\":{\"id\":\"36eb5532-2e9b-46b4-8e9a-2822c49f2bcc\",\"type\":\"Selection\"},\"selection_policy\":{\"id\":\"91dfe48b-62bb-4abf-9a87-860b3d88ea60\",\"type\":\"UnionRenderers\"}},\"id\":\"fa6163c3-15b6-4687-9ce3-e662fab5cc4c\",\"type\":\"ColumnDataSource\"},{\"attributes\":{\"source\":{\"id\":\"fa6163c3-15b6-4687-9ce3-e662fab5cc4c\",\"type\":\"ColumnDataSource\"}},\"id\":\"69ce4104-540a-4bc4-87a3-c893f7d19787\",\"type\":\"CDSView\"},{\"attributes\":{\"fill_alpha\":{\"value\":0.1},\"fill_color\":{\"value\":\"#1f77b4\"},\"line_alpha\":{\"value\":0.1},\"line_color\":{\"value\":\"#1f77b4\"},\"top\":{\"field\":\"top\"},\"width\":{\"value\":0.8},\"x\":{\"field\":\"x\"}},\"id\":\"8bb29a6c-0b46-4bf7-9672-a2f4563dcf6c\",\"type\":\"VBar\"}],\"root_ids\":[\"98737b7a-0321-4fd9-81f8-801bba5fe950\"]},\"title\":\"Bokeh Application\",\"version\":\"0.12.16\"}};\n",
       "  var render_items = [{\"docid\":\"c5a77b90-2c57-4d64-b0be-054b3cd3455d\",\"elementid\":\"da4aeeb3-463d-4cde-8100-8f6f7697df16\",\"modelid\":\"98737b7a-0321-4fd9-81f8-801bba5fe950\"}];\n",
       "  root.Bokeh.embed.embed_items_notebook(docs_json, render_items);\n",
       "\n",
       "  }\n",
       "  if (root.Bokeh !== undefined) {\n",
       "    embed_document(root);\n",
       "  } else {\n",
       "    var attempts = 0;\n",
       "    var timer = setInterval(function(root) {\n",
       "      if (root.Bokeh !== undefined) {\n",
       "        embed_document(root);\n",
       "        clearInterval(timer);\n",
       "      }\n",
       "      attempts++;\n",
       "      if (attempts > 100) {\n",
       "        console.log(\"Bokeh: ERROR: Unable to run BokehJS code because BokehJS library is missing\")\n",
       "        clearInterval(timer);\n",
       "      }\n",
       "    }, 10, root)\n",
       "  }\n",
       "})(window);"
      ],
      "application/vnd.bokehjs_exec.v0+json": ""
     },
     "metadata": {
      "application/vnd.bokehjs_exec.v0+json": {
       "id": "98737b7a-0321-4fd9-81f8-801bba5fe950"
      }
     },
     "output_type": "display_data"
    }
   ],
   "source": [
    "from bokeh.io import show, output_notebook\n",
    "from bokeh.plotting import figure\n",
    "from bokeh.models import HoverTool\n",
    "\n",
    "output_notebook()\n",
    "\n",
    "p = figure(x_range=sample.index.tolist(), plot_height=350, \n",
    "           title=\"Whiskey Review Words\", tools='hover')\n",
    "p.vbar(x=sample.index.tolist(), top=sample['coef'], width=0.8)\n",
    "p.xaxis.major_label_orientation = \"vertical\"\n",
    "hover = p.select(dict(type=HoverTool))\n",
    "hover.tooltips = [('Word',' @x'), ('Coef', ' @top')]\n",
    "show(p)"
   ]
  },
  {
   "cell_type": "markdown",
   "metadata": {},
   "source": []
  },
  {
   "cell_type": "code",
   "execution_count": 230,
   "metadata": {
    "collapsed": false,
    "inputHidden": false,
    "jupyter": {
     "outputs_hidden": false
    },
    "outputHidden": false
   },
   "outputs": [
    {
     "data": {
      "text/plain": [
       "1378                   Kerrygold Irish Cream Liqueur, 17%\n",
       "2800                               Forty Creek Cream, 17%\n",
       "2988    Benjamin Prichard's Sweet Lucy Bourbon Cream L...\n",
       "Name: name, dtype: object"
      ]
     },
     "execution_count": 230,
     "metadata": {},
     "output_type": "execute_result"
    }
   ],
   "source": [
    "df.loc[df['pert_alcohol'] <= 18, 'name']f"
   ]
  },
  {
   "cell_type": "code",
   "execution_count": 192,
   "metadata": {
    "collapsed": false,
    "inputHidden": false,
    "jupyter": {
     "outputs_hidden": false
    },
    "outputExpanded": false,
    "outputHidden": false
   },
   "outputs": [],
   "source": [
    "df.loc[df['pert_alcohol'] == 2011, 'pert_alcohol'] = None"
   ]
  },
  {
   "cell_type": "code",
   "execution_count": 196,
   "metadata": {
    "collapsed": false,
    "inputHidden": false,
    "jupyter": {
     "outputs_hidden": false
    },
    "outputHidden": false
   },
   "outputs": [],
   "source": [
    "df.loc[df['pert_alcohol'] == 199, 'pert_alcohol'] = None"
   ]
  },
  {
   "cell_type": "code",
   "execution_count": null,
   "metadata": {
    "collapsed": false,
    "inputHidden": false,
    "jupyter": {
     "outputs_hidden": false
    },
    "outputHidden": false
   },
   "outputs": [],
   "source": [
    "df.loc[df['pert_alcohol']]"
   ]
  },
  {
   "cell_type": "code",
   "execution_count": 197,
   "metadata": {
    "collapsed": false,
    "inputHidden": false,
    "jupyter": {
     "outputs_hidden": false
    },
    "outputHidden": false
   },
   "outputs": [
    {
     "data": {
      "text/plain": [
       "count    4082.000000\n",
       "mean       47.515371\n",
       "std         6.466968\n",
       "min        17.000000\n",
       "25%        43.000000\n",
       "50%        46.000000\n",
       "75%        50.500000\n",
       "max        98.600000\n",
       "Name: pert_alcohol, dtype: float64"
      ]
     },
     "execution_count": 197,
     "metadata": {},
     "output_type": "execute_result"
    }
   ],
   "source": [
    "df['pert_alcohol'].describe()"
   ]
  },
  {
   "cell_type": "code",
   "execution_count": 65,
   "metadata": {
    "collapsed": false,
    "inputHidden": false,
    "jupyter": {
     "outputs_hidden": false
    },
    "outputHidden": false
   },
   "outputs": [],
   "source": [
    "r = requests.get(urls[0])\n",
    "#r = requests.get(\"http://whiskyadvocate.com/ratings-reviews/?search=&submit=&brand_id=0&rating=95-100&price=0&category=0&styles_id=0&issue_id=0\")"
   ]
  },
  {
   "cell_type": "code",
   "execution_count": 66,
   "metadata": {
    "collapsed": false,
    "inputHidden": false,
    "jupyter": {
     "outputs_hidden": false
    },
    "outputHidden": false
   },
   "outputs": [],
   "source": [
    "soup = r.text"
   ]
  },
  {
   "cell_type": "code",
   "execution_count": 67,
   "metadata": {
    "collapsed": false,
    "inputHidden": false,
    "jupyter": {
     "outputs_hidden": false
    },
    "outputHidden": false
   },
   "outputs": [],
   "source": [
    "soup = BeautifulSoup(r.text, \"lxml\")"
   ]
  },
  {
   "cell_type": "code",
   "execution_count": 68,
   "metadata": {
    "collapsed": false,
    "inputHidden": false,
    "jupyter": {
     "outputs_hidden": false
    },
    "outputHidden": false
   },
   "outputs": [],
   "source": [
    "ratings = soup.find(class_=\"ratings-grid-holder\")"
   ]
  },
  {
   "cell_type": "code",
   "execution_count": 69,
   "metadata": {
    "collapsed": false,
    "inputHidden": false,
    "jupyter": {
     "outputs_hidden": false
    },
    "outputHidden": false
   },
   "outputs": [],
   "source": [
    "ratings = ratings.find_all(\"article\")"
   ]
  },
  {
   "cell_type": "code",
   "execution_count": 70,
   "metadata": {
    "collapsed": false,
    "inputHidden": false,
    "jupyter": {
     "outputs_hidden": false
    },
    "outputHidden": false
   },
   "outputs": [
    {
     "data": {
      "text/plain": [
       "<article id=\"post-25\" itemscope=\"\" itemtype=\"http://schema.org/Product\" role=\"article\">\n",
       "<div class=\"review-top\">\n",
       "<h2 itemprop=\"aggregateRating\" itemscope=\"\" itemtype=\"http://schema.org/AggregateRating\"><span itemprop=\"ratingValue\">97</span> points</h2>\n",
       "<div class=\"ratings-util cf\">\n",
       "<a class=\"email-review-btn\" href=\"#\"><span class=\"icon-envelope\"></span></a>\n",
       "<a href=\"/wp-content/data/shelf_talker.php?review_id=4065\" target=\"_blank\"><span class=\"icon-print\"></span></a>\n",
       "</div>\n",
       "</div>\n",
       "<div class=\"printable-section\" id=\"review-id-1212\">\n",
       "<h1 itemprop=\"name\">Johnnie Walker Blue Label, 40%</h1>\n",
       "<p class=\"entry-meta\">\n",
       "<span itemprop=\"aggregateRating\" itemscope=\"\" itemtype=\"http://schema.org/AggregateRating\"><span itemprop=\"category\">Blended Scotch Whisky</span>  |  <span content=\"USD\" itemprop=\"priceCurrency\">$</span><span content=\"50.00\" itemprop=\"price\">225</span>\n",
       "</span></p>\n",
       "<div class=\"review-text\" itemprop=\"description\">\n",
       "<p>Magnificently powerful and intense. Caramels, dried peats, elegant cigar smoke, seeds scraped from vanilla beans, brand new pencils, peppercorn, coriander seeds, and star anise make for a deeply satisfying nosing experience. Silky caramels, bountiful fruits of ripe peach, stewed apple, orange pith, and pervasive smoke with elements of burnt tobacco. An abiding finish of smoke, dry spices, and banoffee pie sweetness. Close to perfection. <em>Editor's Choice</em></p></div>\n",
       "<div class=\"review-text\">\n",
       "<p>Reviewed by: <span itemprop=\"author\">Jonny McCormick</span> (<a href='\\\"/ratings-reviews/?issue_id=95\\\"'>Spring 2018</a>)</p>\n",
       "</div>\n",
       "</div>\n",
       "<div class=\"line-bot-mob cf\"></div>\n",
       "</article>"
      ]
     },
     "execution_count": 70,
     "metadata": {},
     "output_type": "execute_result"
    }
   ],
   "source": [
    "ratings[0]"
   ]
  },
  {
   "cell_type": "code",
   "execution_count": 27,
   "metadata": {
    "collapsed": false,
    "inputHidden": false,
    "jupyter": {
     "outputs_hidden": false
    },
    "outputHidden": false
   },
   "outputs": [],
   "source": [
    "tags = ['ratingValue', 'name', 'category', 'priceCurrency', \n",
    " 'price', 'description', 'author']\n",
    "\n",
    "def get_review(review):\n",
    "    data = {}\n",
    "    for t in tags:\n",
    "        data[t] = review.find(itemprop=t).text\n",
    "    \n",
    "    return data"
   ]
  },
  {
   "cell_type": "code",
   "execution_count": 58,
   "metadata": {
    "collapsed": false,
    "inputHidden": false,
    "jupyter": {
     "outputs_hidden": false
    },
    "outputHidden": false
   },
   "outputs": [],
   "source": [
    "whiskey = [get_review(r) for r in ratings]"
   ]
  },
  {
   "cell_type": "code",
   "execution_count": 60,
   "metadata": {
    "collapsed": false,
    "inputHidden": false,
    "jupyter": {
     "outputs_hidden": false
    },
    "outputHidden": false
   },
   "outputs": [
    {
     "data": {
      "text/plain": [
       "108"
      ]
     },
     "execution_count": 60,
     "metadata": {},
     "output_type": "execute_result"
    }
   ],
   "source": [
    "len(whiskey)"
   ]
  },
  {
   "cell_type": "code",
   "execution_count": 30,
   "metadata": {
    "collapsed": false,
    "inputHidden": false,
    "jupyter": {
     "outputs_hidden": false
    },
    "outputHidden": false
   },
   "outputs": [
    {
     "ename": "NameError",
     "evalue": "name 'subset' is not defined",
     "output_type": "error",
     "traceback": [
      "\u001b[0;31m---------------------------------------------------------------------------\u001b[0m",
      "\u001b[0;31mNameError\u001b[0m                                 Traceback (most recent call last)",
      "\u001b[0;32m<ipython-input-30-8967ba16b141>\u001b[0m in \u001b[0;36m<module>\u001b[0;34m()\u001b[0m\n\u001b[0;32m----> 1\u001b[0;31m \u001b[0msubset\u001b[0m\u001b[0;34m\u001b[0m\u001b[0m\n\u001b[0m",
      "\u001b[0;31mNameError\u001b[0m: name 'subset' is not defined"
     ]
    }
   ],
   "source": [
    "subset"
   ]
  },
  {
   "cell_type": "code",
   "execution_count": 32,
   "metadata": {
    "collapsed": false,
    "inputHidden": false,
    "jupyter": {
     "outputs_hidden": false
    },
    "outputHidden": false
   },
   "outputs": [],
   "source": [
    "d = df[df['category'].isin(subset)]"
   ]
  },
  {
   "cell_type": "code",
   "execution_count": 34,
   "metadata": {
    "collapsed": false,
    "inputHidden": false,
    "jupyter": {
     "outputs_hidden": false
    },
    "outputHidden": false
   },
   "outputs": [
    {
     "data": {
      "text/plain": [
       "['author',\n",
       " 'category',\n",
       " 'description',\n",
       " 'name',\n",
       " 'price',\n",
       " 'priceCurrency',\n",
       " 'ratingValue',\n",
       " 'p2',\n",
       " 'pert_alcohol']"
      ]
     },
     "execution_count": 34,
     "metadata": {},
     "output_type": "execute_result"
    }
   ],
   "source": [
    "list(d)"
   ]
  },
  {
   "cell_type": "code",
   "execution_count": 38,
   "metadata": {
    "collapsed": false,
    "inputHidden": false,
    "jupyter": {
     "outputs_hidden": false
    },
    "outputHidden": false
   },
   "outputs": [],
   "source": [
    "d = d.drop(columns=['name','p2', 'priceCurrency'])"
   ]
  },
  {
   "cell_type": "code",
   "execution_count": 55,
   "metadata": {
    "collapsed": false,
    "inputHidden": false,
    "jupyter": {
     "outputs_hidden": false
    },
    "outputHidden": false
   },
   "outputs": [],
   "source": [
    "category = {'Single Malt Scotch':1,'Bourbon/Tennessee':2,'Craft Whiskey':3,'Canadian':4}"
   ]
  },
  {
   "cell_type": "code",
   "execution_count": 58,
   "metadata": {
    "collapsed": false,
    "inputHidden": false,
    "jupyter": {
     "outputs_hidden": false
    },
    "outputHidden": false
   },
   "outputs": [
    {
     "data": {
      "text/html": [
       "<div>\n",
       "<style scoped>\n",
       "    .dataframe tbody tr th:only-of-type {\n",
       "        vertical-align: middle;\n",
       "    }\n",
       "\n",
       "    .dataframe tbody tr th {\n",
       "        vertical-align: top;\n",
       "    }\n",
       "\n",
       "    .dataframe thead th {\n",
       "        text-align: right;\n",
       "    }\n",
       "</style>\n",
       "<table border=\"1\" class=\"dataframe\">\n",
       "  <thead>\n",
       "    <tr style=\"text-align: right;\">\n",
       "      <th></th>\n",
       "      <th>author</th>\n",
       "      <th>category</th>\n",
       "      <th>description</th>\n",
       "      <th>price</th>\n",
       "      <th>ratingValue</th>\n",
       "      <th>pert_alcohol</th>\n",
       "    </tr>\n",
       "  </thead>\n",
       "  <tbody>\n",
       "    <tr>\n",
       "      <th>1</th>\n",
       "      <td>John Hansell</td>\n",
       "      <td>Bourbon/Tennessee</td>\n",
       "      <td>A marriage of 13 and 18 year old bourbons. A m...</td>\n",
       "      <td>85.0</td>\n",
       "      <td>97</td>\n",
       "      <td>51.5</td>\n",
       "    </tr>\n",
       "    <tr>\n",
       "      <th>2</th>\n",
       "      <td>Dave Broom</td>\n",
       "      <td>Single Malt Scotch</td>\n",
       "      <td>There have been some legendary Bowmores from t...</td>\n",
       "      <td>13500.0</td>\n",
       "      <td>97</td>\n",
       "      <td>42.9</td>\n",
       "    </tr>\n",
       "    <tr>\n",
       "      <th>3</th>\n",
       "      <td>John Hansell</td>\n",
       "      <td>Bourbon/Tennessee</td>\n",
       "      <td>This bottling celebrates master distiller Park...</td>\n",
       "      <td>150.0</td>\n",
       "      <td>97</td>\n",
       "      <td>50.0</td>\n",
       "    </tr>\n",
       "    <tr>\n",
       "      <th>4</th>\n",
       "      <td>John Hansell</td>\n",
       "      <td>Single Malt Scotch</td>\n",
       "      <td>What impresses me most is how this whisky evol...</td>\n",
       "      <td>4500.0</td>\n",
       "      <td>97</td>\n",
       "      <td>40.5</td>\n",
       "    </tr>\n",
       "    <tr>\n",
       "      <th>6</th>\n",
       "      <td>Davin de Kergommeaux</td>\n",
       "      <td>Canadian</td>\n",
       "      <td>After 40 years in barrels, the trademark Canad...</td>\n",
       "      <td>199.0</td>\n",
       "      <td>96</td>\n",
       "      <td>45.0</td>\n",
       "    </tr>\n",
       "  </tbody>\n",
       "</table>\n",
       "</div>"
      ],
      "text/plain": [
       "                 author            category  \\\n",
       "1          John Hansell   Bourbon/Tennessee   \n",
       "2            Dave Broom  Single Malt Scotch   \n",
       "3          John Hansell   Bourbon/Tennessee   \n",
       "4          John Hansell  Single Malt Scotch   \n",
       "6  Davin de Kergommeaux            Canadian   \n",
       "\n",
       "                                         description    price ratingValue  \\\n",
       "1  A marriage of 13 and 18 year old bourbons. A m...     85.0          97   \n",
       "2  There have been some legendary Bowmores from t...  13500.0          97   \n",
       "3  This bottling celebrates master distiller Park...    150.0          97   \n",
       "4  What impresses me most is how this whisky evol...   4500.0          97   \n",
       "6  After 40 years in barrels, the trademark Canad...    199.0          96   \n",
       "\n",
       "   pert_alcohol  \n",
       "1          51.5  \n",
       "2          42.9  \n",
       "3          50.0  \n",
       "4          40.5  \n",
       "6          45.0  "
      ]
     },
     "execution_count": 58,
     "metadata": {},
     "output_type": "execute_result"
    }
   ],
   "source": [
    "d.head()"
   ]
  },
  {
   "cell_type": "code",
   "execution_count": 62,
   "metadata": {
    "collapsed": false,
    "inputHidden": false,
    "jupyter": {
     "outputs_hidden": false
    },
    "outputHidden": false
   },
   "outputs": [],
   "source": [
    "d['category'] = d['category'].map(category)"
   ]
  },
  {
   "cell_type": "code",
   "execution_count": 39,
   "metadata": {
    "collapsed": false,
    "inputHidden": false,
    "jupyter": {
     "outputs_hidden": false
    },
    "outputHidden": false
   },
   "outputs": [],
   "source": [
    "d['description'] = d['description'].apply(lambda x: x.strip())"
   ]
  },
  {
   "cell_type": "code",
   "execution_count": 64,
   "metadata": {
    "collapsed": false,
    "inputHidden": false,
    "jupyter": {
     "outputs_hidden": false
    },
    "outputHidden": false
   },
   "outputs": [
    {
     "data": {
      "text/html": [
       "<div>\n",
       "<style scoped>\n",
       "    .dataframe tbody tr th:only-of-type {\n",
       "        vertical-align: middle;\n",
       "    }\n",
       "\n",
       "    .dataframe tbody tr th {\n",
       "        vertical-align: top;\n",
       "    }\n",
       "\n",
       "    .dataframe thead th {\n",
       "        text-align: right;\n",
       "    }\n",
       "</style>\n",
       "<table border=\"1\" class=\"dataframe\">\n",
       "  <thead>\n",
       "    <tr style=\"text-align: right;\">\n",
       "      <th></th>\n",
       "      <th>author</th>\n",
       "      <th>category</th>\n",
       "      <th>description</th>\n",
       "      <th>price</th>\n",
       "      <th>ratingValue</th>\n",
       "      <th>pert_alcohol</th>\n",
       "    </tr>\n",
       "  </thead>\n",
       "  <tbody>\n",
       "    <tr>\n",
       "      <th>1</th>\n",
       "      <td>John Hansell</td>\n",
       "      <td>2</td>\n",
       "      <td>A marriage of 13 and 18 year old bourbons. A m...</td>\n",
       "      <td>85.0</td>\n",
       "      <td>97</td>\n",
       "      <td>51.5</td>\n",
       "    </tr>\n",
       "    <tr>\n",
       "      <th>2</th>\n",
       "      <td>Dave Broom</td>\n",
       "      <td>1</td>\n",
       "      <td>There have been some legendary Bowmores from t...</td>\n",
       "      <td>13500.0</td>\n",
       "      <td>97</td>\n",
       "      <td>42.9</td>\n",
       "    </tr>\n",
       "    <tr>\n",
       "      <th>3</th>\n",
       "      <td>John Hansell</td>\n",
       "      <td>2</td>\n",
       "      <td>This bottling celebrates master distiller Park...</td>\n",
       "      <td>150.0</td>\n",
       "      <td>97</td>\n",
       "      <td>50.0</td>\n",
       "    </tr>\n",
       "    <tr>\n",
       "      <th>4</th>\n",
       "      <td>John Hansell</td>\n",
       "      <td>1</td>\n",
       "      <td>What impresses me most is how this whisky evol...</td>\n",
       "      <td>4500.0</td>\n",
       "      <td>97</td>\n",
       "      <td>40.5</td>\n",
       "    </tr>\n",
       "    <tr>\n",
       "      <th>6</th>\n",
       "      <td>Davin de Kergommeaux</td>\n",
       "      <td>4</td>\n",
       "      <td>After 40 years in barrels, the trademark Canad...</td>\n",
       "      <td>199.0</td>\n",
       "      <td>96</td>\n",
       "      <td>45.0</td>\n",
       "    </tr>\n",
       "  </tbody>\n",
       "</table>\n",
       "</div>"
      ],
      "text/plain": [
       "                 author  category  \\\n",
       "1          John Hansell         2   \n",
       "2            Dave Broom         1   \n",
       "3          John Hansell         2   \n",
       "4          John Hansell         1   \n",
       "6  Davin de Kergommeaux         4   \n",
       "\n",
       "                                         description    price ratingValue  \\\n",
       "1  A marriage of 13 and 18 year old bourbons. A m...     85.0          97   \n",
       "2  There have been some legendary Bowmores from t...  13500.0          97   \n",
       "3  This bottling celebrates master distiller Park...    150.0          97   \n",
       "4  What impresses me most is how this whisky evol...   4500.0          97   \n",
       "6  After 40 years in barrels, the trademark Canad...    199.0          96   \n",
       "\n",
       "   pert_alcohol  \n",
       "1          51.5  \n",
       "2          42.9  \n",
       "3          50.0  \n",
       "4          40.5  \n",
       "6          45.0  "
      ]
     },
     "execution_count": 64,
     "metadata": {},
     "output_type": "execute_result"
    }
   ],
   "source": [
    "d.head()"
   ]
  },
  {
   "cell_type": "code",
   "execution_count": 45,
   "metadata": {
    "collapsed": false,
    "inputHidden": false,
    "jupyter": {
     "outputs_hidden": false
    },
    "outputHidden": false
   },
   "outputs": [],
   "source": [
    "from sklearn.model_selection import train_test_split"
   ]
  },
  {
   "cell_type": "code",
   "execution_count": 65,
   "metadata": {
    "collapsed": false,
    "inputHidden": false,
    "jupyter": {
     "outputs_hidden": false
    },
    "outputHidden": false
   },
   "outputs": [],
   "source": [
    "X = d.drop(columns='category')\n",
    "y = d['category']\n",
    "\n",
    "train_x, test_x, train_y, test_y = train_test_split(X, y, stratify=y, test_size=.1)"
   ]
  },
  {
   "cell_type": "code",
   "execution_count": 67,
   "metadata": {
    "collapsed": false,
    "inputHidden": false,
    "jupyter": {
     "outputs_hidden": false
    },
    "outputHidden": false
   },
   "outputs": [
    {
     "data": {
      "text/plain": [
       "1    183\n",
       "2     50\n",
       "3     33\n",
       "4     22\n",
       "Name: category, dtype: int64"
      ]
     },
     "execution_count": 67,
     "metadata": {},
     "output_type": "execute_result"
    }
   ],
   "source": [
    "test_y.value_counts()"
   ]
  },
  {
   "cell_type": "code",
   "execution_count": 68,
   "metadata": {
    "collapsed": false,
    "inputHidden": false,
    "jupyter": {
     "outputs_hidden": false
    },
    "outputHidden": false
   },
   "outputs": [],
   "source": [
    "train = pd.DataFrame(X)\n",
    "train['category'] = train_y"
   ]
  },
  {
   "cell_type": "code",
   "execution_count": 71,
   "metadata": {
    "collapsed": false,
    "inputHidden": false,
    "jupyter": {
     "outputs_hidden": false
    },
    "outputHidden": false
   },
   "outputs": [
    {
     "name": "stdout",
     "output_type": "stream",
     "text": [
      "/Users/jsokoll/Desktop\n"
     ]
    }
   ],
   "source": [
    "%cd /Users/jsokoll/Desktop"
   ]
  },
  {
   "cell_type": "code",
   "execution_count": 72,
   "metadata": {
    "collapsed": false,
    "inputHidden": false,
    "jupyter": {
     "outputs_hidden": false
    },
    "outputHidden": false
   },
   "outputs": [],
   "source": [
    "train.to_csv('train.csv',header=True,index=True,index_label='id')"
   ]
  },
  {
   "cell_type": "code",
   "execution_count": 73,
   "metadata": {
    "collapsed": false,
    "inputHidden": false,
    "jupyter": {
     "outputs_hidden": false
    },
    "outputHidden": false
   },
   "outputs": [],
   "source": [
    "test = pd.DataFrame(test_x)"
   ]
  },
  {
   "cell_type": "code",
   "execution_count": 155,
   "metadata": {
    "collapsed": false,
    "inputHidden": false,
    "jupyter": {
     "outputs_hidden": false
    },
    "outputHidden": false
   },
   "outputs": [],
   "source": [
    "test.to_csv('test.csv',header=True,index=True,index_label='id')"
   ]
  },
  {
   "cell_type": "code",
   "execution_count": 77,
   "metadata": {
    "collapsed": false,
    "inputHidden": false,
    "jupyter": {
     "outputs_hidden": false
    },
    "outputHidden": false
   },
   "outputs": [],
   "source": [
    "validation = pd.DataFrame({'id':test_y.index.values,'category':test_y})"
   ]
  },
  {
   "cell_type": "code",
   "execution_count": 79,
   "metadata": {
    "collapsed": false,
    "inputHidden": false,
    "jupyter": {
     "outputs_hidden": false
    },
    "outputHidden": false
   },
   "outputs": [
    {
     "data": {
      "text/html": [
       "<div>\n",
       "<style scoped>\n",
       "    .dataframe tbody tr th:only-of-type {\n",
       "        vertical-align: middle;\n",
       "    }\n",
       "\n",
       "    .dataframe tbody tr th {\n",
       "        vertical-align: top;\n",
       "    }\n",
       "\n",
       "    .dataframe thead th {\n",
       "        text-align: right;\n",
       "    }\n",
       "</style>\n",
       "<table border=\"1\" class=\"dataframe\">\n",
       "  <thead>\n",
       "    <tr style=\"text-align: right;\">\n",
       "      <th></th>\n",
       "      <th>id</th>\n",
       "      <th>category</th>\n",
       "    </tr>\n",
       "  </thead>\n",
       "  <tbody>\n",
       "    <tr>\n",
       "      <th>955</th>\n",
       "      <td>955</td>\n",
       "      <td>2</td>\n",
       "    </tr>\n",
       "    <tr>\n",
       "      <th>3532</th>\n",
       "      <td>3532</td>\n",
       "      <td>2</td>\n",
       "    </tr>\n",
       "    <tr>\n",
       "      <th>1390</th>\n",
       "      <td>1390</td>\n",
       "      <td>4</td>\n",
       "    </tr>\n",
       "    <tr>\n",
       "      <th>1024</th>\n",
       "      <td>1024</td>\n",
       "      <td>1</td>\n",
       "    </tr>\n",
       "    <tr>\n",
       "      <th>1902</th>\n",
       "      <td>1902</td>\n",
       "      <td>1</td>\n",
       "    </tr>\n",
       "  </tbody>\n",
       "</table>\n",
       "</div>"
      ],
      "text/plain": [
       "        id  category\n",
       "955    955         2\n",
       "3532  3532         2\n",
       "1390  1390         4\n",
       "1024  1024         1\n",
       "1902  1902         1"
      ]
     },
     "execution_count": 79,
     "metadata": {},
     "output_type": "execute_result"
    }
   ],
   "source": [
    "validation.head()"
   ]
  },
  {
   "cell_type": "code",
   "execution_count": 80,
   "metadata": {
    "collapsed": false,
    "inputHidden": false,
    "jupyter": {
     "outputs_hidden": false
    },
    "outputHidden": false
   },
   "outputs": [],
   "source": [
    "validation.to_csv('validation.csv', index=False, header=True)"
   ]
  },
  {
   "cell_type": "code",
   "execution_count": 81,
   "metadata": {
    "collapsed": false,
    "inputHidden": false,
    "jupyter": {
     "outputs_hidden": false
    },
    "outputHidden": false
   },
   "outputs": [],
   "source": [
    "sample = validation.copy()"
   ]
  },
  {
   "cell_type": "code",
   "execution_count": 82,
   "metadata": {
    "collapsed": false,
    "inputHidden": false,
    "jupyter": {
     "outputs_hidden": false
    },
    "outputHidden": false
   },
   "outputs": [],
   "source": [
    "from random import randint\n",
    "sample['category'] = sample['category'].apply(lambda x: randint(1,4))"
   ]
  },
  {
   "cell_type": "code",
   "execution_count": 83,
   "metadata": {
    "collapsed": false,
    "inputHidden": false,
    "jupyter": {
     "outputs_hidden": false
    },
    "outputHidden": false
   },
   "outputs": [
    {
     "data": {
      "text/html": [
       "<div>\n",
       "<style scoped>\n",
       "    .dataframe tbody tr th:only-of-type {\n",
       "        vertical-align: middle;\n",
       "    }\n",
       "\n",
       "    .dataframe tbody tr th {\n",
       "        vertical-align: top;\n",
       "    }\n",
       "\n",
       "    .dataframe thead th {\n",
       "        text-align: right;\n",
       "    }\n",
       "</style>\n",
       "<table border=\"1\" class=\"dataframe\">\n",
       "  <thead>\n",
       "    <tr style=\"text-align: right;\">\n",
       "      <th></th>\n",
       "      <th>id</th>\n",
       "      <th>category</th>\n",
       "    </tr>\n",
       "  </thead>\n",
       "  <tbody>\n",
       "    <tr>\n",
       "      <th>955</th>\n",
       "      <td>955</td>\n",
       "      <td>1</td>\n",
       "    </tr>\n",
       "    <tr>\n",
       "      <th>3532</th>\n",
       "      <td>3532</td>\n",
       "      <td>3</td>\n",
       "    </tr>\n",
       "    <tr>\n",
       "      <th>1390</th>\n",
       "      <td>1390</td>\n",
       "      <td>2</td>\n",
       "    </tr>\n",
       "    <tr>\n",
       "      <th>1024</th>\n",
       "      <td>1024</td>\n",
       "      <td>4</td>\n",
       "    </tr>\n",
       "    <tr>\n",
       "      <th>1902</th>\n",
       "      <td>1902</td>\n",
       "      <td>2</td>\n",
       "    </tr>\n",
       "  </tbody>\n",
       "</table>\n",
       "</div>"
      ],
      "text/plain": [
       "        id  category\n",
       "955    955         1\n",
       "3532  3532         3\n",
       "1390  1390         2\n",
       "1024  1024         4\n",
       "1902  1902         2"
      ]
     },
     "execution_count": 83,
     "metadata": {},
     "output_type": "execute_result"
    }
   ],
   "source": [
    "sample.head()"
   ]
  },
  {
   "cell_type": "code",
   "execution_count": 84,
   "metadata": {
    "collapsed": false,
    "inputHidden": false,
    "jupyter": {
     "outputs_hidden": false
    },
    "outputHidden": false
   },
   "outputs": [],
   "source": [
    "sample.to_csv('sample_submission.csv', index=False, header=True)"
   ]
  },
  {
   "cell_type": "code",
   "execution_count": 85,
   "metadata": {
    "collapsed": false,
    "inputHidden": false,
    "jupyter": {
     "outputs_hidden": false
    },
    "outputHidden": false
   },
   "outputs": [
    {
     "data": {
      "text/html": [
       "<div>\n",
       "<style scoped>\n",
       "    .dataframe tbody tr th:only-of-type {\n",
       "        vertical-align: middle;\n",
       "    }\n",
       "\n",
       "    .dataframe tbody tr th {\n",
       "        vertical-align: top;\n",
       "    }\n",
       "\n",
       "    .dataframe thead th {\n",
       "        text-align: right;\n",
       "    }\n",
       "</style>\n",
       "<table border=\"1\" class=\"dataframe\">\n",
       "  <thead>\n",
       "    <tr style=\"text-align: right;\">\n",
       "      <th></th>\n",
       "      <th>author</th>\n",
       "      <th>description</th>\n",
       "      <th>price</th>\n",
       "      <th>ratingValue</th>\n",
       "      <th>pert_alcohol</th>\n",
       "    </tr>\n",
       "  </thead>\n",
       "  <tbody>\n",
       "    <tr>\n",
       "      <th>955</th>\n",
       "      <td>Fred Minnick</td>\n",
       "      <td>Think carnival aromas—the good ones, anyway—me...</td>\n",
       "      <td>36.0</td>\n",
       "      <td>90</td>\n",
       "      <td>50.0</td>\n",
       "    </tr>\n",
       "    <tr>\n",
       "      <th>3532</th>\n",
       "      <td>Lew Bryson</td>\n",
       "      <td>A blend of three bourbons, between 6 and 12 ye...</td>\n",
       "      <td>90.0</td>\n",
       "      <td>82</td>\n",
       "      <td>49.3</td>\n",
       "    </tr>\n",
       "    <tr>\n",
       "      <th>1390</th>\n",
       "      <td>Davin de Kergommeaux</td>\n",
       "      <td>The nose is focused on cereal, hints of fresh ...</td>\n",
       "      <td>48.0</td>\n",
       "      <td>89</td>\n",
       "      <td>45.0</td>\n",
       "    </tr>\n",
       "    <tr>\n",
       "      <th>1024</th>\n",
       "      <td>Gavin Smith</td>\n",
       "      <td>Swiss-based Chapter 7 released this 19 year ol...</td>\n",
       "      <td>180.0</td>\n",
       "      <td>90</td>\n",
       "      <td>55.8</td>\n",
       "    </tr>\n",
       "    <tr>\n",
       "      <th>1902</th>\n",
       "      <td>Gavin Smith</td>\n",
       "      <td>Valkyrie replaces the current Dark Origins exp...</td>\n",
       "      <td>71.0</td>\n",
       "      <td>87</td>\n",
       "      <td>45.9</td>\n",
       "    </tr>\n",
       "  </tbody>\n",
       "</table>\n",
       "</div>"
      ],
      "text/plain": [
       "                    author                                        description  \\\n",
       "955           Fred Minnick  Think carnival aromas—the good ones, anyway—me...   \n",
       "3532            Lew Bryson  A blend of three bourbons, between 6 and 12 ye...   \n",
       "1390  Davin de Kergommeaux  The nose is focused on cereal, hints of fresh ...   \n",
       "1024           Gavin Smith  Swiss-based Chapter 7 released this 19 year ol...   \n",
       "1902           Gavin Smith  Valkyrie replaces the current Dark Origins exp...   \n",
       "\n",
       "      price ratingValue  pert_alcohol  \n",
       "955    36.0          90          50.0  \n",
       "3532   90.0          82          49.3  \n",
       "1390   48.0          89          45.0  \n",
       "1024  180.0          90          55.8  \n",
       "1902   71.0          87          45.9  "
      ]
     },
     "execution_count": 85,
     "metadata": {},
     "output_type": "execute_result"
    }
   ],
   "source": [
    "test.head()"
   ]
  },
  {
   "cell_type": "code",
   "execution_count": 87,
   "metadata": {
    "collapsed": false,
    "inputHidden": false,
    "jupyter": {
     "outputs_hidden": false
    },
    "outputHidden": false
   },
   "outputs": [
    {
     "data": {
      "text/plain": [
       "John Hansell              992\n",
       "Gavin Smith               642\n",
       "Dave Broom                446\n",
       "Lew Bryson                280\n",
       "Davin de Kergommeaux      181\n",
       "Fred Minnick              133\n",
       "Jeffery Lindenmuth         90\n",
       "Geoffrey Kleinman          64\n",
       "Dominic Roskrow            22\n",
       "Jonny McCormick            17\n",
       "Susannah Skiver Barton      6\n",
       "Adam Polonski               1\n",
       "Name: author, dtype: int64"
      ]
     },
     "execution_count": 87,
     "metadata": {},
     "output_type": "execute_result"
    }
   ],
   "source": [
    "train.author.value_counts()"
   ]
  },
  {
   "cell_type": "code",
   "execution_count": 134,
   "metadata": {
    "collapsed": false,
    "inputHidden": false,
    "jupyter": {
     "outputs_hidden": false
    },
    "outputHidden": false
   },
   "outputs": [],
   "source": [
    "train = train[-train['category'].isna()]"
   ]
  },
  {
   "cell_type": "code",
   "execution_count": 135,
   "metadata": {
    "collapsed": false,
    "inputHidden": false,
    "jupyter": {
     "outputs_hidden": false
    },
    "outputHidden": false
   },
   "outputs": [],
   "source": [
    "from sklearn.feature_extraction.text import TfidfVectorizer"
   ]
  },
  {
   "cell_type": "code",
   "execution_count": 136,
   "metadata": {
    "collapsed": false,
    "inputHidden": false,
    "jupyter": {
     "outputs_hidden": false
    },
    "outputHidden": false
   },
   "outputs": [],
   "source": [
    "vectorizer = TfidfVectorizer(min_df=20,\n",
    "                             max_df=.85,\n",
    "                             lowercase=True,\n",
    "                             stop_words='english',\n",
    "                             ngram_range=(1,2))"
   ]
  },
  {
   "cell_type": "code",
   "execution_count": 137,
   "metadata": {
    "collapsed": false,
    "inputHidden": false,
    "jupyter": {
     "outputs_hidden": false
    },
    "outputHidden": false
   },
   "outputs": [],
   "source": [
    "dtm = vectorizer.fit_transform(train['description'])"
   ]
  },
  {
   "cell_type": "code",
   "execution_count": 138,
   "metadata": {
    "collapsed": false,
    "inputHidden": false,
    "jupyter": {
     "outputs_hidden": false
    },
    "outputHidden": false
   },
   "outputs": [
    {
     "data": {
      "text/plain": [
       "<2586x1128 sparse matrix of type '<class 'numpy.float64'>'\n",
       "\twith 86015 stored elements in Compressed Sparse Row format>"
      ]
     },
     "execution_count": 138,
     "metadata": {},
     "output_type": "execute_result"
    }
   ],
   "source": [
    "dtm"
   ]
  },
  {
   "cell_type": "code",
   "execution_count": 139,
   "metadata": {
    "collapsed": false,
    "inputHidden": false,
    "jupyter": {
     "outputs_hidden": false
    },
    "outputHidden": false
   },
   "outputs": [],
   "source": [
    "dtm = pd.DataFrame(dtm.todense())\n",
    "dtm.columns = vectorizer.get_feature_names()\n",
    "dtm = dtm.set_index(train.index)"
   ]
  },
  {
   "cell_type": "code",
   "execution_count": 151,
   "metadata": {
    "collapsed": false,
    "inputHidden": false,
    "jupyter": {
     "outputs_hidden": false
    },
    "outputHidden": false
   },
   "outputs": [],
   "source": [
    "from sklearn.decomposition import TruncatedSVD\n",
    "from sklearn.pipeline import make_pipeline\n",
    "from sklearn.preprocessing import Normalizer\n",
    "from sklearn.metrics import accuracy_score\n",
    "from sklearn.model_selection import train_test_split"
   ]
  },
  {
   "cell_type": "code",
   "execution_count": 197,
   "metadata": {
    "collapsed": false,
    "inputHidden": false,
    "jupyter": {
     "outputs_hidden": false
    },
    "outputHidden": false
   },
   "outputs": [],
   "source": [
    "svd = TruncatedSVD(50)\n",
    "normalizer = Normalizer(copy=False)\n",
    "lsa = make_pipeline(svd, normalizer)"
   ]
  },
  {
   "cell_type": "code",
   "execution_count": 198,
   "metadata": {
    "collapsed": false,
    "inputHidden": false,
    "jupyter": {
     "outputs_hidden": false
    },
    "outputHidden": false
   },
   "outputs": [],
   "source": [
    "prepare = make_pipeline(vectorizer,svd,normalizer)"
   ]
  },
  {
   "cell_type": "code",
   "execution_count": 199,
   "metadata": {
    "collapsed": false,
    "inputHidden": false,
    "jupyter": {
     "outputs_hidden": false
    },
    "outputHidden": false
   },
   "outputs": [],
   "source": [
    "X_lsa = lsa.fit_transform(dtm)"
   ]
  },
  {
   "cell_type": "code",
   "execution_count": 201,
   "metadata": {
    "collapsed": false,
    "inputHidden": false,
    "jupyter": {
     "outputs_hidden": false
    },
    "outputHidden": false
   },
   "outputs": [],
   "source": [
    "lsa_df = pd.DataFrame(X_lsa)\n",
    "lsa_df = lsa_df.set_index(train.index)"
   ]
  },
  {
   "cell_type": "code",
   "execution_count": null,
   "metadata": {
    "collapsed": false,
    "inputHidden": false,
    "jupyter": {
     "outputs_hidden": false
    },
    "outputHidden": false
   },
   "outputs": [],
   "source": [
    "train['ratingValue']"
   ]
  },
  {
   "cell_type": "code",
   "execution_count": 210,
   "metadata": {
    "collapsed": false,
    "inputHidden": false,
    "jupyter": {
     "outputs_hidden": false
    },
    "outputHidden": false
   },
   "outputs": [],
   "source": [
    "X = train[['price','pert_alcohol']].join(lsa_df)\n",
    "y = train['category']"
   ]
  },
  {
   "cell_type": "code",
   "execution_count": 211,
   "metadata": {
    "collapsed": false,
    "inputHidden": false,
    "jupyter": {
     "outputs_hidden": false
    },
    "outputHidden": false
   },
   "outputs": [],
   "source": [
    "X_train, X_test, y_train, y_test = train_test_split(X,y)"
   ]
  },
  {
   "cell_type": "code",
   "execution_count": 212,
   "metadata": {
    "collapsed": false,
    "inputHidden": false,
    "jupyter": {
     "outputs_hidden": false
    },
    "outputHidden": false
   },
   "outputs": [],
   "source": [
    "from xgboost import XGBClassifier"
   ]
  },
  {
   "cell_type": "code",
   "execution_count": 213,
   "metadata": {
    "collapsed": false,
    "inputHidden": false,
    "jupyter": {
     "outputs_hidden": false
    },
    "outputHidden": false
   },
   "outputs": [
    {
     "data": {
      "text/plain": [
       "XGBClassifier(base_score=0.5, booster='gbtree', colsample_bylevel=1,\n",
       "       colsample_bytree=1, gamma=0, learning_rate=0.1, max_delta_step=0,\n",
       "       max_depth=3, min_child_weight=1, missing=None, n_estimators=100,\n",
       "       n_jobs=1, nthread=None, objective='multi:softprob', random_state=0,\n",
       "       reg_alpha=0, reg_lambda=1, scale_pos_weight=1, seed=None,\n",
       "       silent=True, subsample=1)"
      ]
     },
     "execution_count": 213,
     "metadata": {},
     "output_type": "execute_result"
    }
   ],
   "source": [
    "model = XGBClassifier()\n",
    "model.fit(X_train,y_train)"
   ]
  },
  {
   "cell_type": "code",
   "execution_count": 214,
   "metadata": {
    "collapsed": false,
    "inputHidden": false,
    "jupyter": {
     "outputs_hidden": false
    },
    "outputHidden": false
   },
   "outputs": [
    {
     "name": "stdout",
     "output_type": "stream",
     "text": [
      "0.9180834621329211\n"
     ]
    }
   ],
   "source": [
    "y_pred = model.predict(X_test)\n",
    "accuracy = accuracy_score(y_test,y_pred)\n",
    "print(accuracy)"
   ]
  },
  {
   "cell_type": "code",
   "execution_count": 215,
   "metadata": {
    "collapsed": false,
    "inputHidden": false,
    "jupyter": {
     "outputs_hidden": false
    },
    "outputHidden": false
   },
   "outputs": [],
   "source": [
    "X_val = vectorizer.transform(test['description'])\n",
    "X_val_lsa = lsa.transform(X_val)"
   ]
  },
  {
   "cell_type": "code",
   "execution_count": 216,
   "metadata": {
    "collapsed": false,
    "inputHidden": false,
    "jupyter": {
     "outputs_hidden": false
    },
    "outputHidden": false
   },
   "outputs": [],
   "source": [
    "val_lsa_df = pd.DataFrame(X_val_lsa)\n",
    "val_lsa_df = val_lsa_df.set_index(test.index)\n",
    "X = test[['price','pert_alcohol']].join(val_lsa_df)"
   ]
  },
  {
   "cell_type": "code",
   "execution_count": 186,
   "metadata": {
    "collapsed": false,
    "inputHidden": false,
    "jupyter": {
     "outputs_hidden": false
    },
    "outputHidden": false
   },
   "outputs": [],
   "source": [
    "pred_test = model.predict(X)"
   ]
  },
  {
   "cell_type": "code",
   "execution_count": 189,
   "metadata": {
    "collapsed": false,
    "inputHidden": false,
    "jupyter": {
     "outputs_hidden": false
    },
    "outputHidden": false
   },
   "outputs": [],
   "source": [
    "sub = pd.DataFrame({'id':test.index.values,'category':pred_test})"
   ]
  },
  {
   "cell_type": "code",
   "execution_count": 191,
   "metadata": {
    "collapsed": false,
    "inputHidden": false,
    "jupyter": {
     "outputs_hidden": false
    },
    "outputHidden": false
   },
   "outputs": [],
   "source": [
    "sub['category'] = sub['category'].astype('int')"
   ]
  },
  {
   "cell_type": "code",
   "execution_count": 192,
   "metadata": {
    "collapsed": false,
    "inputHidden": false,
    "jupyter": {
     "outputs_hidden": false
    },
    "outputHidden": false
   },
   "outputs": [
    {
     "data": {
      "text/html": [
       "<div>\n",
       "<style scoped>\n",
       "    .dataframe tbody tr th:only-of-type {\n",
       "        vertical-align: middle;\n",
       "    }\n",
       "\n",
       "    .dataframe tbody tr th {\n",
       "        vertical-align: top;\n",
       "    }\n",
       "\n",
       "    .dataframe thead th {\n",
       "        text-align: right;\n",
       "    }\n",
       "</style>\n",
       "<table border=\"1\" class=\"dataframe\">\n",
       "  <thead>\n",
       "    <tr style=\"text-align: right;\">\n",
       "      <th></th>\n",
       "      <th>id</th>\n",
       "      <th>category</th>\n",
       "    </tr>\n",
       "  </thead>\n",
       "  <tbody>\n",
       "    <tr>\n",
       "      <th>0</th>\n",
       "      <td>955</td>\n",
       "      <td>2</td>\n",
       "    </tr>\n",
       "    <tr>\n",
       "      <th>1</th>\n",
       "      <td>3532</td>\n",
       "      <td>3</td>\n",
       "    </tr>\n",
       "    <tr>\n",
       "      <th>2</th>\n",
       "      <td>1390</td>\n",
       "      <td>1</td>\n",
       "    </tr>\n",
       "    <tr>\n",
       "      <th>3</th>\n",
       "      <td>1024</td>\n",
       "      <td>1</td>\n",
       "    </tr>\n",
       "    <tr>\n",
       "      <th>4</th>\n",
       "      <td>1902</td>\n",
       "      <td>1</td>\n",
       "    </tr>\n",
       "  </tbody>\n",
       "</table>\n",
       "</div>"
      ],
      "text/plain": [
       "     id  category\n",
       "0   955         2\n",
       "1  3532         3\n",
       "2  1390         1\n",
       "3  1024         1\n",
       "4  1902         1"
      ]
     },
     "execution_count": 192,
     "metadata": {},
     "output_type": "execute_result"
    }
   ],
   "source": [
    "sub.head()"
   ]
  },
  {
   "cell_type": "code",
   "execution_count": 193,
   "metadata": {
    "collapsed": false,
    "inputHidden": false,
    "jupyter": {
     "outputs_hidden": false
    },
    "outputHidden": false
   },
   "outputs": [],
   "source": [
    "sub.to_csv('submission1.csv',header=True,index=False)"
   ]
  }
 ],
 "metadata": {
  "kernel_info": {
   "name": "python3"
  },
  "kernelspec": {
   "display_name": "Python 3",
   "language": "python",
   "name": "python3"
  },
  "language_info": {
   "codemirror_mode": {
    "name": "ipython",
    "version": 3
   },
   "file_extension": ".py",
   "mimetype": "text/x-python",
   "name": "python",
   "nbconvert_exporter": "python",
   "pygments_lexer": "ipython3",
   "version": "3.7.3"
  },
  "nteract": {
   "version": "0.15.0"
  }
 },
 "nbformat": 4,
 "nbformat_minor": 4
}
